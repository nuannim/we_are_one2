{
 "cells": [
  {
   "cell_type": "markdown",
   "id": "3d809102",
   "metadata": {},
   "source": [
    "# Writing your first view\n",
    "\n",
    "ก่อนจะไปสร้าง view เรามาทำการ setup project \"week7_tutorial\" และสร้าง app \"polls\" กันก่อน\n",
    "และทำการ copy models เหล่านี้ลงไปที่ `polls/models.py`"
   ]
  },
  {
   "cell_type": "code",
   "execution_count": null,
   "id": "f9fa2108",
   "metadata": {},
   "outputs": [],
   "source": [
    "from django.db import models\n",
    "\n",
    "class Question(models.Model):\n",
    "    question_text = models.CharField(max_length=200)\n",
    "    pub_date = models.DateTimeField(\"date published\")\n",
    "\n",
    "    def __str__(self):\n",
    "        return self.question_text\n",
    "\n",
    "\n",
    "class Choice(models.Model):\n",
    "    question = models.ForeignKey(Question, on_delete=models.CASCADE)\n",
    "    choice_text = models.CharField(max_length=200)\n",
    "    votes = models.IntegerField(default=0)\n",
    "\n",
    "    def __str__(self):\n",
    "        return self.choice_text"
   ]
  },
  {
   "cell_type": "markdown",
   "id": "fa3f55c9",
   "metadata": {},
   "source": [
    "จากนั้นก็ `makemigrations` และ `migrate` และทำการ import `polls.sql` เข้าไปใน database\n",
    "\n",
    "## Let's start!\n",
    "\n",
    "สำหรับ poll application เราสร้างจะ views ดังต่อไปนี้\n",
    "\n",
    "- Question “index” page – แสดงรายการ questions ล่าสุด\n",
    "- Question “detail” page – แสดง question text และตัวเลือก\n",
    "- Vote action – สำหรับทำการ vote\n",
    "\n",
    "เรามาเริ่มต้นด้วยการเพิ่ม code ด้านล่างนี้ใน `/polls/views.py`"
   ]
  },
  {
   "cell_type": "code",
   "execution_count": null,
   "id": "b4b9dd90",
   "metadata": {},
   "outputs": [],
   "source": [
    "from django.http import HttpResponse\n",
    "\n",
    "def index(request):\n",
    "    return HttpResponse(\"This is the index page of polls app\")\n",
    "\n",
    "def detail(request, question_id):\n",
    "    return HttpResponse(\"You're looking at question %s.\" % question_id)\n",
    "\n",
    "\n",
    "def vote(request, question_id):\n",
    "    return HttpResponse(\"You're voting on question %s.\" % question_id)"
   ]
  },
  {
   "cell_type": "markdown",
   "id": "4288513f",
   "metadata": {},
   "source": [
    "กำหนด path สำหรับเข้าถึง `urls.py` ของ app polls ใน `week7_tutorial/urls.py`"
   ]
  },
  {
   "cell_type": "code",
   "execution_count": null,
   "id": "38eba20a",
   "metadata": {},
   "outputs": [],
   "source": [
    "...\n",
    "\n",
    "urlpatterns = [\n",
    "    path(\"admin/\", admin.site.urls),\n",
    "    path(\"polls/\", include(\"polls.urls\")),\n",
    "]"
   ]
  },
  {
   "cell_type": "markdown",
   "id": "7829c74b",
   "metadata": {},
   "source": [
    "กำหนด path url สำหรับเข้าถึง views ด้านบน `/polls/urls.py`"
   ]
  },
  {
   "cell_type": "code",
   "execution_count": null,
   "id": "095fe42f",
   "metadata": {},
   "outputs": [],
   "source": [
    "from django.urls import path\n",
    "\n",
    "from . import views\n",
    "\n",
    "urlpatterns = [\n",
    "    # ex: /polls/\n",
    "    path(\"\", views.index, name=\"index\"),\n",
    "    # ex: /polls/5/\n",
    "    path(\"<int:question_id>/\", views.detail, name=\"detail\"),\n",
    "    # ex: /polls/5/vote/\n",
    "    path(\"<int:question_id>/vote/\", views.vote, name=\"vote\"),\n",
    "]"
   ]
  },
  {
   "cell_type": "markdown",
   "id": "3fff2ad7",
   "metadata": {},
   "source": [
    "หมายเหตุ: <int:question_id> เป็นการประกาศ path parameter ซึ่งจะรับค่าตัวแปรที่ถูกส่งมาใน url\n",
    "\n",
    "## Write views that actually do something\n",
    "\n",
    "เรามาปรับแก้ไข view index() ให้ทำการ query ข้อมูล question 5 รายการล่าสุด เรียงตาม pub_date แบบจากมากไปน้อย"
   ]
  },
  {
   "cell_type": "code",
   "execution_count": null,
   "id": "3bba2e0a",
   "metadata": {},
   "outputs": [],
   "source": [
    "from django.shortcuts import render\n",
    "\n",
    "from .models import Question\n",
    "\n",
    "\n",
    "def index(request):\n",
    "    latest_question_list = Question.objects.order_by(\"-pub_date\")[:5]\n",
    "    context = {\"latest_question_list\": latest_question_list}\n",
    "    return render(request, \"index.html\", context)\n",
    "\n",
    "# Leave the rest of the views (detail, results, vote) unchanged"
   ]
  },
  {
   "cell_type": "markdown",
   "id": "cacf9884",
   "metadata": {},
   "source": [
    "ใน view index() เราได้ทำการ return list ของ questions ออกมา และส่งต่อข้อมูลไปยัง `/polls/index.html`\n",
    "\n",
    "เอ้ะแต่ไฟล์ `/polls/index.html` มันอยู่ไหน ไม่เห็นมี @_@\n",
    "\n",
    "เราจะต้องไปสร้างไฟล์ **template** ก่อน โดยสร้าง folder `/polls/templates` และสร้างไฟล์ `/polls/templates/index.html` และเพิ่ม code ด้านล่าง"
   ]
  },
  {
   "cell_type": "code",
   "execution_count": null,
   "id": "b238d81e",
   "metadata": {},
   "outputs": [],
   "source": [
    "%%html\n",
    "<html>\n",
    "    <head>\n",
    "    </head>\n",
    "    <body>\n",
    "        <h1>Lastest questions</h1>\n",
    "        {% if latest_question_list %}\n",
    "            <ul>\n",
    "            {% for question in latest_question_list %}\n",
    "                <li><a href=\"/polls/{{ question.id }}/\">{{ question.question_text }}</a></li>\n",
    "            {% endfor %}\n",
    "            </ul>\n",
    "        {% else %}\n",
    "            <p>No polls are available.</p>\n",
    "        {% endif %}\n",
    "    </body>\n",
    "</html>"
   ]
  },
  {
   "cell_type": "markdown",
   "id": "e296c895",
   "metadata": {},
   "source": [
    "แก้ไขไฟล์ `mysite/settings.py` เพิ่ม code ดังนี้"
   ]
  },
  {
   "cell_type": "code",
   "execution_count": null,
   "id": "9bd34b05",
   "metadata": {},
   "outputs": [],
   "source": [
    "import os\n",
    "SETTINGS_PATH = os.path.dirname(os.path.dirname(__file__))\n",
    "\n",
    "TEMPLATE_DIRS = (\n",
    "    os.path.join(SETTINGS_PATH, 'templates'),\n",
    ")"
   ]
  },
  {
   "cell_type": "markdown",
   "id": "640daf3a",
   "metadata": {},
   "source": [
    "เรามาลอง start server ดูว่าหน้า index สามารถใช้งานได้ไหม\n",
    "\n",
    "เปิด browser และพิมพ์ url `http://127.0.0.1:8000/polls/`\n",
    "จะเห็นว่ามีรายการ questions แสดงขึ้นมา 5 รายการ\n",
    "\n",
    "เรามาทำให้ view อื่นๆ ใช้งานได้กัน"
   ]
  },
  {
   "cell_type": "code",
   "execution_count": null,
   "id": "168ec1c5",
   "metadata": {},
   "outputs": [],
   "source": [
    "from django.shortcuts import render, redirect\n",
    "\n",
    "from .models import Question, Choice\n",
    "\n",
    "def index(request):\n",
    "    latest_question_list = Question.objects.order_by(\"-pub_date\")[:5]\n",
    "    context = {\"latest_question_list\": latest_question_list}\n",
    "    return render(request, \"index.html\", context)\n",
    "\n",
    "def detail(request, question_id):\n",
    "    question = Question.objects.get(pk=question_id)\n",
    "    return render(request, \"detail.html\", {\n",
    "        \"question\": question,\n",
    "        \"choices\": question.choice_set.all().order_by(\"choice_text\")\n",
    "    })\n",
    "\n",
    "def vote(request, question_id):\n",
    "    question = Question.objects.get(pk=question_id)\n",
    "\n",
    "    if request.method == \"GET\":\n",
    "        return render(request, \"vote.html\", {\n",
    "            \"question\": question,\n",
    "            \"choices\": question.choice_set.all().order_by(\"choice_text\")\n",
    "        })\n",
    "    elif request.method == \"POST\":\n",
    "        choice_id = request.POST.get('choice')\n",
    "        choice = Choice.objects.get(pk=choice_id)\n",
    "        choice.votes += 1\n",
    "        choice.save()\n",
    "        return redirect(\"detail\", question_id=question_id)"
   ]
  },
  {
   "cell_type": "markdown",
   "id": "2a167d63",
   "metadata": {},
   "source": [
    "สร้างไฟล์ `/polls/templates/detail.html` และเพิ่ม code ด้านล่าง"
   ]
  },
  {
   "cell_type": "code",
   "execution_count": null,
   "id": "4c80a008",
   "metadata": {},
   "outputs": [],
   "source": [
    "%%html\n",
    "<html>\n",
    "    <head>\n",
    "    </head>\n",
    "    <body>\n",
    "        <h1>Question: {{ question.question_text }}</h1>\n",
    "        <p>Publist date: {{ question.pub_date }}</p>\n",
    "        <ul>\n",
    "        {% for choice in choices %}\n",
    "            <li>{{ choice.choice_text }} (Votes: {{choice.votes}})</li>\n",
    "        {% endfor %}\n",
    "        </ul>\n",
    "        <br/>\n",
    "            <a href=\"{% url 'vote' question.id %}\">\n",
    "            <button>Let's Vote</button>\n",
    "        </a>\n",
    "    </body>\n",
    "</html>"
   ]
  },
  {
   "cell_type": "markdown",
   "id": "4731bbe9",
   "metadata": {},
   "source": [
    "สร้างไฟล์ `/polls/templates/vote.html` และเพิ่ม code ด้านล่าง"
   ]
  },
  {
   "cell_type": "code",
   "execution_count": null,
   "id": "abf18faf",
   "metadata": {},
   "outputs": [],
   "source": [
    "%%html\n",
    "<html>\n",
    "    <head>\n",
    "    </head>\n",
    "    <body>\n",
    "        <h1>Question: {{ question.question_text }}</h1>\n",
    "        <p>Publist date: {{ question.pub_date }}</p>\n",
    "        <form action=\"/polls/{{ question.id }}/vote/\" method=\"POST\">\n",
    "            {%csrf_token%}\n",
    "            <ul>\n",
    "            {% for choice in choices %}\n",
    "                <li>\n",
    "                    <input type=\"radio\" id=\"choice{{ forloop.counter }}\" name=\"choice\" value=\"{{ choice.id }}\">\n",
    "                    <label for=\"choice{{ forloop.counter }}\">{{ choice.choice_text }}</label>\n",
    "                </li>\n",
    "            {% endfor %}\n",
    "            </ul>\n",
    "            <input type=\"submit\" value =\"VOTE\" name=\"submit\"/>\n",
    "        </form>\n",
    "    </body>\n",
    "</html>"
   ]
  },
  {
   "cell_type": "markdown",
   "id": "28aa3556",
   "metadata": {},
   "source": [
    "*เรามาเรียนรู้เพิ่มเติมเกี่ยวกับ VIEWS กัน เปิดไฟล์ `writing-views.md` กันเลยครับ*\n",
    "\n",
    "## Let's try class-based views\n",
    "\n",
    "### Class-based views คืออะไร?\n",
    "\n",
    "Class-based view นั้นโดยหลักแล้วจะมีไว้เพื่อให้เราสามารถกำหนด response สำหรับ HTTP request method ที่แตกต่างกันได้ แทนที่จะต้องมาใช้ if ดังเช่นในกรณี function-based view"
   ]
  },
  {
   "cell_type": "code",
   "execution_count": null,
   "id": "1d7db970",
   "metadata": {},
   "outputs": [],
   "source": [
    "from django.http import HttpResponse\n",
    "\n",
    "\n",
    "def my_view(request):\n",
    "    if request.method == \"GET\":\n",
    "        # <view logic>\n",
    "        return HttpResponse(\"result\")\n",
    "    elif request.method == \"POST\":\n",
    "        # <view logic>\n",
    "        return HttpResponse(status=201)"
   ]
  },
  {
   "cell_type": "markdown",
   "id": "55e21901",
   "metadata": {},
   "source": [
    "แต่ถ้าเป็น class-based view จะเขียนได้ดังนี้ ซึ่งจะเห็นว่ามีการแยก method ใน `MyView` ตาม HTTP METHOD (GET and POST) เป็นสัดส่วน ไม่ต้อง if ... elif ... เหมือนใน function-based views"
   ]
  },
  {
   "cell_type": "code",
   "execution_count": null,
   "id": "258b6a0b",
   "metadata": {},
   "outputs": [],
   "source": [
    "from django.http import HttpResponse\n",
    "from django.views import View\n",
    "\n",
    "\n",
    "class MyView(View):\n",
    "    def get(self, request):\n",
    "        # <view logic>\n",
    "        return HttpResponse(\"result\")\n",
    "    \n",
    "    def post(self, request):\n",
    "        # <view logic>\n",
    "        return HttpResponse(status=201)"
   ]
  },
  {
   "cell_type": "markdown",
   "id": "77c371d8",
   "metadata": {},
   "source": [
    "ในกรณีที่ใช้ class-based view ในไฟล์ urls.py จะต้องปรับนิดหน่อย โดยจะต้องเรียก `as_view()`"
   ]
  },
  {
   "cell_type": "code",
   "execution_count": null,
   "id": "9cf72944",
   "metadata": {},
   "outputs": [],
   "source": [
    "# urls.py\n",
    "from django.urls import path\n",
    "from myapp.views import MyView\n",
    "\n",
    "urlpatterns = [\n",
    "    path(\"about/\", MyView.as_view()),\n",
    "]"
   ]
  },
  {
   "cell_type": "markdown",
   "id": "f676f84f",
   "metadata": {},
   "source": [
    "______"
   ]
  },
  {
   "cell_type": "markdown",
   "id": "6a692daa",
   "metadata": {},
   "source": [
    "เรามาลองเปลี่ยนเป็น class-based views กันบ้างนะครับ จะเห็นว่า code เป็นระเบียบขึ้น (ผมคิดว่านะ...)\n",
    "\n",
    "**แก้ไขใน `polls.views`**"
   ]
  },
  {
   "cell_type": "code",
   "execution_count": null,
   "id": "54cc5732",
   "metadata": {},
   "outputs": [],
   "source": [
    "from django.shortcuts import render, redirect\n",
    "from django.views import View\n",
    "\n",
    "from .models import Question, Choice\n",
    "\n",
    "\n",
    "class IndexView(View):\n",
    "\n",
    "    def get(self, request):\n",
    "        latest_question_list = Question.objects.order_by(\"-pub_date\")[:5]\n",
    "        context = {\"latest_question_list\": latest_question_list}\n",
    "        return render(request, \"index.html\", context)\n",
    "\n",
    "class PollView(View):\n",
    "\n",
    "    def get(self, request, question_id):\n",
    "        question = Question.objects.get(pk=question_id)\n",
    "        return render(request, \"detail.html\", {\n",
    "            \"question\": question,\n",
    "            \"choices\": question.choice_set.all()\n",
    "        })\n",
    "\n",
    "class VoteView(View):\n",
    "\n",
    "    def get(self, request, question_id):\n",
    "        question = Question.objects.get(pk=question_id)\n",
    "        return render(request, \"vote.html\", {\n",
    "            \"question\": question,\n",
    "            \"choices\": question.choice_set.all()\n",
    "        })\n",
    "    \n",
    "    def post(self, request, question_id):\n",
    "        choice_id = request.POST.get('choice')\n",
    "        choice = Choice.objects.get(pk=choice_id)\n",
    "        choice.votes += 1\n",
    "        choice.save()\n",
    "        return redirect(\"detail\", question_id=question_id)"
   ]
  },
  {
   "cell_type": "markdown",
   "id": "b400fc4d",
   "metadata": {},
   "source": [
    "อย่าลืมไปแก้ไข `polls/urls.py` ด้วยนะครับเพิ่ม `.as_view()`"
   ]
  },
  {
   "cell_type": "code",
   "execution_count": null,
   "id": "73e3f5b8",
   "metadata": {},
   "outputs": [],
   "source": [
    "from django.urls import path\n",
    "\n",
    "from . import views\n",
    "\n",
    "urlpatterns = [\n",
    "    # ex: /polls/\n",
    "    path(\"\", views.IndexView.as_view(), name=\"index\"),\n",
    "    # ex: /polls/5/\n",
    "    path(\"<int:question_id>/\", views.PollView.as_view(), name=\"detail\"),\n",
    "    # ex: /polls/5/vote/\n",
    "    path(\"<int:question_id>/vote/\", views.VoteView.as_view(), name=\"vote\"),\n",
    "]"
   ]
  }
 ],
 "metadata": {
  "jupytext": {
   "cell_metadata_filter": "-all",
   "main_language": "python",
   "notebook_metadata_filter": "-all"
  }
 },
 "nbformat": 4,
 "nbformat_minor": 5
}
