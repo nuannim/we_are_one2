{
 "cells": [
  {
   "cell_type": "markdown",
   "id": "9e743c34",
   "metadata": {},
   "source": [
    "# Writing your first view\n",
    "\n",
    "View เป็นส่วน interface ที่ web application รับ request จาก client และ response กลับไป\n",
    "\n",
    "สำหรับ poll application เราจะ views ดังต่อไปนี้\n",
    "- Question “index” page – แสดงรายการ questions ล่าสุด\n",
    "- Question “detail” page – แสดง question text และฟอร์มสำหรับทำการโหวต\n",
    "- Question “results” page – แสดงผลลัพธ์การโหวตของ question\n",
    "- Vote action – สำหรับจัดการการโหวต\n",
    "\n",
    "เรามาเริ่มต้นด้วยการเพิ่ม code ด้านล่างนี้ใน `/polls/views.py`"
   ]
  },
  {
   "cell_type": "code",
   "execution_count": null,
   "id": "f1f11ddc",
   "metadata": {},
   "outputs": [],
   "source": [
    "from django.http import HttpResponse\n",
    "\n",
    "def index(request):\n",
    "    return HttpResponse(\"This is the index page of polls app\")\n",
    "\n",
    "def detail(request, question_id):\n",
    "    return HttpResponse(\"You're looking at question %s.\" % question_id)\n",
    "\n",
    "\n",
    "def results(request, question_id):\n",
    "    response = \"You're looking at the results of question %s.\"\n",
    "    return HttpResponse(response % question_id)\n",
    "\n",
    "\n",
    "def vote(request, question_id):\n",
    "    return HttpResponse(\"You're voting on question %s.\" % question_id)"
   ]
  },
  {
   "cell_type": "markdown",
   "id": "a499f95d",
   "metadata": {},
   "source": [
    "กำหนด path url สำหรับเข้าถึง views ด้านบน `/polls/urls.py`"
   ]
  },
  {
   "cell_type": "code",
   "execution_count": null,
   "id": "3f480962",
   "metadata": {},
   "outputs": [],
   "source": [
    "from django.urls import path\n",
    "\n",
    "from . import views\n",
    "\n",
    "urlpatterns = [\n",
    "    # ex: /polls/\n",
    "    path(\"\", views.index, name=\"index\"),\n",
    "    # ex: /polls/5/\n",
    "    path(\"<int:question_id>/\", views.detail, name=\"detail\"),\n",
    "    # ex: /polls/5/results/\n",
    "    path(\"<int:question_id>/results/\", views.results, name=\"results\"),\n",
    "    # ex: /polls/5/vote/\n",
    "    path(\"<int:question_id>/vote/\", views.vote, name=\"vote\"),\n",
    "]"
   ]
  },
  {
   "cell_type": "markdown",
   "id": "3a166dd7",
   "metadata": {},
   "source": [
    "หมายเหตุ: <int:question_id> เป็นการประกาศ path parameter ซึ่งจะรับค่าตัวแปรที่ถูกส่งมาใน url\n",
    "\n",
    "## Write views that actually do something\n",
    "\n",
    "เรามาปรับแก้ไข view index() ให้ทำการ query ข้อมูล question 5 รายการล่าสุด เรียงตาม pub_date แบบจากมากไปน้อย"
   ]
  },
  {
   "cell_type": "code",
   "execution_count": null,
   "id": "e4f8ddfb",
   "metadata": {},
   "outputs": [],
   "source": [
    "from django.http import HttpResponse\n",
    "from django.shortcuts import render\n",
    "\n",
    "from .models import Question\n",
    "\n",
    "\n",
    "def index(request):\n",
    "    latest_question_list = Question.objects.order_by(\"-pub_date\")[:5]\n",
    "    context = {\"latest_question_list\": latest_question_list}\n",
    "    return render(request, \"index.html\", context)\n",
    "\n",
    "# Leave the rest of the views (detail, results, vote) unchanged"
   ]
  },
  {
   "cell_type": "markdown",
   "id": "b279722f",
   "metadata": {},
   "source": [
    "ใน view index() เราได้ทำการ return list ของ questions ออกมา และส่งต่อข้อมูลไปยัง `/polls/index.html`\n",
    "\n",
    "เอ้ะแต่ไฟล์ `/polls/index.html` มันอยู่ไหน ไม่เห็นมี @_@\n",
    "\n",
    "เราจะต้องไปสร้างไฟล์ **template** ก่อน โดยสร้าง folder `/polls/templates` และสร้างไฟล์ `/polls/templates/index.html` และเพิ่ม code ด้านล่าง"
   ]
  },
  {
   "cell_type": "code",
   "execution_count": null,
   "id": "64c27420",
   "metadata": {
    "lines_to_next_cell": 0
   },
   "outputs": [],
   "source": [
    "%%html\n",
    "<html>\n",
    "    <head>\n",
    "    </head>\n",
    "    <body>\n",
    "        <h1>Lastest questions</h1>\n",
    "        {% if latest_question_list %}\n",
    "            <ul>\n",
    "            {% for question in latest_question_list %}\n",
    "                <li><a href=\"/polls/{{ question.id }}/\">{{ question.question_text }}</a></li>\n",
    "            {% endfor %}\n",
    "            </ul>\n",
    "        {% else %}\n",
    "            <p>No polls are available.</p>\n",
    "        {% endif %}\n",
    "    </body>\n",
    "</html>"
   ]
  },
  {
   "cell_type": "markdown",
   "id": "0432cc59",
   "metadata": {},
   "source": [
    "แก้ไขไฟล์ `mysite/settings.py` เพิ่ม code ดังนี้"
   ]
  },
  {
   "cell_type": "code",
   "execution_count": null,
   "id": "390e0f91",
   "metadata": {},
   "outputs": [],
   "source": [
    "import os\n",
    "SETTINGS_PATH = os.path.dirname(os.path.dirname(__file__))\n",
    "\n",
    "TEMPLATE_DIRS = (\n",
    "    os.path.join(SETTINGS_PATH, 'templates'),\n",
    ")"
   ]
  },
  {
   "cell_type": "markdown",
   "id": "67bd9dc6",
   "metadata": {},
   "source": [
    "เรามาลอง start server ดูว่าหน้า index สามารถใช้งานได้ไหม\n",
    "\n",
    "เปิด browser และพิมพ์ url `http://127.0.0.1:8000/polls/`\n",
    "\n",
    "## Raising a 404 error"
   ]
  },
  {
   "cell_type": "code",
   "execution_count": null,
   "id": "10717d4b",
   "metadata": {},
   "outputs": [],
   "source": [
    "from django.http import HttpResponse, Http404\n",
    "from django.shortcuts import render\n",
    "\n",
    "from .models import Question\n",
    "\n",
    "...\n",
    "\n",
    "def detail(request, question_id):\n",
    "    try:\n",
    "        question = Question.objects.get(pk=question_id)\n",
    "    except Question.DoesNotExist:\n",
    "        raise Http404(\"Question does not exist\")\n",
    "    return render(request, \"detail.html\", {\"question\": question})\n"
   ]
  },
  {
   "cell_type": "markdown",
   "id": "ba52a01c",
   "metadata": {},
   "source": [
    "สร้างไฟล์ `/polls/templates/detail.html`"
   ]
  },
  {
   "cell_type": "code",
   "execution_count": null,
   "id": "70ef3c0a",
   "metadata": {},
   "outputs": [],
   "source": [
    "%%html\n",
    "<html>\n",
    "    <head>\n",
    "    </head>\n",
    "    <body>\n",
    "        <h1>{{question.question_text}}</h1>\n",
    "        <p>Published date: {{question.pub_date}}</p>\n",
    "    </body>\n",
    "</html>"
   ]
  },
  {
   "cell_type": "markdown",
   "id": "ac90c57e",
   "metadata": {},
   "source": [
    "**Question 1: ลองเปิดหน้า detail ของ question ID=3 ว่าเกิดอะไรขึ้น**\n",
    "\n",
    "**Question 2: ลองเปิดหน้า detail ของ question ID=1 ว่าเกิดอะไรขึ้น**\n",
    "\n",
    "## Removing hardcoded URLs in templates\n",
    "\n",
    "สังเกตในไฟล์ index.html ว่าเรามีการ hardcode url บางส่วน"
   ]
  },
  {
   "cell_type": "code",
   "execution_count": null,
   "id": "9567aaa3",
   "metadata": {},
   "outputs": [],
   "source": [
    "%%html\n",
    "<li><a href=\"/polls/{{ question.id }}/\">{{ question.question_text }}</a></li>"
   ]
  },
  {
   "cell_type": "markdown",
   "id": "945bbeea",
   "metadata": {},
   "source": [
    "แต่แบบนี้ไม่ค่อยดี ถ้าเราต้องการเปลี่ยน url แล้วสมมติเรามีไฟล์ template จำนวนมากที่มีการ link มาที่ url นี้ เราจะต้องตามไปแก้ในทุกๆ ไฟล์ ดังนั้นควรทำแบบนี้จะดีกว่า"
   ]
  },
  {
   "cell_type": "code",
   "execution_count": null,
   "id": "4f28e378",
   "metadata": {},
   "outputs": [],
   "source": [
    "%%html\n",
    "<li><a href=\"{% url 'detail' question.id %}\">{{ question.question_text }}</a></li>"
   ]
  },
  {
   "cell_type": "markdown",
   "id": "e0d69fe7",
   "metadata": {},
   "source": [
    "เราใช้ template tag `url` โดยกำหนดว่าให้ render path ของ path name=\"detail\"\n",
    "\n",
    "ลองย้อนกลับไปดูในไฟล์ `/polls/urls.py` จะเห็นว่าเรามีการตั้งชื่อของ path เอาไว้จึงสามารถใช้อ้างอิงถึงในไฟล์ template ได้"
   ]
  },
  {
   "cell_type": "code",
   "execution_count": null,
   "id": "865b65ce",
   "metadata": {},
   "outputs": [],
   "source": [
    "# the 'name' value as called by the {% url %} template tag\n",
    "path(\"<int:question_id>/\", views.detail, name=\"detail\"),"
   ]
  }
 ],
 "metadata": {
  "jupytext": {
   "cell_metadata_filter": "-all",
   "main_language": "python",
   "notebook_metadata_filter": "-all"
  }
 },
 "nbformat": 4,
 "nbformat_minor": 5
}
