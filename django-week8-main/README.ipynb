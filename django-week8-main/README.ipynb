{
 "cells": [
  {
   "cell_type": "markdown",
   "id": "e2668f55",
   "metadata": {},
   "source": [
    "# Django Templates\n",
    "\n",
    "- The Django template language [Ref](https://docs.djangoproject.com/en/5.1/ref/templates/language/)\n",
    "- Built-in template tags and filters [Ref](https://docs.djangoproject.com/en/5.1/ref/templates/builtins/)\n",
    "- Managing static files [Ref](https://docs.djangoproject.com/en/5.0/howto/static-files/)\n",
    "- Tutorial"
   ]
  }
 ],
 "metadata": {
  "jupytext": {
   "cell_metadata_filter": "-all",
   "main_language": "python",
   "notebook_metadata_filter": "-all"
  }
 },
 "nbformat": 4,
 "nbformat_minor": 5
}
