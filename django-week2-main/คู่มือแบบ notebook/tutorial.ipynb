{
 "cells": [
  {
   "cell_type": "markdown",
   "id": "c262a1da",
   "metadata": {
    "lines_to_next_cell": 0
   },
   "source": [
    "# Writing your first Django app, part 1\n",
    "\n",
    "## Creating a project\n",
    "\n",
    "สร้าง project ชื่อ `mysite` ด้วย command"
   ]
  },
  {
   "cell_type": "code",
   "execution_count": null,
   "id": "619d34b7",
   "metadata": {},
   "outputs": [],
   "source": [
    "> django-admin startproject mysite"
   ]
  },
  {
   "cell_type": "markdown",
   "id": "ec395637",
   "metadata": {
    "lines_to_next_cell": 0
   },
   "source": [
    "คำสั่งนี้จะสร้าง files ต่างๆ ดังนี้"
   ]
  },
  {
   "cell_type": "code",
   "execution_count": null,
   "id": "34a12e79",
   "metadata": {},
   "outputs": [],
   "source": [
    "%%python\n",
    "mysite/\n",
    "    manage.py\n",
    "    mysite/\n",
    "        __init__.py\n",
    "        settings.py # สำหรับตั้งค่า project\n",
    "        urls.py # สำหรับกำหนด path url\n",
    "        asgi.py\n",
    "        wsgi.py"
   ]
  },
  {
   "cell_type": "markdown",
   "id": "c71561b7",
   "metadata": {},
   "source": [
    "จากนั้นลองทดสอบ run server ขึ้นมาด้วยคำสั่ง"
   ]
  },
  {
   "cell_type": "code",
   "execution_count": null,
   "id": "3511971f",
   "metadata": {},
   "outputs": [],
   "source": [
    "> python manage.py runserver\n",
    "\n",
    "Watching for file changes with StatReloader\n",
    "Performing system checks...\n",
    "\n",
    "System check identified no issues (0 silenced).\n",
    "\n",
    "You have 18 unapplied migration(s). Your project may not work properly until you apply the migrations for app(s): admin, auth, contenttypes, sessions.\n",
    "Run 'python manage.py migrate' to apply them.\n",
    "May 23, 2024 - 08:48:22\n",
    "Django version 4.2.13, using settings 'mysite.settings'\n",
    "Starting development server at http://127.0.0.1:8000/\n",
    "Quit the server with CONTROL-C."
   ]
  },
  {
   "cell_type": "markdown",
   "id": "b1a5a030",
   "metadata": {},
   "source": [
    "โดย port default จะเป็น port 8000 แต่ถ้าคุณต้องการเปลี่ยน port สามารถใช้ command"
   ]
  },
  {
   "cell_type": "code",
   "execution_count": null,
   "id": "01e10879",
   "metadata": {},
   "outputs": [],
   "source": [
    "> python manage.py runserver 8080"
   ]
  },
  {
   "cell_type": "markdown",
   "id": "314e87a1",
   "metadata": {},
   "source": [
    "## Creating the Polls app\n",
    "\n",
    "เรามาลองสร้าง app Polls กันด้วย command"
   ]
  },
  {
   "cell_type": "code",
   "execution_count": null,
   "id": "04608aa5",
   "metadata": {},
   "outputs": [],
   "source": [
    "> python manage.py startapp polls"
   ]
  },
  {
   "cell_type": "markdown",
   "id": "5f9e944e",
   "metadata": {},
   "source": [
    "Command นี้จะทำการสร้าง folder polls ซึ่งมีไฟล์ดังนี้"
   ]
  },
  {
   "cell_type": "code",
   "execution_count": null,
   "id": "4f3ce8cc",
   "metadata": {},
   "outputs": [],
   "source": [
    "polls/\n",
    "    __init__.py\n",
    "    admin.py\n",
    "    apps.py\n",
    "    migrations/\n",
    "        __init__.py\n",
    "    models.py\n",
    "    tests.py\n",
    "    views.py"
   ]
  },
  {
   "cell_type": "markdown",
   "id": "337f25c0",
   "metadata": {},
   "source": [
    "## Write your first view\n",
    "\n",
    "เรามาเขียน view แรกกัน เปิดไฟล์ `polls/views.py` และเขียน code ด้านล่าง"
   ]
  },
  {
   "cell_type": "code",
   "execution_count": null,
   "id": "9a362d12",
   "metadata": {},
   "outputs": [],
   "source": [
    "%%python\n",
    "# polls/views.py\n",
    "from django.http import HttpResponse\n",
    "\n",
    "\n",
    "def index(request):\n",
    "    return HttpResponse(\"Hello, world. You're at the polls index.\")"
   ]
  },
  {
   "cell_type": "markdown",
   "id": "365f86b4",
   "metadata": {},
   "source": [
    "สร้างไฟล์ `polls/urls.py` จากนั้นไปเพิ่ม code ด้านล่างในไฟล์ `polls/urls.py`"
   ]
  },
  {
   "cell_type": "code",
   "execution_count": null,
   "id": "83efad0a",
   "metadata": {},
   "outputs": [],
   "source": [
    "%%python\n",
    "# polls/urls.py\n",
    "from django.urls import path\n",
    "\n",
    "from . import views\n",
    "\n",
    "urlpatterns = [\n",
    "    path(\"\", views.index, name=\"index\"),\n",
    "]"
   ]
  },
  {
   "cell_type": "markdown",
   "id": "a92ddd38",
   "metadata": {},
   "source": [
    "แต่จะสามารถเข้าถึง path ใน `polls/urls.py` เราจะต้องไปแก้ไขในไฟล์ `mysite/urls.py` ให้ชื้มาที่ `polls/urls.py`"
   ]
  },
  {
   "cell_type": "code",
   "execution_count": null,
   "id": "75fd432e",
   "metadata": {},
   "outputs": [],
   "source": [
    "%%python\n",
    "# mysite/urls.py\n",
    "from django.contrib import admin\n",
    "from django.urls import include, path\n",
    "\n",
    "urlpatterns = [\n",
    "    path(\"polls/\", include(\"polls.urls\")),\n",
    "    path(\"admin/\", admin.site.urls),\n",
    "]"
   ]
  },
  {
   "cell_type": "markdown",
   "id": "c404104d",
   "metadata": {},
   "source": [
    "เรามาลองตรวจสอบดูว่า path ที่เรากำหนดใช้งานได้หรือไม่"
   ]
  },
  {
   "cell_type": "code",
   "execution_count": null,
   "id": "2a7de1e5",
   "metadata": {},
   "outputs": [],
   "source": [
    "> python manage.py runserver"
   ]
  },
  {
   "cell_type": "markdown",
   "id": "db84b445",
   "metadata": {},
   "source": [
    "เปิด web browser และ เข้าไปที่ url `http://localhost:8000/polls/`\n",
    "\n",
    "Function `path()` นั้นรับ argument 4 ตัว โดยเป็น required argument 2 ตัวได้แก่ `route` และ `view` และเป็น optional argument 2 ตัว ได้แก่ `kwargs` และ `name`\n",
    "\n",
    "- Argument: `route` - รับค่า string URL patterns\n",
    "- Argument: `view` - รับ view ที่จะถูกเรียกเมื่อ Django ทำการ match URL pattern ได้\n",
    "- Argument: `kwargs` - Arbitrary keyword arguments ซึ่งเราสามารถส่ง argument เพิ่มเติมไปยัง view\n",
    "- Argument: `name` - เป็น string ชื่อของ path URL โดยการตั้งชื่อจะทำให้เราอ้างอิงถึงได้ง่าย เช่นถ้าต้องการ redirect ไปที่ path นี้ก็สามารถอ้างอิงถึงด้วย name แทนที่จะต้องเขียน full path\n",
    "\n",
    "## Database setup\n",
    "\n",
    "ต่อมาเราจะมาทำการตั้งค่าการเชื่อมต่อฐานข้อมูลกัน แต่ก่อนที่จะทำการเชื่อมต่อให้ทำการตรวจสอบก่อนว่าได้มีการ install PostgreSQL ไว้ในเครื่องแล้วหรือยังโดย command"
   ]
  },
  {
   "cell_type": "code",
   "execution_count": null,
   "id": "abe41f92",
   "metadata": {},
   "outputs": [],
   "source": [
    "> postgres --version\n",
    "postgres (PostgreSQL) 15.0"
   ]
  },
  {
   "cell_type": "markdown",
   "id": "661e54c8",
   "metadata": {},
   "source": [
    "โดยถ้ายังไม่ได้ทำการติดตั้ง PostgreSQL ให้่สามารถทการติดตั้งก่อน - [POSTGRES DOWNLOAD](https://www.postgresql.org/download/)\n",
    "\n",
    "จากนั้นทำการติดตั้ง Postgres Client `psycopg2`"
   ]
  },
  {
   "cell_type": "code",
   "execution_count": null,
   "id": "65d66b0d",
   "metadata": {},
   "outputs": [],
   "source": [
    "%%python\n",
    "> pip install psycopg2\n",
    "OR\n",
    "> pip install psycopg2-binary\n",
    "OR\n",
    "> brew install postgresql # for MacOS"
   ]
  },
  {
   "cell_type": "markdown",
   "id": "c4144d79",
   "metadata": {},
   "source": [
    "จากนั้นเปิดไฟล์ `mysite/settings.py` และไปที่"
   ]
  },
  {
   "cell_type": "code",
   "execution_count": null,
   "id": "b43534f9",
   "metadata": {},
   "outputs": [],
   "source": [
    "%%python\n",
    "# Database\n",
    "# https://docs.djangoproject.com/en/4.2/ref/settings/#databases\n",
    "\n",
    "DATABASES = {\n",
    "    \"default\": {\n",
    "        \"ENGINE\": \"django.db.backends.sqlite3\",\n",
    "        \"NAME\": BASE_DIR / \"db.sqlite3\",\n",
    "    }\n",
    "}\n"
   ]
  },
  {
   "cell_type": "markdown",
   "id": "5f05d2a0",
   "metadata": {},
   "source": [
    "ให้ทำการแก้ไชเป็นดังนี้"
   ]
  },
  {
   "cell_type": "code",
   "execution_count": null,
   "id": "d7aa0721",
   "metadata": {},
   "outputs": [],
   "source": [
    "%%python\n",
    "# Database\n",
    "# https://docs.djangoproject.com/en/4.2/ref/settings/#databases\n",
    "\n",
    "DATABASES = {\n",
    "    \"default\": {\n",
    "        \"ENGINE\": \"django.db.backends.postgresql\",\n",
    "        \"NAME\": \"mypolls\",\n",
    "        \"USER\": \"db_username\",\n",
    "        \"PASSWORD\": \"password\",\n",
    "        \"HOST\": \"localhost\",\n",
    "        \"PORT\": \"5432\",\n",
    "    }\n",
    "}"
   ]
  },
  {
   "cell_type": "markdown",
   "id": "699f0f7f",
   "metadata": {},
   "source": [
    "ก่อนอื่นเราไปทำการสร้าง DATABASE ชื่อ `mypolls` ใน PostgreSQL กันก่อน\n",
    "\n",
    "เปิด Command Prompt / Terminal ขึ้นมาจากนั้นพิมพ์ command ด้านล่างเพื่อเข้าสู่ SQL Shell"
   ]
  },
  {
   "cell_type": "code",
   "execution_count": null,
   "id": "b8f00b0d",
   "metadata": {},
   "outputs": [],
   "source": [
    "> psql -U postgres\n",
    "\n",
    "/ # psql -U postgres\n",
    "psql (15.0)\n",
    "Type \"help\" for help.\n",
    "\n",
    "postgres=#"
   ]
  },
  {
   "cell_type": "markdown",
   "id": "64e62215",
   "metadata": {},
   "source": [
    "จากนั้นพิมพ์ SQL `CREATE DATABASE mypolls;` เพื่อทำการสร้าง database (อย่าลืม semicolon ;)"
   ]
  },
  {
   "cell_type": "markdown",
   "id": "387eba1f",
   "metadata": {
    "lines_to_next_cell": 0
   },
   "source": [
    "จากนั้นติดตั้ง VS CODE extension ชื่อ `PostgreSQL` by Weijan Chen เพื่อใช้ในการจัดการฐานข้อมูลผ่าน UI\n",
    "\n",
    "ทำการตั้งค่า connection กรอกข้อมูลดังนี้"
   ]
  },
  {
   "cell_type": "code",
   "execution_count": null,
   "id": "7dad678b",
   "metadata": {},
   "outputs": [],
   "source": [
    "Name: mypolls\n",
    "Host: 127.0.0.1\n",
    "Username: your postgres username\n",
    "Password: your postgres password\n",
    "Port: 5432 "
   ]
  },
  {
   "cell_type": "markdown",
   "id": "85eb6189",
   "metadata": {},
   "source": [
    "เรามาทำการ migrate เพื่อสร้างตารางในฐานข้อมูลกัน\n",
    "\n",
    "ใน Django จะมีระบบการจัดการ migrations หรือระบบการจัดการ การสร้าง แก้ไข ลบ ตารางในฐานข้อมูล โดยที่เราไม่จำเป็นจะต้องเขียน SQL query เพื่อจัดการเลย เพียงใช้ command ด้านล่าง"
   ]
  },
  {
   "cell_type": "code",
   "execution_count": null,
   "id": "200d0a22",
   "metadata": {},
   "outputs": [],
   "source": [
    "> python manage.py migrate\n",
    "Operations to perform:\n",
    "  Apply all migrations: admin, auth, contenttypes, sessions\n",
    "Running migrations:\n",
    "  Applying contenttypes.0001_initial... OK\n",
    "  Applying auth.0001_initial... OK\n",
    "  Applying admin.0001_initial... OK\n",
    "  Applying admin.0002_logentry_remove_auto_add... OK\n",
    "  Applying admin.0003_logentry_add_action_flag_choices... OK\n",
    "  Applying contenttypes.0002_remove_content_type_name... OK\n",
    "  Applying auth.0002_alter_permission_name_max_length... OK\n",
    "  Applying auth.0003_alter_user_email_max_length... OK\n",
    "  Applying auth.0004_alter_user_username_opts... OK\n",
    "  Applying auth.0005_alter_user_last_login_null... OK\n",
    "  Applying auth.0006_require_contenttypes_0002... OK\n",
    "  Applying auth.0007_alter_validators_add_error_messages... OK\n",
    "  Applying auth.0008_alter_user_username_max_length... OK\n",
    "  Applying auth.0009_alter_user_last_name_max_length... OK\n",
    "  Applying auth.0010_alter_group_name_max_length... OK\n",
    "  Applying auth.0011_update_proxy_permissions... OK\n",
    "  Applying auth.0012_alter_user_first_name_max_length... OK\n",
    "  Applying sessions.0001_initial... OK"
   ]
  },
  {
   "cell_type": "markdown",
   "id": "fa7ec2c5",
   "metadata": {},
   "source": [
    "ทำการตรวจสอบว่าใน database `mypolls` มีตารางถูกสร้างเพิ่มขึ้นมา\n",
    "\n",
    "**Congratulation! database setup is completed.**\n",
    "\n",
    "## Creating models\n",
    "\n",
    "เรามาสร้าง models กัน โดยใน app polls ของเราซึ่งมี 2 models ได้แก่ `Question` and `Choice` โดยเพิ่ม code ด้านล่างลงในไฟล์ `polls/models.py`"
   ]
  },
  {
   "cell_type": "code",
   "execution_count": null,
   "id": "15896647",
   "metadata": {},
   "outputs": [],
   "source": [
    "%%python\n",
    "from django.db import models\n",
    "\n",
    "\n",
    "class Question(models.Model):\n",
    "    question_text = models.CharField(max_length=200)\n",
    "    pub_date = models.DateTimeField(\"date published\")\n",
    "\n",
    "\n",
    "class Choice(models.Model):\n",
    "    question = models.ForeignKey(Question, on_delete=models.CASCADE)\n",
    "    choice_text = models.CharField(max_length=200)\n",
    "    votes = models.IntegerField(default=0)"
   ]
  },
  {
   "cell_type": "markdown",
   "id": "9f6ec768",
   "metadata": {},
   "source": [
    "แต่ละ model class จะถูกนำไปสร้างเป็น table ใน database และแต่ละ field จะเป็น column ใน table โดยจะเห็นว่าเราได้ทำการกำหนด ประเภทของข้อมูลใน field เช่น CharField คือ field สำหรับบันทึกข้อมูล characters หรือ IntegerField คือ field สำหรับบันทึกข้อมูล integer\n",
    "\n",
    "## Activating models\n",
    "\n",
    "ก่อนอื่นเราจะต้องไปแก้ไขค่าตั้งค่าใน `mysite/settings.py` เพื่อให้ Django รู้จักกับ app `polls` ที่เราสร้างขึ้นมาก่อน โดยเพิ่ม \"polls\" ใน INSTALLED_APPS"
   ]
  },
  {
   "cell_type": "code",
   "execution_count": null,
   "id": "e7f1c40a",
   "metadata": {},
   "outputs": [],
   "source": [
    "%%python\n",
    "INSTALLED_APPS = [\n",
    "    \"django.contrib.admin\",\n",
    "    \"django.contrib.auth\",\n",
    "    \"django.contrib.contenttypes\",\n",
    "    \"django.contrib.sessions\",\n",
    "    \"django.contrib.messages\",\n",
    "    \"django.contrib.staticfiles\",\n",
    "    # Add your apps here\n",
    "    \"polls\",\n",
    "]"
   ]
  },
  {
   "cell_type": "markdown",
   "id": "303c21ad",
   "metadata": {},
   "source": [
    "ทำการสั่ง `makemigrations` เพื่อสร้างไฟล์ migration ซึ่ง Django จะทำการ generate code สำหรับที่จะใช้นำไปสร้าง แก้ไข ลบ table ใน database โดยยึดจาก class models ที่เรากำหนดในไฟล์ `polls/models.py`"
   ]
  },
  {
   "cell_type": "code",
   "execution_count": null,
   "id": "b1064bf5",
   "metadata": {},
   "outputs": [],
   "source": [
    "> python manage.py makemigrations polls\n",
    "Migrations for 'polls':\n",
    "  polls/migrations/0001_initial.py\n",
    "    - Create model Question\n",
    "    - Create model Choice"
   ]
  },
  {
   "cell_type": "markdown",
   "id": "3697e9e3",
   "metadata": {},
   "source": [
    "จะเห็นไฟล์ `polls/migrations/0001_initial.py` จะถูกสร้างขึ้นมาโดย Django\n",
    "\n",
    "พิมพ์ command ด้านล่างเพื่อเช็คว่า SQL อะไรที่จะถูก generate เมื่อเราสั่ง command `migrate`"
   ]
  },
  {
   "cell_type": "code",
   "execution_count": null,
   "id": "31d396d6",
   "metadata": {},
   "outputs": [],
   "source": [
    "%%sql\n",
    "> python manage.py sqlmigrate polls 0001\n",
    "BEGIN;\n",
    "--\n",
    "-- Create model Question\n",
    "--\n",
    "CREATE TABLE \"polls_question\" (\"id\" bigint NOT NULL PRIMARY KEY GENERATED BY DEFAULT AS IDENTITY, \"question_text\" varchar(200) NOT NULL, \"pub_date\" timestamp with time zone NOT NULL);\n",
    "--\n",
    "-- Create model Choice\n",
    "--\n",
    "CREATE TABLE \"polls_choice\" (\"id\" bigint NOT NULL PRIMARY KEY GENERATED BY DEFAULT AS IDENTITY, \"choice_text\" varchar(200) NOT NULL, \"votes\" integer NOT NULL, \"question_id\" bigint NOT NULL);\n",
    "ALTER TABLE \"polls_choice\" ADD CONSTRAINT \"polls_choice_question_id_c5b4b260_fk_polls_question_id\" FOREIGN KEY (\"question_id\") REFERENCES \"polls_question\" (\"id\") DEFERRABLE INITIALLY DEFERRED;\n",
    "CREATE INDEX \"polls_choice_question_id_c5b4b260\" ON \"polls_choice\" (\"question_id\");\n",
    "COMMIT;"
   ]
  },
  {
   "cell_type": "markdown",
   "id": "8a126b7a",
   "metadata": {},
   "source": [
    "ทำการ migrate เพื่อสร้าง table ใน database `mypolls`"
   ]
  },
  {
   "cell_type": "code",
   "execution_count": null,
   "id": "c4799338",
   "metadata": {},
   "outputs": [],
   "source": [
    "> python manage.py migrate polls\n",
    "Operations to perform:\n",
    "  Apply all migrations: polls\n",
    "Running migrations:\n",
    "  Applying polls.0001_initial... OK"
   ]
  },
  {
   "cell_type": "markdown",
   "id": "f1cb84ef",
   "metadata": {},
   "source": [
    "## Playing with the API\n",
    "\n",
    "เรามาลองเล่นกับ models ที่เราสร้างด้วย API ของ Django ใน Python shell กัน"
   ]
  },
  {
   "cell_type": "code",
   "execution_count": null,
   "id": "c2c356a2",
   "metadata": {},
   "outputs": [],
   "source": [
    "> python manage.py shell\n",
    "\n",
    "# ทำการ import models Question, Choice\n",
    ">>> from polls.models import Question, Choice\n",
    "\n",
    "# ทำการ SELECT ข้อมูลในตาราง question (SELECT * FROM question)\n",
    ">>> Question.objects.all()\n",
    "<QuerySet []>\n",
    "\n",
    "# สร้าง instance ของ Question\n",
    ">>> from django.utils import timezone\n",
    ">>> q = Question(question_text=\"What is new?\", pub_date=timezone.now())\n",
    "\n",
    "# บันทึกข้อมูลลงใน table question\n",
    ">>> q.save()\n",
    "\n",
    "# ID ของ question ที่สร้าง = 1\n",
    ">>> q.id\n",
    "1\n",
    "\n",
    "# ตัวแปร q เป็น instance ของ class Question ดังนั้นจะมี attribute question_text, pub_date ซึ่งสามารถเข้าถึงได้โดยใช้ dot notation ของ Python\n",
    ">>> q.question_text\n",
    "\"What's new?\"\n",
    ">>> q.pub_date\n",
    "datetime.datetime(2024, 2, 26, 13, 0, 0, 115217, tzinfo=datetime.timezone.utc)\n",
    "\n",
    "# แก้ไขข้อมูลเปลี่ยน question_text จาก \"What's new?\" -> \"What's up?\"\n",
    "# SQL: UPDATE question SET question.question_text=\"What's up?\" WHERE question.id = 1\n",
    ">>> q.question_text = \"What is up?\"\n",
    "# สั่ง save เพื่อบันทึกข้อมูลลง database\n",
    ">>> q.save()\n",
    "\n",
    "# Question.objects.all() แสดงข้อมูลทั้งหมดในตาราง question \n",
    ">>> Question.objects.all()\n",
    "<QuerySet [<Question: Question object (1)>]>"
   ]
  },
  {
   "cell_type": "markdown",
   "id": "f5baa994",
   "metadata": {},
   "source": [
    "เพิ่ม method __str__() ใน class Question และ Choice เพื่อกำหนดการ convert instance ของ object เป็น string"
   ]
  },
  {
   "cell_type": "code",
   "execution_count": null,
   "id": "6543ba8f",
   "metadata": {},
   "outputs": [],
   "source": [
    "%%python\n",
    "from django.db import models\n",
    "\n",
    "# Create your models here.\n",
    "class Question(models.Model):\n",
    "    question_text = models.CharField(max_length=200)\n",
    "    pub_date = models.DateTimeField(\"date published\")\n",
    "\n",
    "    def __str__(self):\n",
    "        return self.question_text\n",
    "\n",
    "\n",
    "class Choice(models.Model):\n",
    "    question = models.ForeignKey(Question, on_delete=models.CASCADE)\n",
    "    choice_text = models.CharField(max_length=200)\n",
    "    votes = models.IntegerField(default=0)\n",
    "\n",
    "    def __str__(self):\n",
    "        return self.choice_text"
   ]
  },
  {
   "cell_type": "markdown",
   "id": "b702d57a",
   "metadata": {},
   "source": [
    "ลองกลับไปเล่นใน shell เพื่อ print question ID=1 ออกมา"
   ]
  },
  {
   "cell_type": "code",
   "execution_count": null,
   "id": "ac816d32",
   "metadata": {},
   "outputs": [],
   "source": [
    ">>> q = Question.objects.first()\n",
    ">>> print(q)\n",
    "What's new?"
   ]
  },
  {
   "cell_type": "markdown",
   "id": "05fd40bf",
   "metadata": {},
   "source": [
    "### Exercises\n",
    "1. ลองสร้าง question ใหม่โดยให้ question_text = \"Hello world?\" และ pub_date เป็นวันที่ 2024-01-01 11:00:00\n",
    "2. ลองสร้าง choice สำหรับ question 1 ให้มี 3 choices โดยให้ choice_text = \"Yes\", \"No\" และ \"OK\" และ votes = 0 ทั้ง 3 choices\n",
    "3. ลองสร้าง choice สำหรับ question 2 ให้มี 2 choices โดยให้ choice_text = \"Bye\" และ \"Hello\" และ votes = 0 ทั้ง 2 choices"
   ]
  },
  {
   "cell_type": "code",
   "execution_count": null,
   "id": "aa383937",
   "metadata": {},
   "outputs": [],
   "source": [
    "# Hint: การสร้าง choice สามารถทำได้ 2 แบบ\n",
    "# แบบที่ 1\n",
    ">>> q = Question.objects.get(pk=1) \n",
    ">>> q.choice_set.create(choice_text=\"Yes\", votes=0)\n",
    "\n",
    "# หรือ แบบที่ 2\n",
    ">>> c = Choice(question=q, choice_text=\"Yes\", votes=0)\n",
    ">>> c.save()\n",
    "\n",
    "# ถ้าอยากรู้ว่ามี choice จำนวนเท่าไหร่ของ question ID=1\n",
    ">>> q.choice_set.count()\n",
    "1"
   ]
  },
  {
   "cell_type": "markdown",
   "id": "78d922b3",
   "metadata": {},
   "source": [
    "เรามาลองใช้ API ของ Django ในการ query ข้อมูล (SELECT query)"
   ]
  },
  {
   "cell_type": "code",
   "execution_count": null,
   "id": "a421836d",
   "metadata": {},
   "outputs": [],
   "source": [
    ">>> Question.objects.all()\n",
    "<QuerySet [<Question: What is up?>, <Question: Hello world?>]>\n",
    "\n",
    ">>> Question.objects.filter(question_text__icontains=\"llo\")\n",
    "<QuerySet [<Question: Hello world?>]>\n",
    "\n",
    ">>> Question.objects.filter(question_text__startswith=\"What\")\n",
    "<QuerySet [<Question: What is up?>]>\n",
    "\n",
    ">>> Choice.objects.filter(question_id=1)\n",
    "<QuerySet [<Choice: Yes>, <Choice: No>, <Choice: OK>]>\n",
    "\n",
    ">>> Choice.objects.filter(question_id=1, choice_text=\"Yes\")\n",
    "<QuerySet [<Choice: Yes>]>\n",
    "\n",
    ">>> Question.objects.first()\n",
    "<Question: What is up?>\n",
    "\n",
    ">>> Question.objects.last()\n",
    "<Question: Hello world?>"
   ]
  },
  {
   "cell_type": "markdown",
   "id": "c14e762a",
   "metadata": {},
   "source": [
    "เราจะมาสร้าง view กันต่อ ตามขั้นตอนในไฟล์ `tutorial-view.md`"
   ]
  }
 ],
 "metadata": {
  "jupytext": {
   "cell_metadata_filter": "-all",
   "main_language": "sh",
   "notebook_metadata_filter": "-all"
  }
 },
 "nbformat": 4,
 "nbformat_minor": 5
}
