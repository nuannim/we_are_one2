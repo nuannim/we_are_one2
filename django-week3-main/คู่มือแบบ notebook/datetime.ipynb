{
 "cells": [
  {
   "cell_type": "markdown",
   "id": "519fcf8e",
   "metadata": {},
   "source": [
    "# Python Datetime Module\n",
    "\n",
    "[Source](https://www.geeksforgeeks.org/python-datetime-module/)\n",
    "\n",
    "DateTime module มีทั้งหมด 5 class หลัก\n",
    "\n",
    "1. `date` – มี attributes ได้แก่ year, month, และ day\n",
    "2. `time` – มี attributes ได้แก่ hour, minute, second, microsecond, และ tzinfo\n",
    "3. `datetime` – คือการรวม `date` และ `time` และมี attributes ได้แก่ year, month, day, hour, minute, second, microsecond, and tzinfo\n",
    "4. `timedelta` – เป็นระยะเวลา (microsecond) ซึ่งเป็นส่วนต่างของ 2 date, time หรือ datetime\n",
    "5. `tzinfo` – เป็น object สำหรับเก็บข้อมูล time zone\n",
    "\n",
    "## datetime\n",
    "\n",
    "Argument `year`, `month`, และ `day` จะต้องกำหนด (mandatory) และ `tzinfo` เป็น None ได้\n",
    "\n",
    "Range ของ attribute แต่ละตัว:\n",
    "\n",
    "- MINYEAR <= year <= MAXYEAR\n",
    "- 1 <= month <= 12\n",
    "- 1 <= day <= number of days in the given month and year\n",
    "- 0 <= hour < 24\n",
    "- 0 <= minute < 60\n",
    "- 0 <= second < 60\n",
    "- 0 <= microsecond < 1000000"
   ]
  },
  {
   "cell_type": "code",
   "execution_count": null,
   "id": "43c9684d",
   "metadata": {},
   "outputs": [],
   "source": [
    ">>> a = datetime(1999, 12, 12, 12, 12, 12, 342380)\n",
    ">>> print(a)\n",
    "1999-12-12 12:12:12.342380"
   ]
  },
  {
   "cell_type": "markdown",
   "id": "f47eff66",
   "metadata": {},
   "source": [
    "## timedelta"
   ]
  },
  {
   "cell_type": "code",
   "execution_count": null,
   "id": "20954a7d",
   "metadata": {},
   "outputs": [],
   "source": [
    "\n",
    ">>> from datetime import datetime, timedelta\n",
    "  \n",
    "# Using current time\n",
    ">>> ini_time_for_now = datetime.now()\n",
    "  \n",
    "# printing initial_date\n",
    ">>> print(\"initial_date\", str(ini_time_for_now))\n",
    "initial_date 2024-07-13 23:45:16.572404\n",
    "  \n",
    "# Calculating future dates\n",
    "# for two years\n",
    ">>> future_date_after_2yrs = ini_time_for_now + timedelta(days=730)\n",
    "  \n",
    ">>> future_date_after_2days = ini_time_for_now + timedelta(days=2)\n",
    "  \n",
    "# printing calculated future_dates\n",
    ">>> print('future_date_after_2yrs:', str(future_date_after_2yrs))\n",
    "future_date_after_2yrs: 2026-07-13 23:45:16.572404\n",
    ">>> print('future_date_after_2days:', str(future_date_after_2days))\n",
    "future_date_after_2days: 2024-07-15 23:45:16.572404"
   ]
  },
  {
   "cell_type": "markdown",
   "id": "129c3638",
   "metadata": {},
   "source": [
    "## Python datetime.tzinfo()\n",
    "\n",
    "The `datetime.now()` function จะไม่มีการเก็บข้อมูล time zones\n",
    "การเก็บข้อมูล time zines จะใช้ `tzinfo` ซึ่งเป็น abstract base case ใน Python\n",
    "\n",
    "เราสามารถส่ง instance ของ class `tzinfo` ใน constructors ของ object datetime and time เพื่อใช้ในการกำหนด time zones\n",
    "\n",
    "### Naive and Aware datetime objects\n",
    "\n",
    "- **Naive datetime objects** หมายถึง datetime object ที่ไม่มีการกำหนดข้อมูล time zone (tzinfo เป็น None)\n",
    "- **Aware datetime objects** คือ datetime object ทีมีข้อมูล time zone"
   ]
  },
  {
   "cell_type": "code",
   "execution_count": null,
   "id": "84d396b7",
   "metadata": {},
   "outputs": [],
   "source": [
    ">>> from zoneinfo import ZoneInfo\n",
    ">>> from datetime import datetime\n",
    "\n",
    ">>> dt1 = datetime(2015, 5, 21, 12, 0) \n",
    ">>> print(dt1)\n",
    "2015-05-21 12:00:00\n",
    ">>> dt2 = datetime(2015, 12, 21, 12, 0, tzinfo = ZoneInfo(key='Asia/Bangkok')) \n",
    ">>> print(dt2)\n",
    "2015-12-21 12:00:00+07:00\n",
    "\n",
    ">>> print(\"Naive Object :\", dt1.tzname())\n",
    "Naive Object : None\n",
    ">>> print(\"Aware Object :\", dt2.tzname())\n",
    "Aware Object : +07\n",
    "\n",
    ">>> now_aware = dt1.replace(tzinfo=ZoneInfo(key='UTC'))\n",
    ">>> print(now_aware)\n",
    "2015-05-21 12:00:00+00:00"
   ]
  },
  {
   "cell_type": "markdown",
   "id": "ee766b23",
   "metadata": {},
   "source": [
    "## Django - Time zones\n",
    "\n",
    "[Source](https://docs.djangoproject.com/en/4.2/topics/i18n/timezones/)\n",
    "\n",
    "ถ้ามีการ enable time zone support (USE_TZ=True) โดย default Django จะบันทึก datetime information ในฐานข้อมูลเป็น UTC เมื่อ query ข้อมูลออกมาก็จะได้เป็น object datetime ที่ time-zone-aware\n",
    "\n",
    "## Naive and aware datetime objects\n",
    "\n",
    "อย่างที่รู้กันว่า `datetime.datetime` objects ของ Python นั้นมี attribute `tzinfo` ที่ใช้ในการเก็บข้อมูล time zone โดยถ้ามีการ set ค่า `tzinfo` ก็จะส่งผลให้ datetime object นั้นเป็น time-zone-aware และถ้าไม่มีการ set ค่า `tzinfo` ก็จะเป็น time-zone-naive\n",
    "\n",
    "Django จะมี `is_aware()` และ `is_naive()` ให้ใช้ในการเช็ค"
   ]
  },
  {
   "cell_type": "code",
   "execution_count": null,
   "id": "2d44c0ef",
   "metadata": {},
   "outputs": [],
   "source": [
    "from django.utils import timezone\n",
    "\n",
    "now = timezone.now()"
   ]
  },
  {
   "cell_type": "markdown",
   "id": "1d40c309",
   "metadata": {},
   "source": [
    "Source code ของ `timezone.now()`:"
   ]
  },
  {
   "cell_type": "code",
   "execution_count": null,
   "id": "7661d146",
   "metadata": {},
   "outputs": [],
   "source": [
    "def now():\n",
    "    \"\"\"\n",
    "    Returns an aware or naive datetime.datetime, depending on settings.USE_TZ.\n",
    "    \"\"\"\n",
    "    if settings.USE_TZ:\n",
    "        # timeit shows that datetime.now(tz=utc) is 24% slower\n",
    "        return datetime.utcnow().replace(tzinfo=utc)\n",
    "    else:\n",
    "        return datetime.now()"
   ]
  },
  {
   "cell_type": "markdown",
   "id": "b570dd3e",
   "metadata": {},
   "source": [
    "เรามาลองดูตัวอย่างการใช้งานกัน\n",
    "\n",
    "ก่อนอื่นไปแก้ไขไฟล์ `/week3/settings.py` ดังนี้"
   ]
  },
  {
   "cell_type": "code",
   "execution_count": null,
   "id": "375c4fba",
   "metadata": {},
   "outputs": [],
   "source": [
    "...\n",
    "TIME_ZONE = \"Asia/Bangkok\"\n",
    "\n",
    "USE_I18N = True\n",
    "\n",
    "USE_TZ = True\n",
    "..."
   ]
  },
  {
   "cell_type": "markdown",
   "id": "f4162543",
   "metadata": {},
   "source": [
    "เปิด shell ขึ้นมาแล้วลองทำตามด้านล่าง"
   ]
  },
  {
   "cell_type": "code",
   "execution_count": null,
   "id": "7bb6f283",
   "metadata": {},
   "outputs": [],
   "source": [
    ">>> from zoneinfo import ZoneInfo\n",
    ">>> from datetime import datetime\n",
    ">>> from django.utils import timezone\n",
    "\n",
    ">>> dt1 = datetime(2015, 12, 21, 12, 0, tzinfo=ZoneInfo(key='UTC')) \n",
    ">>> print(dt1)\n",
    "2015-12-21 12:00:00+00:00\n",
    ">>> timezone.is_aware(dt1)\n",
    "True\n",
    "\n",
    ">>> dt1_local = timezone.localtime(dt1)\n",
    ">>> print(dt1_local)\n",
    "2015-12-21 19:00:00+07:00\n",
    "\n",
    ">>> dt2 = datetime(2015, 5, 21, 12, 0) \n",
    ">>> print(dt2)\n",
    "2015-12-21 12:00:00\n",
    ">>> timezone.is_aware(dt2)\n",
    "False\n",
    ">>> timezone.is_naive(dt2)\n",
    "True\n",
    "\n",
    ">>> dt2_aware = timezone.make_aware(dt2)\n",
    ">>> print(dt2_aware)\n",
    "2015-05-21 12:00:00+07:00\n",
    ">>> timezone.is_aware(dt2_aware)\n",
    "True"
   ]
  }
 ],
 "metadata": {
  "jupytext": {
   "cell_metadata_filter": "-all",
   "main_language": "python",
   "notebook_metadata_filter": "-all"
  }
 },
 "nbformat": 4,
 "nbformat_minor": 5
}
