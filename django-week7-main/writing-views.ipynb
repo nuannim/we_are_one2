{
 "cells": [
  {
   "cell_type": "markdown",
   "id": "22b51e77",
   "metadata": {},
   "source": [
    "# Writing Views\n",
    "\n",
    "[Django Document](https://docs.djangoproject.com/en/5.0/topics/http/views/)\n",
    "\n",
    "> A view function, or view for short, is a Python function that takes a web request and returns a web response. \n",
    "\n",
    "โดยที่ response นั้นอาจจะเป็น HTML page หรือ redirect หรือ 404 error หรือ XML file หรือ รูปภาพ ... จริงๆ แล้วก็คืออะไรก็ได้\n",
    "\n",
    "โดยปกติเราจะวาง View Function ไว้ใน views.py (แต่จริงๆ วางตรงไหนก็ได้ เรากำหนดการเข้าถึงที่ `urls.py`)\n",
    "\n",
    "## A simple view - function-based views"
   ]
  },
  {
   "cell_type": "code",
   "execution_count": null,
   "id": "b30c0b74",
   "metadata": {},
   "outputs": [],
   "source": [
    "from django.http import HttpResponse\n",
    "import datetime\n",
    "\n",
    "\n",
    "def current_datetime(request):\n",
    "    now = datetime.datetime.now()\n",
    "    html = \"<html><body>It is now %s.</body></html>\" % now\n",
    "    return HttpResponse(html)"
   ]
  },
  {
   "cell_type": "markdown",
   "id": "8e0b1b4f",
   "metadata": {},
   "source": [
    "*Important! อย่าลืมว่าเราจะเรียก view นี้ได้จะต้องไป map URL มาที่ view นี้ก่อนนะครับใน urls.py*\n",
    "\n",
    "## Returning errors\n",
    "\n",
    "โดยปกติเมื่อเรา return HttpResponse() Django จะ default HTTP status code = 200 ให้ แต่ถ้าเราต้องการกำหนด status code เองก็สามารถทำได้"
   ]
  },
  {
   "cell_type": "code",
   "execution_count": null,
   "id": "1d5c5d75",
   "metadata": {},
   "outputs": [],
   "source": [
    "from django.http import HttpResponse\n",
    "\n",
    "\n",
    "def my_view(request):\n",
    "    # ...\n",
    "\n",
    "    # Return a \"created\" (201) response code.\n",
    "    return HttpResponse(content={\n",
    "        \"message\": \"Created successfully\"\n",
    "    }, status=201)\n",
    "\n",
    "def my_view2(request):\n",
    "    # ...\n",
    "\n",
    "    # Return a \"created\" (201) response code.\n",
    "    return HttpResponse(content={\n",
    "        \"message\": \"Item not found\"\n",
    "    }, status=404)\n",
    "\n",
    "def my_view3(request):\n",
    "    # ...\n",
    "\n",
    "    # Return a \"created\" (201) response code.\n",
    "    return HttpResponse(content={\n",
    "        \"code\": \"Validation Error\",\n",
    "        \"field\": \"username\",\n",
    "        \"error\": \"This field is required\"\n",
    "    }, status=400)"
   ]
  },
  {
   "cell_type": "markdown",
   "id": "cb5a1035",
   "metadata": {},
   "source": [
    "## The Http404 exception\n",
    "\n",
    "เพื่อความง่าย Django มีหน้า page 404 standard มาให้ (แต่เราสามารถ custom เองได้นะ) โดยถ้าคุณมีการ raise Http404 ตรงไหนใน view ก็ตาม Django จะ catch error นี้ให้และ return page 404 ตัว standard มาให้เสมอ พร้อม HTTP status code = 404"
   ]
  },
  {
   "cell_type": "code",
   "execution_count": null,
   "id": "7423a63f",
   "metadata": {
    "lines_to_next_cell": 2
   },
   "outputs": [],
   "source": [
    "from django.http import Http404\n",
    "from django.shortcuts import render\n",
    "from polls.models import Poll\n",
    "\n",
    "\n",
    "def detail(request, poll_id):\n",
    "    try:\n",
    "        p = Poll.objects.get(pk=poll_id)\n",
    "    except Poll.DoesNotExist:\n",
    "        raise Http404(\"Poll does not exist\")\n",
    "    return render(request, \"polls/detail.html\", {\"poll\": p})"
   ]
  },
  {
   "cell_type": "markdown",
   "id": "eb373a38",
   "metadata": {},
   "source": [
    "## Django shortcut functions\n",
    "\n",
    "[Doc](https://docs.djangoproject.com/en/5.2/topics/http/shortcuts/)\n",
    "\n",
    "แพ็คเกจ `django.shortcuts` มี functions และ classes ที่มีประโยชน์สำหรับการเขียน views หลายตัว ตัวที่ใช้บ่อยๆ ได้แก่\n",
    "\n",
    "### render()\n",
    "\n",
    "```\n",
    "render(request, template_name, context=None, content_type=None, status=None, using=None)\n",
    "```\n",
    "\n",
    "**Required arguments**\n",
    "\n",
    "- request: request object\n",
    "- template_name: ชื่อไฟล์ template\n",
    "\n",
    "**Optional arguments**\n",
    "\n",
    "- context: ค่าสำหรับส่งไป render ที่ไฟล์ template โดยจะต้องส่งเป็น dictionary\n",
    "- content_type: [MIME type](https://developer.mozilla.org/en-US/docs/Web/HTTP/Guides/MIME_types/Common_types) (default คือ `text/html`)\n",
    "- status: status code สำหรับ response (default คือ `200`)"
   ]
  },
  {
   "cell_type": "code",
   "execution_count": null,
   "id": "6cdaf254",
   "metadata": {},
   "outputs": [],
   "source": [
    "from django.shortcuts import render\n",
    "\n",
    "def my_view(request):\n",
    "    # View code here...\n",
    "    return render(\n",
    "        request,\n",
    "        \"myapp/index.html\",\n",
    "        context={\n",
    "            \"foo\": \"bar\",\n",
    "        },\n",
    "        content_type=\"application/xhtml+xml\",\n",
    "    )"
   ]
  },
  {
   "cell_type": "markdown",
   "id": "7b71bc55",
   "metadata": {},
   "source": [
    "### redirect()\n",
    "\n",
    "```\n",
    "redirect(to, *args, permanent=False, preserve_request=False, **kwargs)\n",
    "```\n",
    "\n",
    "Function นี้จะ return HttpResponseRedirect และทำการ redirect ไปยัง URL ที่ระบุ\n",
    "\n",
    "**Required arguments**\n",
    "\n",
    "- to: redirect to URL\n",
    "\n",
    "**Optional arguments**\n",
    "\n",
    "- permanent: \n",
    "    - ถ้าค่าเป็น True => permanent redirect (301) \n",
    "    - ถ้าค่าเป็น False => temporary redirect (302)\n",
    "- preserve_request: \n",
    "    - ถ้าค่าเป็น True => บอกให้ browser ทำการ preserver method และ body เมื่อทำการ redirect \n",
    "    - ถ้าค่าเป็น False => บอกให้ browser ไม่ต้อง preserve"
   ]
  },
  {
   "cell_type": "code",
   "execution_count": null,
   "id": "ff7e0b25",
   "metadata": {},
   "outputs": [],
   "source": [
    "# Passing the name of a view and optionally some positional or keyword arguments\n",
    "def my_view(request):\n",
    "    ...\n",
    "    return redirect(\"some-view-name\", foo=\"bar\")\n",
    "\n",
    "# Passing a hardcoded URL to redirect to\n",
    "def my_view(request):\n",
    "    ...\n",
    "    return redirect(\"/some/url/\")\n",
    "\n",
    "# This also works with full URLs:\n",
    "def my_view(request):\n",
    "    ...\n",
    "    return redirect(\"https://example.com/\")"
   ]
  },
  {
   "cell_type": "markdown",
   "id": "0b4202b6",
   "metadata": {},
   "source": [
    "### get_object_or_404()\n",
    "\n",
    "```\n",
    "get_object_or_404(klass, *args, **kwargs)\n",
    "```\n",
    "\n",
    "**Arguments**\n",
    "\n",
    "- klass: ชื่อ Model class ที่ต้องการ get object\n",
    "- **kwargs: Q objects สำหรับ filter ข้อมูล"
   ]
  },
  {
   "cell_type": "code",
   "execution_count": null,
   "id": "a4eec633",
   "metadata": {},
   "outputs": [],
   "source": [
    "from django.shortcuts import get_object_or_404\n",
    "\n",
    "\n",
    "def my_view(request):\n",
    "    obj = get_object_or_404(MyModel, pk=1)"
   ]
  },
  {
   "cell_type": "markdown",
   "id": "faeef7e9",
   "metadata": {},
   "source": [
    "ซึ่งเหมือนกันกับ code ด้านล่าง"
   ]
  },
  {
   "cell_type": "code",
   "execution_count": null,
   "id": "02f5ec73",
   "metadata": {},
   "outputs": [],
   "source": [
    "from django.http import Http404\n",
    "\n",
    "\n",
    "def my_view(request):\n",
    "    try:\n",
    "        obj = MyModel.objects.get(pk=1)\n",
    "    except MyModel.DoesNotExist:\n",
    "        raise Http404(\"No MyModel matches the given query.\")"
   ]
  }
 ],
 "metadata": {
  "jupytext": {
   "cell_metadata_filter": "-all",
   "main_language": "python",
   "notebook_metadata_filter": "-all"
  }
 },
 "nbformat": 4,
 "nbformat_minor": 5
}
