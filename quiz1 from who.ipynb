{
 "cells": [
  {
   "cell_type": "markdown",
   "metadata": {},
   "source": [
    "# QUIZ - 2025-08"
   ]
  },
  {
   "cell_type": "code",
   "execution_count": 5,
   "metadata": {},
   "outputs": [],
   "source": [
    "import os\n",
    "os.environ[\"DJANGO_ALLOW_ASYNC_UNSAFE\"] = \"true\""
   ]
  },
  {
   "cell_type": "code",
   "execution_count": 6,
   "metadata": {},
   "outputs": [],
   "source": [
    "from service.models import *\n",
    "from django.db.models import *\n",
    "from django.db.models.functions import *"
   ]
  },
  {
   "cell_type": "markdown",
   "metadata": {},
   "source": [
    "## PART 1 - CRUD Operations (2 คะแนน)\n",
    "\n",
    "1.1 สร้างข้อมูลนัดหมาย (`Appointment`) ของลูกค้า \"Customer 4\" ซึ่งต้องการจองนัดหมายบริการชื่อ \"Massage\" ที่ใช้เวลา (`duration`) น้อยที่สุด \n",
    "\n",
    "โดยสร้างนัดหมายในวันพรุ่งนี้ เวลา 13:00 น. \n",
    "\n",
    "(0.5 คะแนน)\n",
    "\n",
    "*หมายเหตุ 1: จะต้อง get ข้อมูลมาโดยใช้การ query ด้วยชื่อตามที่โจทย์ว่าเท่านั้น ห้ามใช้ id ใน database*\n",
    "\n",
    "*หมายเหตุ 2: ต้องใช้ `datetime.timedelta` ในการหาวันพรุ่งนี้*"
   ]
  },
  {
   "cell_type": "code",
   "execution_count": 29,
   "metadata": {},
   "outputs": [],
   "source": [
    "# CODE HERE\n",
    "from datetime import datetime, timedelta\n",
    "c = Customer.objects.get(name=\"Customer 4\")\n",
    "s = Service.objects.filter(name=\"Massage\").order_by(\"duration\").first()\n",
    "to = datetime.now() + timedelta(days=1)\n",
    "appoint1 = Appointment.objects.create(customer=c, service=s, appointment_date=to.date(), appointment_time='13:00:00', created_at=datetime.now().date())"
   ]
  },
  {
   "cell_type": "code",
   "execution_count": 30,
   "metadata": {},
   "outputs": [
    {
     "name": "stdout",
     "output_type": "stream",
     "text": [
      "Appoint ID: 17, Appoint Date: 2025-08-07, Appoint Time: 13:00:00\n",
      "Service ID: 9, Service Name: Massage, Provider Name: Provider 3, Customer Name: Customer 4\n"
     ]
    }
   ],
   "source": [
    "# Check result\n",
    "print(\"Appoint ID: %s, Appoint Date: %s, Appoint Time: %s\"%(\n",
    "    appoint1.id, appoint1.appointment_date, appoint1.appointment_time\n",
    "))\n",
    "print(\"Service ID: %s, Service Name: %s, Provider Name: %s, Customer Name: %s\"%(\n",
    "    appoint1.service.id, appoint1.service.name, appoint1.service.service_provider.name, appoint1.customer.name\n",
    "))"
   ]
  },
  {
   "cell_type": "markdown",
   "metadata": {},
   "source": [
    "1.2 ทำการแก้ไขนัดหมาย ณ วันที่ 2024-08-17 ของ \"Customer 2\" โดยเปลี่ยนจากเดิมที่นัดมาให้บริการ \"Haircut\" ของ \"Provider 4\" เป็น \"Manicure\" ของ \"Provider 2\" แทน\n",
    "\n",
    "(0.25 คะแนน)\n",
    "\n",
    "*หมายเหตุ: จะต้อง get ข้อมูลมาโดยใช้การ query ด้วยชื่อตามที่โจทย์ว่าเท่านั้น ห้ามใช้ id ใน database*"
   ]
  },
  {
   "cell_type": "code",
   "execution_count": 37,
   "metadata": {},
   "outputs": [],
   "source": [
    "# CODE HERE\n",
    "appoint2 =  Appointment.objects.get(appointment_date='2024-08-17', customer__name=\"Customer 2\")\n",
    "newser = Service.objects.get(name=\"Manicure\", service_provider__name=\"Provider 2\")\n",
    "appoint2.service = newser\n",
    "appoint2.save()"
   ]
  },
  {
   "cell_type": "code",
   "execution_count": 38,
   "metadata": {},
   "outputs": [
    {
     "name": "stdout",
     "output_type": "stream",
     "text": [
      "Appoint ID: 10, Appoint Date: 2024-08-17, Appoint Time: 14:00:00\n",
      "Service ID: 5, Service Name: Manicure, Provider Name: Provider 2, Customer Name: Customer 2\n"
     ]
    }
   ],
   "source": [
    "# Check result\n",
    "print(\"Appoint ID: %s, Appoint Date: %s, Appoint Time: %s\" % (\n",
    "    appoint2.id, appoint2.appointment_date, appoint2.appointment_time\n",
    "))\n",
    "print(\"Service ID: %s, Service Name: %s, Provider Name: %s, Customer Name: %s\" % (\n",
    "    appoint2.service.id, appoint2.service.name, appoint2.service.service_provider.name, appoint2.customer.name\n",
    "))"
   ]
  },
  {
   "cell_type": "markdown",
   "metadata": {},
   "source": [
    "1.3 ทำตามขั้นตอนดังนี้\n",
    "\n",
    "1. สร้างข้อมูลลูกค้า (`Customer`) ใหม่ที่มีชื่อ, อีเมล และเบอร์โทร เป็นของนักศึกษา _ตัวอย่าง (65070xxx, 65070xxx@kmitl.ac.th, 000-000-0000)_\n",
    "2. สร้างข้อมูลหมวดหมู่บริการ (`ServiceCategory`) ใหม่ที่มีชื่อ \"Energy & Body Care\" และมีรายละเอียดว่า \"Service related to body & mind\"\n",
    "3. สร้างข้อมูลบริการ (`Service`) ที่มีข้อมูลดังนี้\n",
    "\n",
    "    - Name: 'Force training'\n",
    "    - Description: 'Enhance your power and control. Involve learning various techniques, such as Force push, telekinesis'\n",
    "    - Duration: '12:00:00'\n",
    "    - Price: 3500.66\n",
    "    - บริการโดย \"Provider 1\" และ \"Provider 4\" \n",
    "    (Hint: ดังนั้นต้องสร้างบริการ (`Service`) 2 รายการ ของแต่ละผู้ให้บริการ (`ServiceProvider`))\n",
    "\n",
    "4. เพิ่มบริการที่สร้างเข้าไปในหมวดหมู่บริการ (`ServiceCategory`) \"Energy & Body Care\"\n",
    "5. สร้างข้อมูลนัดหมาย (`Appointment`) ของลูกค้าที่พึ่งสร้างมาใหม่ในข้อ 1 ซึ่งต้องการรับบริการ \"Force training\" ของ \"Provider 4\" ณ วันนี้ และเวลาปัจจุบัน (Hint: `datetime.now()`)\n",
    "6. ทำการย้ายบริการ (`Service`) ในหมวดหมู่บริการ (`ServiceCategory`) \"Body Care\" ทั้งหมดไปยังหมวดหมู่ \"Energy & Body Care\"\n",
    "7. ทำการลบหมวดหมู่บริการ (`ServiceCategory`) \"Body Care\"\n",
    "\n",
    "(1 คะแนน)\n",
    "\n",
    "*หมายเหตุ 1: จะต้อง get ข้อมูลมาโดยใช้การ query ด้วยชื่อตามที่โจทย์ว่าเท่านั้น ห้ามใช้ id ใน database*\n",
    "\n",
    "*หมายเหตุ 2: เบอร์โทรไม่จำเป็นต้องเป็นของจริง*"
   ]
  },
  {
   "cell_type": "code",
   "execution_count": 49,
   "metadata": {},
   "outputs": [
    {
     "data": {
      "text/plain": [
       "(1, {'service.ServiceCategory': 1})"
      ]
     },
     "execution_count": 49,
     "metadata": {},
     "output_type": "execute_result"
    }
   ],
   "source": [
    "# CODE HERE\n",
    "customer = Customer.objects.create(name=\"Panavat\", email=\"66070113@kmitl.ac.th\", phone=\"062-000-0000\")\n",
    "\n",
    "new_cat = ServiceCategory.objects.create(name=\"Energy & Body Care\", description=\"Service related to body & mind\")\n",
    "\n",
    "pro1 = ServiceProvider.objects.get(name=\"Provider 1\")\n",
    "pro4 = ServiceProvider.objects.get(name=\"Provider 4\")\n",
    "\n",
    "new_ser_pro1 = Service.objects.create(service_provider=pro1,name='Force training', description='Enhance your power and control. Involve learning various techniques, such as Force push, telekinesis'\n",
    "                                ,duration='12:00:00', price=3500.66)\n",
    "new_ser_pro4 = Service.objects.create(service_provider=pro4,name='Force training', description='Enhance your power and control. Involve learning various techniques, such as Force push, telekinesis'\n",
    "                                ,duration='12:00:00', price=3500.66)\n",
    "\n",
    "new_cat.services.add(new_ser_pro1, new_ser_pro4)\n",
    "\n",
    "time = datetime.now()\n",
    "appoint3 = Appointment.objects.create(customer=customer, service=new_ser_pro4,appointment_date=time, appointment_time=time, created_at=time)\n",
    "\n",
    "all_ser_body = Service.objects.filter(servicecategory__name=\"Body Care\")\n",
    "cat_body = ServiceCategory.objects.get(name=\"Body Care\")\n",
    "for ser_body in all_ser_body:\n",
    "    cat_body.services.remove(ser_body)\n",
    "    new_cat.services.add(ser_body)\n",
    "cat_body.delete()"
   ]
  },
  {
   "cell_type": "code",
   "execution_count": 50,
   "metadata": {
    "scrolled": true
   },
   "outputs": [
    {
     "name": "stdout",
     "output_type": "stream",
     "text": [
      "Number of services in Energy & Body Care category: 7\n",
      "Appoint Date: 2025-08-06 10:29:42.803588, Appoint Time: 2025-08-06 10:29:42.803588\n",
      "Appointment's Service: Force training, Provider: Provider 4, Customer: Panavat\n"
     ]
    }
   ],
   "source": [
    "# Check result\n",
    "print(\"Number of services in Energy & Body Care category: %d\" % new_cat.services.count())\n",
    "print(\"Appoint Date: %s, Appoint Time: %s\"%(appoint3.appointment_date, appoint3.appointment_time))\n",
    "print(\"Appointment's Service: %s, Provider: %s, Customer: %s\" % (\n",
    "    appoint3.service.name, appoint3.service.service_provider.name, appoint3.customer.name\n",
    "))"
   ]
  },
  {
   "cell_type": "markdown",
   "metadata": {},
   "source": [
    "1.4 ทำการลบบริการที่ไม่เคยมีใครจองเลย (0.25 คะแนน)\n",
    "\n",
    "*หมายเหตุ: จะต้อง get ข้อมูลมาโดยใช้การ query ด้วยชื่อตามที่โจทย์ว่าเท่านั้น ห้ามใช้ id ใน database*"
   ]
  },
  {
   "cell_type": "code",
   "execution_count": 62,
   "metadata": {},
   "outputs": [
    {
     "name": "stdout",
     "output_type": "stream",
     "text": [
      "Number of service with no appointment (before): 5\n"
     ]
    }
   ],
   "source": [
    "# แสดงจำนวนบริการที่ไม่มีการนัดหมายเลย ก่อนลบ\n",
    "before_delete = Service.objects.annotate(nouse=Count(\"appointment\")).filter(nouse=0).count()\n",
    "print(f\"Number of service with no appointment (before): {before_delete}\")"
   ]
  },
  {
   "cell_type": "code",
   "execution_count": 64,
   "metadata": {
    "scrolled": true
   },
   "outputs": [],
   "source": [
    "# ทำการลบ\n",
    "s = Service.objects.annotate(nouse=Count(\"appointment\")).filter(nouse=0)\n",
    "for i in s:\n",
    "    i.delete()"
   ]
  },
  {
   "cell_type": "code",
   "execution_count": 65,
   "metadata": {},
   "outputs": [
    {
     "name": "stdout",
     "output_type": "stream",
     "text": [
      "Number of service with no appointment (after): 0\n"
     ]
    }
   ],
   "source": [
    "# แสดงจำนวนบริการที่ไม่มีการนัดหมายเลย หลังลบ\n",
    "after_delete = Service.objects.annotate(nouse=Count(\"appointment\")).filter(nouse=0).count()\n",
    "print(f\"Number of service with no appointment (after): {after_delete}\")"
   ]
  },
  {
   "cell_type": "markdown",
   "metadata": {},
   "source": [
    "## PART 2 - Making Queries (3 คะแนน)\n",
    "\n",
    "สำหรับ PART 2 ให้ทำการ reset DB และ import ข้อมูลใน `service.sql` เข้าไปใหม่"
   ]
  },
  {
   "cell_type": "markdown",
   "metadata": {},
   "source": [
    "2.1 ให้แสดงข้อมูลบริการ (`Service`) ที่มีราคาอยู่ในช่วง 25 ถึง 50 บาท\n",
    "\n",
    "(0.5 คะแนน)\n",
    "\n",
    "**Expected Output**\n",
    "\n",
    "*แสดงผลเรียงตาม `id` จากน้อยไปมาก*\n",
    "\n",
    "```\n",
    "ID: 2, NAME: Manicure, PRICE: 30\n",
    "ID: 5, NAME: Manicure, PRICE: 30\n",
    "ID: 8, NAME: Manicure, PRICE: 30\n",
    "ID: 11, NAME: Manicure, PRICE: 30\n",
    "```"
   ]
  },
  {
   "cell_type": "code",
   "execution_count": 11,
   "metadata": {
    "scrolled": true
   },
   "outputs": [],
   "source": [
    "# CODE HERE\n",
    "sers = Service.objects.filter(price__range=(25,50)).order_by(\"id\")"
   ]
  },
  {
   "cell_type": "code",
   "execution_count": 10,
   "metadata": {},
   "outputs": [
    {
     "name": "stdout",
     "output_type": "stream",
     "text": [
      "ID: 2, NAME: Manicure, PRICE: 30\n",
      "ID: 5, NAME: Manicure, PRICE: 30\n",
      "ID: 8, NAME: Manicure, PRICE: 30\n",
      "ID: 11, NAME: Manicure, PRICE: 30\n"
     ]
    }
   ],
   "source": [
    "# Print results\n",
    "for ser in sers:\n",
    "    print(f\"ID: {ser.id}, NAME: {ser.name}, PRICE: {ser.price}\")"
   ]
  },
  {
   "cell_type": "markdown",
   "metadata": {},
   "source": [
    "2.2 แสดงรายชื่อลูกค้า (`Customer`) ทุกคนที่มีการนัดหมายเข้าใช้บริการจากผู้ให้บริการ (`ServiceProvider`) ชื่อ \"Provider 3\"\n",
    "\n",
    "(0.5 คะแนน)\n",
    "\n",
    "**Expected Output**\n",
    "\n",
    "*แสดงผลเรียงตาม `id` จากน้อยไปมาก*\n",
    "\n",
    "```\n",
    "ID: 1, NAME: Customer 1\n",
    "ID: 4, NAME: Customer 4\n",
    "```"
   ]
  },
  {
   "cell_type": "code",
   "execution_count": 16,
   "metadata": {},
   "outputs": [],
   "source": [
    "# CODE HERE\n",
    "cuss = Customer.objects.filter(appointment__service__service_provider__name=\"Provider 3\").order_by(\"id\")"
   ]
  },
  {
   "cell_type": "code",
   "execution_count": 17,
   "metadata": {},
   "outputs": [
    {
     "name": "stdout",
     "output_type": "stream",
     "text": [
      "ID: 1, NAME: Customer 1\n",
      "ID: 4, NAME: Customer 4\n"
     ]
    }
   ],
   "source": [
    "# Print results\n",
    "for cus in cuss:\n",
    "    print(f\"ID: {cus.id}, NAME: {cus.name}\")"
   ]
  },
  {
   "cell_type": "markdown",
   "metadata": {},
   "source": [
    "2.3 ให้แสดงข้อมูลประเภทบริการ (`ServiceCategory`) ทั้งหมด และแสดงว่าแต่ละประเภทมีกี่บริการ (`Service`) ที่อยู่ในประเภทนั้น ๆ\n",
    "\n",
    "*หมายเหตุ: ห้ามใช้ `filter()` และควรใช้ `annotate()`*\n",
    "\n",
    "(0.5 คะแนน)\n",
    "\n",
    "**Expected Output**\n",
    "\n",
    "*แสดงผลเรียงจากจำนวน SERVICE COUNT มากไปน้อย*\n",
    "\n",
    "```\n",
    "ID: 3, NAME: Body Care, SERVICE COUNT: 5\n",
    "ID: 2, NAME: Nail Care, SERVICE COUNT: 4\n",
    "ID: 1, NAME: Hair Care, SERVICE COUNT: 4\n",
    "```"
   ]
  },
  {
   "cell_type": "code",
   "execution_count": 24,
   "metadata": {},
   "outputs": [],
   "source": [
    "# CODE HERE\n",
    "cat_sers = ServiceCategory.objects.annotate(ser_count=Count(\"services\")).order_by(\"-ser_count\")"
   ]
  },
  {
   "cell_type": "code",
   "execution_count": 26,
   "metadata": {},
   "outputs": [
    {
     "name": "stdout",
     "output_type": "stream",
     "text": [
      "ID: 3, NAME: Body Care, SERVICE COUNT: 5\n",
      "ID: 2, NAME: Nail Care, SERVICE COUNT: 4\n",
      "ID: 1, NAME: Hair Care, SERVICE COUNT: 4\n"
     ]
    }
   ],
   "source": [
    "# Print results\n",
    "for cat_ser in cat_sers:\n",
    "    print(f\"ID: {cat_ser.id}, NAME: {cat_ser.name}, SERVICE COUNT: {cat_ser.ser_count}\")"
   ]
  },
  {
   "cell_type": "markdown",
   "metadata": {},
   "source": [
    "2.4 ให้แสดงรายชื่อลูกค้า (`Customer`) ที่มีนัดหมายล่าสุดเป็นวันหลังจากวันที่ 14 สิงหาคม 2024 \n",
    "\n",
    "หมายเหตุ: ต้องมีการใช้ `Subquery()` อย่างน้อย 1 จุด\n",
    "\n",
    "(0.5 คะแนน)\n",
    "\n",
    "**Expected Output**\n",
    "```\n",
    "ID: 1, NAME: Customer 1, LATEST APPOINTMENT: 2024-08-15\n",
    "ID: 2, NAME: Customer 2, LATEST APPOINTMENT: 2024-08-17\n",
    "```"
   ]
  },
  {
   "cell_type": "code",
   "execution_count": 31,
   "metadata": {},
   "outputs": [],
   "source": [
    "# CODE HERE\n",
    "sub_get_all_appointment = Appointment.objects.filter(customer=OuterRef(\"pk\")).order_by(\"-appointment_date\")\n",
    "cuss = Customer.objects.annotate(lastorder=Subquery(sub_get_all_appointment.values(\"appointment_date\")[:1])).filter(lastorder__gt=\"2024-08-14\")"
   ]
  },
  {
   "cell_type": "code",
   "execution_count": 32,
   "metadata": {},
   "outputs": [
    {
     "name": "stdout",
     "output_type": "stream",
     "text": [
      "ID: 1, NAME: Customer 1, LATEST APPOINTMENT: 2024-08-15\n",
      "ID: 2, NAME: Customer 2, LATEST APPOINTMENT: 2024-08-17\n"
     ]
    }
   ],
   "source": [
    "# Print results\n",
    "for cus in cuss:\n",
    "    print(f\"ID: {cus.id}, NAME: {cus.name}, LATEST APPOINTMENT: {cus.lastorder}\")"
   ]
  },
  {
   "cell_type": "markdown",
   "metadata": {},
   "source": [
    "2.5 ให้รวมการใช้จ่ายของลูกค้าทุกคน และแสดงผล (1 คะแนน)\n",
    "\n",
    "*hint: ดูจาก `Appointment` ทั้งหมดของลูกค้า และรวม `Service.price` ทั้งหมด*\n",
    "\n",
    "**Expected Output**\n",
    "```\n",
    "ID: 1, NAME: Customer 1, TOTAL SPEND: 210\n",
    "ID: 2, NAME: Customer 2, TOTAL SPEND: 180\n",
    "ID: 3, NAME: Customer 3, TOTAL SPEND: 230\n",
    "ID: 4, NAME: Customer 4, TOTAL SPEND: 150\n",
    "```"
   ]
  },
  {
   "cell_type": "code",
   "execution_count": 42,
   "metadata": {},
   "outputs": [],
   "source": [
    "# CODE HERE\n",
    "cuss = Customer.objects.annotate(total=Sum(\"appointment__service__price\")).order_by(\"id\")"
   ]
  },
  {
   "cell_type": "code",
   "execution_count": 43,
   "metadata": {},
   "outputs": [
    {
     "name": "stdout",
     "output_type": "stream",
     "text": [
      "ID: 1, NAME: Customer 1, TOTAL SPEND: 210\n",
      "ID: 2, NAME: Customer 2, TOTAL SPEND: 180\n",
      "ID: 3, NAME: Customer 3, TOTAL SPEND: 230\n",
      "ID: 4, NAME: Customer 4, TOTAL SPEND: 150\n"
     ]
    }
   ],
   "source": [
    "# Print results\n",
    "for cus in cuss:\n",
    "    print(f\"ID: {cus.id}, NAME: {cus.name}, TOTAL SPEND: {cus.total}\")"
   ]
  },
  {
   "cell_type": "markdown",
   "metadata": {},
   "source": [
    "2.6 ให้แสดงรายชื่อผู้ให้บริการ (`ServiceProvider`) นับจำนวนนัดหมาย (`Appointment`) และยอดรวมยอดขาย (`Appointment.service.price`) ของแต่ละผู้ให้บริการ\n",
    "\n",
    "*หมายเหตุ: ควรใช้ `annotate()`*\n",
    "\n",
    "(1 คะแนน - ข้อนี้คะแนนแถมถึงทำได้ก็จะได้เต็ม 5 อยู่ดีนะครับ เผื่อข้ออื่นๆ ก่อนหน้ามีพลาดทำผิด)\n",
    "\n",
    "**Expected Output**\n",
    "\n",
    "*แสดงผลเรียงจากยอดรวมยอดขาย (REVENUE) มากไปน้อย*\n",
    "\n",
    "```\n",
    "ID: 1, NAME: Provider 1, APPOINT COUNT: 7, REVENUE: 410\n",
    "ID: 2, NAME: Provider 2, APPOINT COUNT: 5, REVENUE: 210\n",
    "ID: 3, NAME: Provider 3, APPOINT COUNT: 2, REVENUE: 130\n",
    "ID: 4, NAME: Provider 4, APPOINT COUNT: 1, REVENUE: 20\n",
    "```"
   ]
  },
  {
   "cell_type": "code",
   "execution_count": 50,
   "metadata": {},
   "outputs": [],
   "source": [
    "# CODE HERE\n",
    "ser_pros = ServiceProvider.objects.annotate(ap_count=Count(\"service__appointment\"), rev=Sum(\"service__appointment__service__price\")).order_by(\"-rev\")"
   ]
  },
  {
   "cell_type": "code",
   "execution_count": 51,
   "metadata": {},
   "outputs": [
    {
     "name": "stdout",
     "output_type": "stream",
     "text": [
      "ID: 1, NAME: Provider 1, APPOINT COUNT: 7, REVENUE: 410\n",
      "ID: 2, NAME: Provider 2, APPOINT COUNT: 5, REVENUE: 210\n",
      "ID: 3, NAME: Provider 3, APPOINT COUNT: 2, REVENUE: 130\n",
      "ID: 4, NAME: Provider 4, APPOINT COUNT: 1, REVENUE: 20\n"
     ]
    }
   ],
   "source": [
    "# Print results\n",
    "for ser_pro in ser_pros:\n",
    "    print(f\"ID: {ser_pro.id}, NAME: {ser_pro.name}, APPOINT COUNT: {ser_pro.ap_count}, REVENUE: {ser_pro.rev}\")"
   ]
  },
  {
   "cell_type": "code",
   "execution_count": null,
   "metadata": {},
   "outputs": [],
   "source": []
  }
 ],
 "metadata": {
  "kernelspec": {
   "display_name": "Django Shell-Plus",
   "language": "python",
   "name": "django_extensions"
  },
  "language_info": {
   "codemirror_mode": {
    "name": "ipython",
    "version": 3
   },
   "file_extension": ".py",
   "mimetype": "text/x-python",
   "name": "python",
   "nbconvert_exporter": "python",
   "pygments_lexer": "ipython3",
   "version": "3.13.0"
  }
 },
 "nbformat": 4,
 "nbformat_minor": 2
}
