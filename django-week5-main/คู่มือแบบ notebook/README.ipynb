{
 "cells": [
  {
   "cell_type": "markdown",
   "id": "7ab12715",
   "metadata": {},
   "source": [
    "# Django WEEK 5 - Making Queries (Advanced)\n",
    "\n",
    "## Today's topics\n",
    "\n",
    "1. Query Expression\n",
    "2. Many-to-one Relationships\n",
    "3. One-to-one Relationships\n",
    "4. Many-to-many Relationships"
   ]
  }
 ],
 "metadata": {
  "jupytext": {
   "cell_metadata_filter": "-all",
   "main_language": "python",
   "notebook_metadata_filter": "-all"
  }
 },
 "nbformat": 4,
 "nbformat_minor": 5
}
