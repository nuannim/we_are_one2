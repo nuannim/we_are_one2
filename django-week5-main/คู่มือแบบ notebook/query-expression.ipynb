{
 "cells": [
  {
   "cell_type": "markdown",
   "id": "5148867f",
   "metadata": {},
   "source": [
    "# Query Expressions\n",
    "\n",
    "[Django Doc](https://docs.djangoproject.com/en/5.2/ref/models/expressions/#query-expressions)\n",
    "\n",
    "ORM ของ Django นั้น support การใช้งาน function ในการคำนวณ (+, -, *, /) การ aggregate ต่างๆ เช่น SUM(), MIN(), MAX(), COUNT(), AVG() และการทำ Subquery\n",
    "\n",
    "ซึ่งในส่วนนี้เราจะเรียกว่าการทำ Query Expression\n",
    "\n",
    "สมมติเรามี model `Company` ดังนี้"
   ]
  },
  {
   "cell_type": "code",
   "execution_count": null,
   "id": "b385aca5",
   "metadata": {},
   "outputs": [],
   "source": [
    "from datetime import date\n",
    "\n",
    "from django.db import models\n",
    "\n",
    "\n",
    "class Company(models.Model):\n",
    "    name = models.CharField(max_length=100)\n",
    "    ticker = models.CharField(max_length=20, null=True)\n",
    "    num_employees = models.IntegerField()\n",
    "    num_tables = models.IntegerField()\n",
    "    num_chairs = models.IntegerField()\n",
    "\n",
    "    def __str__(self):\n",
    "        return self.name"
   ]
  },
  {
   "cell_type": "markdown",
   "id": "4bc9d683",
   "metadata": {},
   "source": [
    "เรามา setup project กันสำหรับ tutorial นี้\n",
    "\n",
    "1. สร้าง project ใหม่ชื่อ `week5_tutorial` (สร้าง vitual environment ใหม่ด้วย)\n",
    "2. สร้าง app ชื่อ `companies` และทำการตั้งค่าใน `settings.py`\n",
    "3. แก้ไขไฟล์ `/companies/models.py` และเพิ่ม code ด้่านบนลงไป โดย models นี้เราจะใช้ในการทำ tutorial วันนี้กัน\n",
    "4. `makemigrations` และ `migrate`\n",
    "\n",
    "เปิด Django shell จากนั้นสร้างแถวข้อมูลด้วยคำสั่ง"
   ]
  },
  {
   "cell_type": "code",
   "execution_count": null,
   "id": "4bc3aa86",
   "metadata": {},
   "outputs": [],
   "source": [
    ">>> from company.models\n",
    ">>> Company.objects.create(name=\"Company AAA\", num_employees=120, num_chairs=150, num_tables=60)\n",
    ">>> Company.objects.create(name=\"Company BBB\", num_employees=50, num_chairs=30, num_tables=20)\n",
    ">>> Company.objects.create(name=\"Company CCC\", num_employees=100, num_chairs=40, num_tables=40)"
   ]
  },
  {
   "cell_type": "markdown",
   "id": "79b68929",
   "metadata": {},
   "source": [
    "**ลองทดสอบคำสั่งด้านล่างนี้ดู แล้วดูสิว่าได้ผลลัพธ์เป็นอย่างไร**"
   ]
  },
  {
   "cell_type": "code",
   "execution_count": null,
   "id": "db7209b9",
   "metadata": {},
   "outputs": [],
   "source": [
    ">>> from company.models import Company\n",
    ">>> from django.db.models import Count, F, Value\n",
    ">>> from django.db.models.functions import Length, Upper\n",
    ">>> from django.db.models.lookups import GreaterThan\n",
    "\n",
    "# Find companies that have more employees than chairs.\n",
    ">>> Company.objects.filter(num_employees__gt=F(\"num_chairs\"))\n",
    "\n",
    "# Find companies that have at least twice as many employees as chairs.\n",
    ">>> Company.objects.filter(num_employees__gt=F(\"num_chairs\") * 2)\n",
    "\n",
    "# Find companies that have more employees than the number of chairs and tables combined.\n",
    ">>> Company.objects.filter(num_employees__gt=F(\"num_chairs\") + F(\"num_tables\"))\n",
    "\n",
    "# How many chairs are needed for each company to seat all employees?\n",
    ">>> company = (\n",
    "...     Company.objects.filter(num_employees__gt=F(\"num_chairs\"))\n",
    "...     .annotate(chairs_needed=F(\"num_employees\") - F(\"num_chairs\"))\n",
    "...     .first()\n",
    "... )\n",
    ">>> company.num_employees\n",
    "50\n",
    ">>> company.num_chairs\n",
    "30\n",
    ">>> company.chairs_needed\n",
    "20"
   ]
  },
  {
   "cell_type": "markdown",
   "id": "96734dc0",
   "metadata": {},
   "source": [
    "Django มี function ของ database ให้เรียกใช้ หลากหลาย เช่น\n",
    "\n",
    "- Greatest: เปรียบเทียบค่า 2 ค่าโดยจะ return ค่าที่มากที่สุด (สามารถเปรียบเทียบได้มากกว่า 2 ค่า)"
   ]
  },
  {
   "cell_type": "code",
   "execution_count": null,
   "id": "d9335da0",
   "metadata": {},
   "outputs": [],
   "source": [
    "class Blog(models.Model):\n",
    "    body = models.TextField()\n",
    "    modified = models.DateTimeField(auto_now=True)\n",
    "\n",
    "\n",
    "class Comment(models.Model):\n",
    "    body = models.TextField()\n",
    "    modified = models.DateTimeField(auto_now=True)\n",
    "    blog = models.ForeignKey(Blog, on_delete=models.CASCADE)\n",
    "\n",
    "---------------\n",
    "\n",
    ">>> from django.db.models.functions import Greatest\n",
    ">>> blog = Blog.objects.create(body=\"Greatest is the best.\")\n",
    ">>> comment = Comment.objects.create(body=\"No, Least is better.\", blog=blog)\n",
    ">>> comments = Comment.objects.annotate(last_updated=Greatest(\"modified\", \"blog__modified\"))"
   ]
  },
  {
   "cell_type": "markdown",
   "id": "288e0c84",
   "metadata": {},
   "source": [
    "- Now: เป็นเวลา server ณ เวลาปัจจุบัน"
   ]
  },
  {
   "cell_type": "code",
   "execution_count": null,
   "id": "934998b5",
   "metadata": {},
   "outputs": [],
   "source": [
    ">>> from django.db.models.functions import Now\n",
    ">>> Article.objects.filter(published__lte=Now())"
   ]
  },
  {
   "cell_type": "markdown",
   "id": "06127bac",
   "metadata": {},
   "source": [
    "- Concat: ต่อค่าใน CharField หรือ TextField 2 ตัวหรือมากกว่าเข้าด้วยกัน"
   ]
  },
  {
   "cell_type": "code",
   "execution_count": null,
   "id": "d5849267",
   "metadata": {},
   "outputs": [],
   "source": [
    ">>> # Get the display name as \"name (goes_by)\"\n",
    ">>> from django.db.models import CharField, Value as V\n",
    ">>> from django.db.models.functions import Concat\n",
    ">>> Author.objects.create(name=\"Margaret Smith\", goes_by=\"Maggie\")\n",
    ">>> author = Author.objects.annotate(\n",
    "...     screen_name=Concat(\"name\", V(\" (\"), \"goes_by\", V(\")\"), output_field=CharField())\n",
    "... ).get()\n",
    ">>> print(author.screen_name)\n",
    "Margaret Smith (Maggie)"
   ]
  },
  {
   "cell_type": "markdown",
   "id": "f50f096b",
   "metadata": {},
   "source": [
    "ยังมีให้เลือกใช้อีกมากมาย สามารถดูใน document ได้เลยครับ\n",
    "\n",
    "[Doc - Database Functions](https://docs.djangoproject.com/en/5.2/ref/models/database-functions/)\n",
    "\n",
    "## Aggregate expression\n",
    "\n",
    "สำหรับ tutorial นี้ให้ทำตามขั้นตอนนี้ \n",
    "\n",
    "1. สร้าง app ใหม่ชื่อ `books` ใน project `week5_tutorial` อันเดิม\n",
    "2. เพิ่ม app books ใน `settings.py`\n",
    "3. แก้ไขไฟล์ `/books/models.py` และเพิ่ม code ด้่านล่างลงไป โดย models เหล่านี้เราจะใช้ในการทำ tutorial นี้กัน\n",
    "4. `makemigrations` และ `migrate`"
   ]
  },
  {
   "cell_type": "code",
   "execution_count": null,
   "id": "2d124a49",
   "metadata": {},
   "outputs": [],
   "source": [
    "from django.db import models\n",
    "\n",
    "\n",
    "class Author(models.Model):\n",
    "    name = models.CharField(max_length=100)\n",
    "    age = models.IntegerField()\n",
    "\n",
    "\n",
    "class Publisher(models.Model):\n",
    "    name = models.CharField(max_length=300)\n",
    "\n",
    "\n",
    "class Book(models.Model):\n",
    "    name = models.CharField(max_length=300)\n",
    "    pages = models.IntegerField()\n",
    "    price = models.DecimalField(max_digits=10, decimal_places=2)\n",
    "    rating = models.FloatField()\n",
    "    authors = models.ManyToManyField(Author)\n",
    "    publisher = models.ForeignKey(Publisher, on_delete=models.CASCADE)\n",
    "    pubdate = models.DateField()\n",
    "\n",
    "\n",
    "class Store(models.Model):\n",
    "    name = models.CharField(max_length=300)\n",
    "    books = models.ManyToManyField(Book)"
   ]
  },
  {
   "cell_type": "markdown",
   "id": "b1eebdd2",
   "metadata": {},
   "source": [
    "ทำการ import ข้อมูลเข้าตารางทั้งหมดด้วย SQL ในไฟล์ `books.sql`"
   ]
  },
  {
   "cell_type": "markdown",
   "id": "1df6fa6f",
   "metadata": {},
   "source": [
    "**ลองทดสอบคำสั่งด้านล่างนี้ดู แล้วดูสิว่าได้ผลลัพธ์เป็นอย่างไร**"
   ]
  },
  {
   "cell_type": "code",
   "execution_count": null,
   "id": "3fa7f344",
   "metadata": {},
   "outputs": [],
   "source": [
    ">>> from books.models import Book\n",
    "# Total number of books.\n",
    ">>> Book.objects.count()\n",
    "59\n",
    "\n",
    "# Total number of books with publisher=Penguin Books\n",
    ">>> Book.objects.filter(publisher__name=\"Penguin Books\").count()\n",
    "20\n",
    "\n",
    "# Average price across all books, provide default to be returned instead\n",
    "# of None if no books exist.\n",
    ">>> from django.db.models import Avg\n",
    ">>> Book.objects.aggregate(Avg(\"price\", default=0))\n",
    "{'price__avg': Decimal('9.7018644067796610')}\n",
    "\n",
    "# Max price across all books, provide default to be returned instead of\n",
    "# None if no books exist.\n",
    ">>> from django.db.models import Max\n",
    ">>> Book.objects.aggregate(Max(\"price\", default=0))\n",
    "{'price__max': Decimal('14.99')}\n",
    "\n",
    "# All the following queries involve traversing the Book<->Publisher\n",
    "# foreign key relationship backwards.\n",
    "\n",
    "# Each publisher, each with a count of books as a \"num_books\" attribute.\n",
    ">>> from books.models import Publisher\n",
    ">>> from django.db.models import Count\n",
    ">>> pubs = Publisher.objects.annotate(num_books=Count(\"book\"))\n",
    ">>> pubs\n",
    "<QuerySet [<Publisher: BaloneyPress>, <Publisher: SalamiPress>, ...]>\n",
    ">>> pubs[0].num_books\n",
    "20\n",
    "\n",
    "# Each publisher, with a separate count of books with a rating above and below 4\n",
    ">>> from django.db.models import Q\n",
    ">>> above = Publisher.objects.annotate(above_4=Count(\"book\", filter=Q(book__rating__gt=4)))\n",
    ">>> below = Publisher.objects.annotate(below_4=Count(\"book\", filter=Q(book__rating__lte=4)))\n",
    ">>> above[0].above_4\n",
    "16\n",
    ">>> below[0].below_4\n",
    "4\n",
    "\n",
    "# The top 5 publishers, in order by number of books.\n",
    ">>> pubs = Publisher.objects.annotate(num_books=Count(\"book\")).order_by(\"-num_books\")[:5]\n",
    ">>> pubs[0].num_books\n",
    "39"
   ]
  },
  {
   "cell_type": "markdown",
   "id": "eb8b5396",
   "metadata": {},
   "source": [
    "### Generating aggregates over a QuerySet\n",
    "\n",
    "ในกรณีที่เราต้องการคำนวณค่า summary ของ objects ทุกตัวใน QuerySet สามารถทำได้โดยการเรียก `aggregate()` และระบุว่าต้องการคำนวณค่า summary อะไร เช่น `Avg()`, `Max()`, `Min()`"
   ]
  },
  {
   "cell_type": "code",
   "execution_count": null,
   "id": "795f81ae",
   "metadata": {},
   "outputs": [],
   "source": [
    ">>> from django.db.models import Avg, Max, Min\n",
    ">>> Book.objects.all().aggregate(Avg(\"price\"))\n",
    "{'price__avg': 34.35}\n",
    "\n",
    ">>> Book.objects.aggregate(Avg(\"price\"), Max(\"price\"), Min(\"price\"))\n",
    "{'price__avg': 34.35, 'price__max': Decimal('81.20'), 'price__min': Decimal('12.99')}"
   ]
  },
  {
   "cell_type": "markdown",
   "id": "b014cd92",
   "metadata": {},
   "source": [
    "### Generating aggregates for *each item* in a QuerySet\n",
    "\n",
    "สำหรับกรณีที่ต้องการคำนวณค่า summary ของแต่ละ record ใน QuerySet สามารถทำได้โดยการเรียก `annotate()` ยกตัวอย่างเช่นถ้าเราต้องการหาจำนวนผู้เขียน (`Author`) ของหนังสือ (`Book`) แต่ละเล่ม"
   ]
  },
  {
   "cell_type": "code",
   "execution_count": null,
   "id": "eefa8eb0",
   "metadata": {},
   "outputs": [],
   "source": [
    "# Build an annotated queryset\n",
    ">>> from django.db.models import Count\n",
    ">>> q = Book.objects.annotate(num_authors=Count(\"authors\"))\n",
    "# Interrogate the first object in the queryset\n",
    ">>> q[0]\n",
    "<Book: The Definitive Guide to Django>\n",
    ">>> q[0].num_authors\n",
    "2\n",
    "# Interrogate the second object in the queryset\n",
    ">>> q[1]\n",
    "<Book: Practical Django Projects>\n",
    ">>> q[1].num_authors\n",
    "1"
   ]
  },
  {
   "cell_type": "markdown",
   "id": "78809783",
   "metadata": {},
   "source": [
    "เราสามารถ annotate หลายค่าได้ดังนี้"
   ]
  },
  {
   "cell_type": "code",
   "execution_count": null,
   "id": "664959a0",
   "metadata": {},
   "outputs": [],
   "source": [
    ">>> book = Book.objects.first()\n",
    ">>> book.authors.count()\n",
    "2\n",
    ">>> book.store_set.count()\n",
    "3\n",
    ">>> q = Book.objects.annotate(Count(\"authors\"), Count(\"store\"))\n",
    ">>> q[0].authors__count\n",
    "6\n",
    ">>> q[0].store__count\n",
    "6"
   ]
  },
  {
   "cell_type": "markdown",
   "id": "4dbd53b3",
   "metadata": {},
   "source": [
    "การ aggregate หลาย field จะได้ข้อมูลที่ไม่ถูกต้องเพราะเป็นการ join ทำให้ข้อมูลซ้ำซ้อน โดยสามารถแก้ไขได้โดยใช้ `distinct=True`"
   ]
  },
  {
   "cell_type": "code",
   "execution_count": null,
   "id": "4df3de8e",
   "metadata": {},
   "outputs": [],
   "source": [
    ">>> q = Book.objects.annotate(\n",
    "...     Count(\"authors\", distinct=True), Count(\"store\", distinct=True)\n",
    "... )\n",
    ">>> q[0].authors__count\n",
    "2\n",
    ">>> q[0].store__count\n",
    "3"
   ]
  },
  {
   "cell_type": "markdown",
   "id": "3eb8938f",
   "metadata": {},
   "source": [
    "เรายังสามารถใช้ `__` (double underscore notation) ได้ เพื่อ aggregate หรือ annotate ข้อมูลในตารางอื่นที่มีความสัมพันธ์กันอยู่ได้ เช่น"
   ]
  },
  {
   "cell_type": "code",
   "execution_count": null,
   "id": "510ace5d",
   "metadata": {},
   "outputs": [],
   "source": [
    ">>> from django.db.models import Max, Min\n",
    ">>> Store.objects.annotate(min_price=Min(\"books__price\"), max_price=Max(\"books__price\"))\n",
    "\n",
    ">>> Store.objects.aggregate(youngest_age=Min(\"books__authors__age\"))"
   ]
  },
  {
   "cell_type": "markdown",
   "id": "7b21a258",
   "metadata": {},
   "source": [
    "### Using values()\n",
    "\n",
    "การทำ aggregation group by สามารถทำได้โดยการใช้ `values()` เช่น"
   ]
  },
  {
   "cell_type": "code",
   "execution_count": null,
   "id": "ef3775e3",
   "metadata": {},
   "outputs": [],
   "source": [
    ">>> Author.objects.annotate(average_rating=Avg(\"book__rating\"))\n",
    "\n",
    ">>> Author.objects.values(\"name\").annotate(average_rating=Avg(\"book__rating\"))"
   ]
  },
  {
   "cell_type": "markdown",
   "id": "7029a202",
   "metadata": {},
   "source": [
    "ทั้งสอง statement ด้านบนนั้นแตกต่างกัน โดย statement แรกจะเป็นการ aggregate ค่า rating ของหนังสือของผู้เขียนทุกคนใน QuerySet แต่ใน stattment ที่สองจะเป็นการ ggregate ค่า rating ของหนังสือของผู้เขียนโดย group by `name` (ถ้ามีผู้เขียนที่ชื่อเหมือนกันจะนับเป็นคนเดียวกัน)\n",
    "\n",
    "**การ group by ด้วย values() จะต้องเรียกใช้ values() ก่อน annotate()**\n",
    "\n",
    "โดยถ้าวาง values() ไว้หลัง annotate จะเป็นการแปลง QuerySet เป็น list of dictionaries ซึ่งไม่เป็นการ group by"
   ]
  },
  {
   "cell_type": "code",
   "execution_count": null,
   "id": "633c84ce",
   "metadata": {},
   "outputs": [],
   "source": [
    ">>> Author.objects.annotate(average_rating=Avg(\"book__rating\")).values(\n",
    "...     \"name\", \"average_rating\"\n",
    "... )"
   ]
  },
  {
   "cell_type": "markdown",
   "id": "53781dac",
   "metadata": {},
   "source": [
    "## Subquery Expressions\n",
    "\n",
    "นอกจากนั้น Django ORM ยังรองรับการทำ Subquery อีกด้วย\n",
    "\n",
    "Subquery คืออะไร? เรามาดูตัวอย่างกัน \n",
    "\n",
    "Credit: [skooldio](https://blog.skooldio.com/how-to-use-subquery/)\n",
    "\n",
    "สมมติเรามีตารางข้อมูลดังนี้\n",
    "\n",
    "| name                       | studio    | year | gross |\n",
    "|----------------------------|-----------|------|-------|\n",
    "| ก้านกล้วย                  | กันตนา     | 2549 | 93.63 |\n",
    "| ก้านกล้วย 2               | กันตนา     | 2552 | 79.26 |\n",
    "| ฉลาดเกมส์โกง               | จีดีเอช ห้าห้าเก้า | 2560 | 112.15 |\n",
    "| แฟนเดย์..แฟนกันแค่วันเดียว | จีดีเอช ห้าห้าเก้า | 2559 | 110.91 |\n",
    "| พี่มาก..พระโขนง             | จีดีเอช     | 2556 | 559.59 |\n",
    "\n",
    "เราสามารถเขียน Subquery ได้ดังตัวอย่าง"
   ]
  },
  {
   "cell_type": "code",
   "execution_count": null,
   "id": "b0843544",
   "metadata": {},
   "outputs": [],
   "source": [
    "%%sql\n",
    "SELECT *,\n",
    "      ( SELECT MAX(gross)\n",
    "        FROM thai_boxoffice\n",
    "        WHERE studio = m.studio\n",
    "      ) AS studio_max_gross\n",
    "FROM thai_boxoffice AS m \n",
    "ORDER BY studio, gross"
   ]
  },
  {
   "cell_type": "markdown",
   "id": "4ed880d3",
   "metadata": {},
   "source": [
    "ซึ่งจะได้ผลลัพธ์ดังนี้\n",
    "\n",
    "| name                       | studio    | year | gross | studio_max_gross |\n",
    "|----------------------------|-----------|------|-------|------------------|\n",
    "| ก้านกล้วย                  | กันตนา     | 2549 | 93.63 | 93.63            |\n",
    "| ก้านกล้วย 2               | กันตนา     | 2552 | 79.26 | 93.63            |\n",
    "| ฉลาดเกมส์โกง               | จีดีเอช ห้าห้าเก้า | 2560 | 112.15 | 112.15           |\n",
    "| แฟนเดย์..แฟนกันแค่วันเดียว | จีดีเอช ห้าห้าเก้า | 2559 | 110.91 | 112.15           |\n",
    "| พี่มาก..พระโขนง             | จีดีเอช     | 2556 | 559.59 | 559.59           |\n"
   ]
  },
  {
   "cell_type": "code",
   "execution_count": null,
   "id": "4f60cb0e",
   "metadata": {},
   "outputs": [],
   "source": [
    "%%sql\n",
    "SELECT *\n",
    "FROM thai_boxoffice AS m \n",
    "WHERE gross = ( SELECT MAX(gross)\n",
    "                FROM thai_boxoffice\n",
    "                WHERE studio = m.studio\n",
    "              )\n",
    "ORDER BY studio"
   ]
  },
  {
   "cell_type": "markdown",
   "id": "f8e18b9c",
   "metadata": {},
   "source": [
    "ซึ่งจะได้ผลลัพธ์ดังนี้\n",
    "\n",
    "| name                       | studio              | year | gross |\n",
    "|----------------------------|---------------------|------|-------|\n",
    "| ก้านกล้วย                  | กันตนา               | 2549 | 93.63 |\n",
    "| ฉลาดเกมส์โกง               | จีดีเอช ห้าห้าเก้า   | 2560 | 112.15 |\n",
    "| พี่มาก..พระโขนง             | จีดีเอช               | 2556 | 559.59 |"
   ]
  },
  {
   "cell_type": "markdown",
   "id": "64d24b2c",
   "metadata": {},
   "source": [
    "เข้าใจเรื่อง Subquery กันแล้วทีนี้เรามาดูกันว่า เราจำใช้งาน Subquery ใน Django ได้อย่างไร\n",
    "\n",
    "สมมติเรามี models ดังนี้"
   ]
  },
  {
   "cell_type": "code",
   "execution_count": null,
   "id": "78f6fb1a",
   "metadata": {},
   "outputs": [],
   "source": [
    "class Blog(models.Model):\n",
    "    body = models.TextField()\n",
    "    modified = models.DateTimeField(auto_now=True)\n",
    "\n",
    "\n",
    "class Comment(models.Model):\n",
    "    body = models.TextField()\n",
    "    length = models.IntegerField(default=0)\n",
    "    email = models.EmailField(null=True)\n",
    "    modified = models.DateTimeField(auto_now=True)\n",
    "    created_at = models.DateTimeField(auto_now_add=True)\n",
    "    blog = models.ForeignKey(Blog, on_delete=models.CASCADE)"
   ]
  },
  {
   "cell_type": "markdown",
   "id": "d94c6572",
   "metadata": {},
   "source": [
    "ถ้าเราต้องการหา email ของคนที่มา comment ใน blog ล่าสุด สามารถเขียนได้ดังนี้"
   ]
  },
  {
   "cell_type": "code",
   "execution_count": null,
   "id": "8f94b7e0",
   "metadata": {},
   "outputs": [],
   "source": [
    ">>> from django.db.models import OuterRef, Subquery\n",
    ">>> newest = Comment.objects.filter(blog=OuterRef(\"pk\")).order_by(\"-created_at\")\n",
    ">>> Blog.objects.annotate(newest_commenter_email=Subquery(newest.values(\"email\")[:1]))"
   ]
  },
  {
   "cell_type": "markdown",
   "id": "d217f8ab",
   "metadata": {},
   "source": [
    "จะแปลงเป็น SQL ได้ดังนี้"
   ]
  },
  {
   "cell_type": "code",
   "execution_count": null,
   "id": "fced7c52",
   "metadata": {},
   "outputs": [],
   "source": [
    "%%sql\n",
    "SELECT \"blog\".\"id\", (\n",
    "    SELECT U0.\"email\"\n",
    "    FROM \"comment\" U0\n",
    "    WHERE U0.\"blog_id\" = (\"blog\".\"id\")\n",
    "    ORDER BY U0.\"created_at\" DESC LIMIT 1\n",
    ") AS \"newest_commenter_email\" FROM \"blog\""
   ]
  },
  {
   "cell_type": "markdown",
   "id": "037ff63e",
   "metadata": {},
   "source": [
    "### Using aggregates within a Subquery expression\n",
    "\n",
    "สมมติเราต้องการหาว่า blog แต่ละ blog นั้นมีขนาดความยาวของ comment รวมเป็นเท่าไหร่"
   ]
  },
  {
   "cell_type": "code",
   "execution_count": null,
   "id": "2e7ddd0e",
   "metadata": {},
   "outputs": [],
   "source": [
    ">>> from django.db.models import OuterRef, Subquery, Sum\n",
    ">>> comments = Comment.objects.filter(blog=OuterRef(\"pk\")).order_by().values(\"blog\")\n",
    ">>> total_comments = comments.annotate(total=Sum(\"length\")).values(\"total\")\n",
    ">>> Post.objects.annotate(comment_length=Subquery(total_comments))"
   ]
  }
 ],
 "metadata": {
  "jupytext": {
   "cell_metadata_filter": "-all",
   "main_language": "python",
   "notebook_metadata_filter": "-all"
  }
 },
 "nbformat": 4,
 "nbformat_minor": 5
}
