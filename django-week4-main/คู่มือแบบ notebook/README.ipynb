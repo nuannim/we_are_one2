{
 "cells": [
  {
   "cell_type": "markdown",
   "id": "eff22e9a",
   "metadata": {},
   "source": [
    "# Django WEEK 4 - Making Queries\n",
    "\n",
    "[Django Doc](https://docs.djangoproject.com/en/5.0/topics/db/queries/)\n",
    "\n",
    "เมื่อเราทำการประกาศ class models.Model ใน models.py แล้ว เราจะสามารถใช้งาน database-abstraction API ที่จะช่วยให้เรา create, retrieve, update และ delete ข้อมูลในฐานข้อมูลได้อย่างง่ายและรวดเร็วมากๆ โดยไม่จำเป็นจะต้องเป็น SQL แม้แต่นิดเดียว\n",
    "\n",
    "เรามา setup project กันสำหรับ tutorial นี้\n",
    "\n",
    "1. สร้าง project ใหม่ชื่อ `week4_tutorial` (สร้าง vitual environment ใหม่ด้วย)\n",
    "2. สร้าง app ชื่อ `blogs` และทำการตั้งค่าใน `settings.py`\n",
    "3. แก้ไขไฟล์ `/blogs/models.py` และเพิ่ม code ด้่านล่างลงไป โดย models เหล่านี้เราจะใช้ในการทำ tutorial วันนี้กัน\n",
    "\n",
    "```Python\n",
    "from datetime import date\n",
    "\n",
    "from django.db import models\n",
    "\n",
    "\n",
    "class Blog(models.Model):\n",
    "    name = models.CharField(max_length=100)\n",
    "    tagline = models.TextField()\n",
    "\n",
    "    def __str__(self):\n",
    "        return self.name\n",
    "\n",
    "\n",
    "class Author(models.Model):\n",
    "    name = models.CharField(max_length=200)\n",
    "    email = models.EmailField()\n",
    "\n",
    "    def __str__(self):\n",
    "        return self.name\n",
    "\n",
    "\n",
    "class Entry(models.Model):\n",
    "    blog = models.ForeignKey(Blog, on_delete=models.CASCADE)\n",
    "    headline = models.CharField(max_length=255)\n",
    "    body_text = models.TextField()\n",
    "    pub_date = models.DateField()\n",
    "    mod_date = models.DateField(default=date.today)\n",
    "    authors = models.ManyToManyField(Author)\n",
    "    number_of_comments = models.IntegerField(default=0)\n",
    "    number_of_pingbacks = models.IntegerField(default=0)\n",
    "    rating = models.IntegerField(default=5)\n",
    "\n",
    "    def __str__(self):\n",
    "        return self.headline\n",
    "```\n",
    "\n",
    "4. ทำการ `makemigrations` และ `migration`\n",
    "\n",
    "## Creating objects\n",
    "\n",
    "ใน Django จะใช้หลักการดังนี้ `model class` จะเปรียบเสมือน `database table` และ `instance` ของ class นั้นๆ จะเปรียบเสมือนข้อมูล 1 `record` ใน table\n",
    "\n",
    "การสร้าง instance ของ class model ก็สามารถทำได้ง่ายๆ ดังนี้\n",
    "\n",
    "**NOTE: ให้เปิด Django shell ขึ้นมา (`python manage.py shell`) และพิมพ์คำสั่งดังนี้**"
   ]
  },
  {
   "cell_type": "code",
   "execution_count": null,
   "id": "73086b97",
   "metadata": {},
   "outputs": [],
   "source": [
    ">>> from blogs.models import Blog\n",
    ">>> b = Blog(name=\"Beatles Blog\", tagline=\"All the latest Beatles news.\")\n",
    ">>> b.save()"
   ]
  },
  {
   "cell_type": "markdown",
   "id": "0e8c1c8e",
   "metadata": {},
   "source": [
    "ซึ่ง Django จะเป็นการ generate SQL command `INSERT` เมื่อเราสั่ง `save()`\n",
    "\n",
    "## Saving changes to objects\n",
    "\n",
    "ในการบันทึกการแก้ไข record ที่มีอยู่ใน database แล้วก็ใช้ `save()` เช่นเดียวกัน"
   ]
  },
  {
   "cell_type": "code",
   "execution_count": null,
   "id": "54566e42",
   "metadata": {},
   "outputs": [],
   "source": [
    ">>> b.name = \"New name\"\n",
    ">>> b.save()"
   ]
  },
  {
   "cell_type": "markdown",
   "id": "a5a14f24",
   "metadata": {},
   "source": [
    "ซึ่ง Django จะเป็นการ generate SQL command `UPDATE` เมื่อเราสั่ง `save()`\n",
    "\n",
    "## Saving ForeignKey and ManyToManyField fields\n",
    "\n",
    "การ update foreign key ก็สามารถทำได้เหมือนกับการ update field ปกติ โดยใช้ `save()`"
   ]
  },
  {
   "cell_type": "code",
   "execution_count": null,
   "id": "1c8930ab",
   "metadata": {},
   "outputs": [],
   "source": [
    ">>> from blogs.models import Blog, Entry\n",
    ">>> from datetime import date\n",
    ">>> entry = Entry.objects.create(blog=b, headline=\"First entry\", body_text=\"Bla bla bla\", pub_date=date(2025, 1, 1))\n",
    ">>> cheese_blog = Blog.objects.create(name=\"Cheddar Talk\", tagline=\"Greate cheese!\")\n",
    ">>> entry.blog = cheese_blog # Update FK blog ของ entry (ID = 1) ไปที่ cheese_blog (name = \"Cheddar Talk\")\n",
    ">>> entry.save()"
   ]
  },
  {
   "cell_type": "markdown",
   "id": "a44c31c8",
   "metadata": {},
   "source": [
    "แต่การ update ManyToManyField จะทำงานแตกต่างไปนิดหน่อย เราจะต้องใช้ `add()` ดังตัวอย่าง\n",
    "\n",
    "สมมติเราต้องการ add instance `joe` เป็นหนึ่งใน `authors` ของ instance `entry` (ID = 1)"
   ]
  },
  {
   "cell_type": "code",
   "execution_count": null,
   "id": "35bb1bc7",
   "metadata": {},
   "outputs": [],
   "source": [
    ">>> from blogs.models import Author\n",
    ">>> joe = Author.objects.create(name=\"Joe\")\n",
    ">>> entry.authors.add(joe)"
   ]
  },
  {
   "cell_type": "markdown",
   "id": "113bb08c",
   "metadata": {},
   "source": [
    "เราสามารถ `add()` ที่ละหลายๆ instances เข้าไปก็ได้"
   ]
  },
  {
   "cell_type": "code",
   "execution_count": null,
   "id": "d81d0b21",
   "metadata": {},
   "outputs": [],
   "source": [
    ">>> john = Author.objects.create(name=\"John\")\n",
    ">>> paul = Author.objects.create(name=\"Paul\")\n",
    ">>> george = Author.objects.create(name=\"George\")\n",
    ">>> ringo = Author.objects.create(name=\"Ringo\")\n",
    ">>> entry.authors.add(john, paul, george, ringo)"
   ]
  },
  {
   "cell_type": "markdown",
   "id": "718de808",
   "metadata": {},
   "source": [
    "## Retrieving objects\n",
    "\n",
    "การ `SELECT` ข้อมูลออกมาจาก database นั้นทาง Django มี API ให้เราใช้งานได้ง่ายและสามารถทำ query ที่ซับซ้อนได้ด้วย โดยเราจะได้ instance ของ class `Queryset` มาใช้งาน\n",
    "\n",
    "> A **QuerySet** represents a collection of objects from your database. **Filters** narrow down the query results based on the given parameters. In SQL terms, a QuerySet equates to a SELECT statement, and a filter is a limiting clause such as WHERE or LIMIT.\n",
    "\n",
    "เราจะใช้งาน API ของ Django โดยการเรียกใช้ Manager ของ class `models.Model` การเข้าใช้งาน Manager จะเข้าถึงด้วย `.objects` ยกตัวอย่างถ้าเราต้องการ SELECT ข้อมูลทั้งหมดในตาราง `Entry`\n",
    "\n",
    "```Python\n",
    ">>> Entry.objects.all() # SELECT * FROM entry;\n",
    "```\n",
    "\n",
    "### Retrieving specific objects with filters\n",
    "\n",
    "ทีนี้เรามาลองเพิ่ม filter conditions กันบ้าง (ซึ่งก็คือการ `SELECT` โดยใส่เงื่อนไขใน `WHERE`)\n",
    "\n",
    "ยกตัวอย่างเช่นสมมติเราต้องการ QuerySet ของ blog entries ในปี 2010"
   ]
  },
  {
   "cell_type": "code",
   "execution_count": null,
   "id": "a8232a69",
   "metadata": {},
   "outputs": [],
   "source": [
    ">>> Entry.objects.filter(pub_date__year=2010)"
   ]
  },
  {
   "cell_type": "markdown",
   "id": "de46c765",
   "metadata": {},
   "source": [
    "*Hint: ในกรณีที่อยากรู้ว่า Django generate SQL อะไรสำหรับคำสั่งนี้ให้ลอง print `.query` ออกมา*"
   ]
  },
  {
   "cell_type": "code",
   "execution_count": null,
   "id": "fcc88cea",
   "metadata": {
    "lines_to_next_cell": 0
   },
   "outputs": [],
   "source": [
    ">>> print(Entry.objects.filter(pub_date__year=2010).query)"
   ]
  },
  {
   "cell_type": "markdown",
   "id": "8b9d9c41",
   "metadata": {},
   "source": [
    "_____\n",
    "**ก่อนทำ tutorial ในขั้นต่อไป เรามาเปลี่ยนไปใช้งานใน Jupyter Notebook กันดีกว่า - ไปทำตามขั้นตอนติดตั้งใน `django-notebook.md`**\n",
    "\n",
    "_____\n",
    "\n",
    "### Chaining filters\n",
    "\n",
    "เราสามารถ chain method `filter()` และ `exclude()` ได้\n",
    "\n",
    "**NOTE:** `exclude()` คือการใส่เงื่อนไขที่จะกรองข้อมูลออก ดังในตัวอย่างด้านล่างคือการกรองข้อมูล blog entries หลังจากวันปัจจุบันออก"
   ]
  },
  {
   "cell_type": "code",
   "execution_count": null,
   "id": "e4baed9a",
   "metadata": {},
   "outputs": [],
   "source": [
    ">>> Entry.objects.filter(headline__startswith=\"What\").exclude(\n",
    "...     pub_date__gte=datetime.date.today()\n",
    "... ).filter(pub_date__gte=datetime.date(2005, 1, 30))"
   ]
  },
  {
   "cell_type": "code",
   "execution_count": null,
   "id": "4f269609",
   "metadata": {},
   "outputs": [],
   "source": [
    "%%sql\n",
    "SELECT * FROM entry WHERE entry.headline LIKE \"What%\" AND entry.pub_date < CURRENT_TIME AND entry.pub_date >= \"2005-01-30\""
   ]
  },
  {
   "cell_type": "markdown",
   "id": "dc37ee52",
   "metadata": {},
   "source": [
    "### Retrieving a single object with get()\n",
    "\n",
    "การใช้ method `filter()` จะ return `QuerySet` ออกมาเสมอ แม้ว่า record ของข้อมูลที่ได้จากการ filter จะมีเพียง 1 record ก็จะได้ `QuerySet` ที่มีข้อมูล 1 แถวออกจาก ดังนั้นถ้าเราต้องการที่จะได้ instance ของ class นั้นมาใช้งานเลย (ไม่ใช่ `QuerySet`) เราจะต้องใช้ `get()`"
   ]
  },
  {
   "cell_type": "code",
   "execution_count": null,
   "id": "a2b1c701",
   "metadata": {},
   "outputs": [],
   "source": [
    ">>> one_entry = Entry.objects.get(pk=1)\n",
    ">>> one_entry = Entry.objects.filter(pk=1).first()\n",
    ">>> one_entry = Entry.objects.filter(pk=1)[0]\n",
    ">>> # ทั้ง 3 บรรทัดนี้ให้ผลเหมือนกัน"
   ]
  },
  {
   "cell_type": "markdown",
   "id": "c73ae7ac",
   "metadata": {},
   "source": [
    "### Limiting QuerySets\n",
    "\n",
    "ในกรณีที่เราต้อง SELECT และต้องการ LIMIT ผลลัพธ์เราสามารถทำได้คล้ายๆ กับการ slice list ของ Python"
   ]
  },
  {
   "cell_type": "code",
   "execution_count": null,
   "id": "14b2b3ec",
   "metadata": {},
   "outputs": [],
   "source": [
    ">>> Entry.objects.all()[:5] # LIMIT 5\n",
    "\n",
    ">>> Entry.objects.all()[5:10] # OFFSET 5 LIMIT 5"
   ]
  },
  {
   "cell_type": "markdown",
   "id": "b8500a28",
   "metadata": {},
   "source": [
    "**NOTE:** การใช้ negative index (`Entry.objects.all()[-1]`) นั้นไม่ support\n",
    "\n",
    "## Comparing objects\n",
    "\n",
    "การเปรียบเทียบ instance ของ model 2 ตัวว่าเป็นตัวเดียวกันไหม สามารถทำได้โดยใช้ `==`"
   ]
  },
  {
   "cell_type": "code",
   "execution_count": null,
   "id": "53edd908",
   "metadata": {},
   "outputs": [],
   "source": [
    ">>> some_entry == other_entry\n",
    ">>> some_entry.id == other_entry.id"
   ]
  },
  {
   "cell_type": "markdown",
   "id": "7a2a8d37",
   "metadata": {},
   "source": [
    "## Deleting objects\n",
    "\n",
    "การลบข้อมูลออกจาก database สามารถทำได้โดยใช้ method `delete()`\n",
    "\n",
    "ลบทีละตัว"
   ]
  },
  {
   "cell_type": "code",
   "execution_count": null,
   "id": "3a7ab7b5",
   "metadata": {},
   "outputs": [],
   "source": [
    ">>> e.delete()\n",
    "(1, {'blog.Entry': 1})"
   ]
  },
  {
   "cell_type": "markdown",
   "id": "acd62f7b",
   "metadata": {},
   "source": [
    "ลบทีละหลายตัว"
   ]
  },
  {
   "cell_type": "code",
   "execution_count": null,
   "id": "4221d58b",
   "metadata": {},
   "outputs": [],
   "source": [
    ">>> Entry.objects.filter(pub_date__year=2005).delete()\n",
    "(5, {'blog.Entry': 5})"
   ]
  },
  {
   "cell_type": "markdown",
   "id": "d4b74b51",
   "metadata": {},
   "source": [
    "## Copying model instances\n",
    "Django ไม่มี method สำหรับ copy model instances แต่เราสามารถทำการ copy และสร้าง instance ใหม่ที่มีทุก field เหมือนต้นฉบับได้โดยการ set ให้ instance.pk = None และ instance._state.adding = True\n",
    "\n",
    "ดังในตัวอย่าง"
   ]
  },
  {
   "cell_type": "code",
   "execution_count": null,
   "id": "125cd5a0",
   "metadata": {},
   "outputs": [],
   "source": [
    "blog = Blog(name=\"My blog\", tagline=\"Blogging is easy\")\n",
    "blog.save()  # blog.pk == 1\n",
    "\n",
    "blog.pk = None\n",
    "blog._state.adding = True\n",
    "blog.save()  # blog.pk == 2"
   ]
  },
  {
   "cell_type": "markdown",
   "id": "64f4b7bd",
   "metadata": {},
   "source": [
    "## Performing raw SQL query\n",
    "\n",
    "ในกรณีที่เราต้องการที่จะเขียน SQL query เอง (ORM ของ Django อาจจะไม่รองรับ ... ซึ่งผมแทบไม่เคยเจอเลยเพราะ ORM ของ Django นั้น advanced มากๆ)\n",
    "\n",
    "เราสามารถทำได้โดยใช้ `raw()` method\n",
    "\n",
    "> Manager.raw(raw_query, params=(), translations=None)"
   ]
  },
  {
   "cell_type": "code",
   "execution_count": null,
   "id": "2d31c3da",
   "metadata": {},
   "outputs": [],
   "source": [
    "# สมมติเรามี model Person\n",
    "class Person(models.Model):\n",
    "    first_name = models.CharField(...)\n",
    "    last_name = models.CharField(...)\n",
    "    birth_date = models.DateField(...)"
   ]
  },
  {
   "cell_type": "code",
   "execution_count": null,
   "id": "63717b6e",
   "metadata": {},
   "outputs": [],
   "source": [
    "%%sh\n",
    "# สามารถเขียน SELECT query ได้ดังนี้\n",
    ">>> for p in Person.objects.raw(\"SELECT * FROM myapp_person\"):\n",
    "...     print(p)\n",
    "...\n",
    "John Smith\n",
    "Jane Jones"
   ]
  },
  {
   "cell_type": "code",
   "execution_count": null,
   "id": "d2472593",
   "metadata": {},
   "outputs": [],
   "source": [
    "%%sh\n",
    "# สมมติชื่อ field ไม่ตรงกับที่ประกาศใน model\n",
    ">>> name_map = {\"first\": \"first_name\", \"last\": \"last_name\", \"bd\": \"birth_date\", \"pk\": \"id\"}\n",
    ">>> Person.objects.raw(\"SELECT * FROM some_other_table\", translations=name_map)"
   ]
  },
  {
   "cell_type": "markdown",
   "id": "d65a88a8",
   "metadata": {},
   "source": [
    "ผลลัพธ์ที่ได้จาก `raw()` เป็น instance ของ class `django.db.models.query.RawQuerySet` ซึ่งใช้งานคล้ายกับ `QuerySet` ที่เราคุ้นเคย"
   ]
  }
 ],
 "metadata": {
  "jupytext": {
   "cell_metadata_filter": "-all",
   "main_language": "python",
   "notebook_metadata_filter": "-all"
  }
 },
 "nbformat": 4,
 "nbformat_minor": 5
}
