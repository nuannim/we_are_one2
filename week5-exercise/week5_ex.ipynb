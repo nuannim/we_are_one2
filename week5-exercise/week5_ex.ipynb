{
 "cells": [
  {
   "cell_type": "code",
   "execution_count": 1,
   "id": "4a2564ce",
   "metadata": {},
   "outputs": [],
   "source": [
    "import os\n",
    "os.environ['DJANGO_ALLOW_ASYNC_UNSAFE'] = \"true\""
   ]
  },
  {
   "cell_type": "code",
   "execution_count": 41,
   "id": "e0813df7",
   "metadata": {},
   "outputs": [],
   "source": [
    "from shop.models import *\n",
    "import json\n",
    "from django.db.models import *\n",
    "from django.db.models.functions import *\n"
   ]
  },
  {
   "cell_type": "code",
   "execution_count": 3,
   "id": "0375834d",
   "metadata": {},
   "outputs": [
    {
     "data": {
      "text/plain": [
       "<QuerySet []>"
      ]
     },
     "execution_count": 3,
     "metadata": {},
     "output_type": "execute_result"
    }
   ],
   "source": [
    "Order.objects.all()"
   ]
  },
  {
   "cell_type": "code",
   "execution_count": 4,
   "id": "179304eb",
   "metadata": {},
   "outputs": [
    {
     "data": {
      "text/plain": [
       "<QuerySet [<Order: Order object (1)>, <Order: Order object (2)>, <Order: Order object (3)>, <Order: Order object (4)>, <Order: Order object (5)>, <Order: Order object (6)>, <Order: Order object (7)>, <Order: Order object (8)>, <Order: Order object (9)>, <Order: Order object (10)>, <Order: Order object (11)>, <Order: Order object (12)>, <Order: Order object (13)>, <Order: Order object (14)>, <Order: Order object (15)>, <Order: Order object (16)>, <Order: Order object (17)>, <Order: Order object (18)>, <Order: Order object (19)>, <Order: Order object (20)>, '...(remaining elements truncated)...']>"
      ]
     },
     "execution_count": 4,
     "metadata": {},
     "output_type": "execute_result"
    }
   ],
   "source": [
    "Order.objects.all()"
   ]
  },
  {
   "cell_type": "code",
   "execution_count": 16,
   "id": "88a8904b",
   "metadata": {},
   "outputs": [],
   "source": [
    "paym1 = Payment.objects.annotate(after_discount_price=F(\"price\")-F(\"discount\"))"
   ]
  },
  {
   "cell_type": "code",
   "execution_count": 17,
   "id": "39809c1d",
   "metadata": {},
   "outputs": [],
   "source": [
    "pay_o = paym1.all().order_by(\"-after_discount_price\")"
   ]
  },
  {
   "cell_type": "code",
   "execution_count": 18,
   "id": "a0571ae1",
   "metadata": {},
   "outputs": [
    {
     "name": "stdout",
     "output_type": "stream",
     "text": [
      "ID: 92 , PRICE: 1200500.00 , DISCOUNT: 29433.25 , AFTER_DISCOUNT 1171066.75\n",
      "ID: 82 , PRICE: 1200280.00 , DISCOUNT: 46229.40 , AFTER_DISCOUNT 1154050.60\n",
      "ID: 137 , PRICE: 1200690.00 , DISCOUNT: 71407.25 , AFTER_DISCOUNT 1129282.75\n",
      "ID: 105 , PRICE: 1200390.00 , DISCOUNT: 105019.11 , AFTER_DISCOUNT 1095370.89\n",
      "ID: 45 , PRICE: 1218900.00 , DISCOUNT: 126859.95 , AFTER_DISCOUNT 1092040.05\n",
      "ID: 7 , PRICE: 1201200.00 , DISCOUNT: 113446.20 , AFTER_DISCOUNT 1087753.80\n",
      "ID: 18 , PRICE: 1202190.00 , DISCOUNT: 121922.64 , AFTER_DISCOUNT 1080267.36\n",
      "ID: 77 , PRICE: 379000.00 , DISCOUNT: 19397.00 , AFTER_DISCOUNT 359603.00\n",
      "ID: 127 , PRICE: 320450.00 , DISCOUNT: 14578.90 , AFTER_DISCOUNT 305871.10\n",
      "ID: 125 , PRICE: 320399.00 , DISCOUNT: 17939.55 , AFTER_DISCOUNT 302459.45\n"
     ]
    }
   ],
   "source": [
    "for o in pay_o[:10]:\n",
    "    print(\"ID:\",o.id, \", PRICE:\", o.price,\", DISCOUNT:\", o.discount, \", AFTER_DISCOUNT\",o.after_discount_price)\n",
    "    "
   ]
  },
  {
   "cell_type": "code",
   "execution_count": 20,
   "id": "a995e02e",
   "metadata": {
    "scrolled": true
   },
   "outputs": [
    {
     "name": "stdout",
     "output_type": "stream",
     "text": [
      "ID: 92 , PRICE: 1200500.00 , DISCOUNT: 29433.25 , AFTER_DISCOUNT 1171066.75\n",
      "ID: 82 , PRICE: 1200280.00 , DISCOUNT: 46229.40 , AFTER_DISCOUNT 1154050.60\n",
      "ID: 137 , PRICE: 1200690.00 , DISCOUNT: 71407.25 , AFTER_DISCOUNT 1129282.75\n",
      "ID: 105 , PRICE: 1200390.00 , DISCOUNT: 105019.11 , AFTER_DISCOUNT 1095370.89\n",
      "ID: 45 , PRICE: 1218900.00 , DISCOUNT: 126859.95 , AFTER_DISCOUNT 1092040.05\n",
      "ID: 7 , PRICE: 1201200.00 , DISCOUNT: 113446.20 , AFTER_DISCOUNT 1087753.80\n",
      "ID: 18 , PRICE: 1202190.00 , DISCOUNT: 121922.64 , AFTER_DISCOUNT 1080267.36\n"
     ]
    }
   ],
   "source": [
    "pay_o2 = pay_o.filter(after_discount_price__gt=500000)\n",
    "for o in pay_o2[:7]:\n",
    "    print(\"ID:\",o.id, \", PRICE:\", o.price,\", DISCOUNT:\", o.discount, \", AFTER_DISCOUNT\",o.after_discount_price)"
   ]
  },
  {
   "cell_type": "code",
   "execution_count": 35,
   "id": "b4396f11",
   "metadata": {},
   "outputs": [
    {
     "name": "stdout",
     "output_type": "stream",
     "text": [
      "<QuerySet [{'id': 17, 'email': 'anantaya.deena@gmail.com', 'last_name': 'Tontong', 'full_name': 'Anantaya Tontong'}, {'id': 25, 'email': 'bancha.zeyou@gmail.com', 'last_name': 'Kittisompong', 'full_name': 'Bancha Kittisompong'}, {'id': 19, 'email': 'chayapol.231@gmail.com', 'last_name': 'Komprach', 'full_name': 'Chayapol Komprach'}, {'id': 4, 'email': 'dejwit.tt@gmail.com', 'last_name': 'Tangjareonsakul', 'full_name': 'Dejwit Tangjareonsakul'}, {'id': 11, 'email': 'jack.maa@gmail.com', 'last_name': 'Maa', 'full_name': 'Jack Maa'}]>\n"
     ]
    }
   ],
   "source": [
    "cus1 = Customer.objects.annotate(\n",
    "    full_name=Concat('first_name', Value(' '), 'last_name')\n",
    ").order_by('full_name')[:5]\n",
    "data = cus1.values('id', 'email', 'last_name', 'full_name')\n",
    "print(data)"
   ]
  },
  {
   "cell_type": "code",
   "execution_count": 34,
   "id": "b51bbee1",
   "metadata": {},
   "outputs": [
    {
     "name": "stdout",
     "output_type": "stream",
     "text": [
      "[\n",
      "    {\n",
      "        \"id\": 17,\n",
      "        \"first_name\": \"Anantaya\",\n",
      "        \"last_name\": \"Tontong\",\n",
      "        \"email\": \"anantaya.deena@gmail.com\",\n",
      "        \"address\": {\n",
      "            \"district\": \"Yan Nawa\",\n",
      "            \"location\": \"60 Thanon Chan Road\",\n",
      "            \"province\": \"Bangkok\",\n",
      "            \"postal_code\": 10120\n",
      "        },\n",
      "        \"full_name\": \"Anantaya Tontong\"\n",
      "    },\n",
      "    {\n",
      "        \"id\": 25,\n",
      "        \"first_name\": \"Bancha\",\n",
      "        \"last_name\": \"Kittisompong\",\n",
      "        \"email\": \"bancha.zeyou@gmail.com\",\n",
      "        \"address\": {\n",
      "            \"district\": \"Watthana\",\n",
      "            \"location\": \"6 Thong Lo Road\",\n",
      "            \"province\": \"Bangkok\",\n",
      "            \"postal_code\": 10110\n",
      "        },\n",
      "        \"full_name\": \"Bancha Kittisompong\"\n",
      "    },\n",
      "    {\n",
      "        \"id\": 19,\n",
      "        \"first_name\": \"Chayapol\",\n",
      "        \"last_name\": \"Komprach\",\n",
      "        \"email\": \"chayapol.231@gmail.com\",\n",
      "        \"address\": {\n",
      "            \"district\": \"Hang Chat\",\n",
      "            \"location\": \"160 Lampang Road\",\n",
      "            \"province\": \"Lampang\",\n",
      "            \"postal_code\": 52190\n",
      "        },\n",
      "        \"full_name\": \"Chayapol Komprach\"\n",
      "    },\n",
      "    {\n",
      "        \"id\": 4,\n",
      "        \"first_name\": \"Dejwit\",\n",
      "        \"last_name\": \"Tangjareonsakul\",\n",
      "        \"email\": \"dejwit.tt@gmail.com\",\n",
      "        \"address\": {\n",
      "            \"district\": \"Chiang Khan\",\n",
      "            \"location\": \"150 Loei Road\",\n",
      "            \"province\": \"Loei\",\n",
      "            \"postal_code\": 42110\n",
      "        },\n",
      "        \"full_name\": \"Dejwit Tangjareonsakul\"\n",
      "    },\n",
      "    {\n",
      "        \"id\": 11,\n",
      "        \"first_name\": \"Jack\",\n",
      "        \"last_name\": \"Maa\",\n",
      "        \"email\": \"jack.maa@gmail.com\",\n",
      "        \"address\": {\n",
      "            \"district\": \"Bang Khen\",\n",
      "            \"location\": \"88 Phahonyothin Road\",\n",
      "            \"province\": \"Bangkok\",\n",
      "            \"postal_code\": 10220\n",
      "        },\n",
      "        \"full_name\": \"Jack Maa\"\n",
      "    }\n",
      "]\n"
     ]
    }
   ],
   "source": [
    "print(json.dumps(list(data), indent=4, sort_keys=False))"
   ]
  },
  {
   "cell_type": "code",
   "execution_count": 43,
   "id": "bc9e55be",
   "metadata": {},
   "outputs": [],
   "source": [
    "avg_pro = Product.objects.filter(remaining_amount__gt=0).aggregate(Avg(\"price\", default=0))"
   ]
  },
  {
   "cell_type": "code",
   "execution_count": 45,
   "id": "4ebfa811",
   "metadata": {},
   "outputs": [
    {
     "data": {
      "text/plain": [
       "{'price__avg': Decimal('29308.000000000000')}"
      ]
     },
     "execution_count": 45,
     "metadata": {},
     "output_type": "execute_result"
    }
   ],
   "source": [
    "avg_pro"
   ]
  },
  {
   "cell_type": "code",
   "execution_count": 49,
   "id": "1db1848f",
   "metadata": {},
   "outputs": [],
   "source": [
    "sum_cart = CartItem.objects.filter(cart__create_date__month=5).aggregate(Sum(\"product__price\"))"
   ]
  },
  {
   "cell_type": "code",
   "execution_count": 50,
   "id": "db425251",
   "metadata": {},
   "outputs": [
    {
     "data": {
      "text/plain": [
       "{'product__price__sum': Decimal('9912555.00')}"
      ]
     },
     "execution_count": 50,
     "metadata": {},
     "output_type": "execute_result"
    }
   ],
   "source": [
    "sum_cart"
   ]
  },
  {
   "cell_type": "code",
   "execution_count": 65,
   "id": "4d9a568b",
   "metadata": {},
   "outputs": [],
   "source": [
    "count_pro = Product.objects.filter(categories__name=\"Electronics\", price__range=(8000, 50000)).aggregate(coconut=Count(\"remaining_amount\"))\n",
    "count_pro2 = Product.objects.filter(categories__name=\"Jewelry\", price__range=(8000, 50000)).aggregate(coconut=Count(\"remaining_amount\"))"
   ]
  },
  {
   "cell_type": "code",
   "execution_count": 83,
   "id": "332d71c0",
   "metadata": {},
   "outputs": [
    {
     "name": "stdout",
     "output_type": "stream",
     "text": [
      "PRODUCT CATEGORY NAME: Electronics  PRODUCT COUNT: 6\n",
      "PRODUCT CATEGORY NAME: Jewelry , PRODUCT COUNT: 1\n"
     ]
    },
    {
     "data": {
      "text/plain": [
       "{'coconut': 6}"
      ]
     },
     "execution_count": 83,
     "metadata": {},
     "output_type": "execute_result"
    }
   ],
   "source": [
    "print(\"PRODUCT CATEGORY NAME: Electronics\", \" PRODUCT COUNT:\", count_pro['coconut'])\n",
    "print(\"PRODUCT CATEGORY NAME: Jewelry\", \", PRODUCT COUNT:\", count_pro2['coconut'])\n",
    "\n"
   ]
  },
  {
   "cell_type": "code",
   "execution_count": 74,
   "id": "be99a77b",
   "metadata": {},
   "outputs": [
    {
     "name": "stdout",
     "output_type": "stream",
     "text": [
      "CUSTOMER NAME: Sek Loso ORDER DATE: 2024-05-13\n",
      "CUSTOMER NAME: Warit Pititat ORDER DATE: 2024-05-26\n",
      "CUSTOMER NAME: Chayapol Komprach ORDER DATE: 2024-05-26\n",
      "CUSTOMER NAME: Kwantip Aekopas ORDER DATE: 2024-05-28\n",
      "CUSTOMER NAME: Kerikwan Laopong ORDER DATE: 2024-05-30\n",
      "CUSTOMER NAME: Pattanapoom Srisawangjan ORDER DATE: 2024-05-30\n",
      "CUSTOMER NAME: Manit Senapan ORDER DATE: 2024-06-06\n",
      "CUSTOMER NAME: Techathorn Sriwanwilai ORDER DATE: 2024-06-07\n",
      "CUSTOMER NAME: Anantaya Tontong ORDER DATE: 2024-06-08\n",
      "CUSTOMER NAME: Kittitorn Wilairat ORDER DATE: 2024-06-11\n",
      "CUSTOMER NAME: Porntipa Pasakul ORDER DATE: 2024-06-12\n",
      "CUSTOMER NAME: Peeraya Wichienchan ORDER DATE: 2024-06-13\n",
      "CUSTOMER NAME: Rachanon Hongpatra ORDER DATE: 2024-06-14\n",
      "CUSTOMER NAME: Suwichada Jarastham ORDER DATE: 2024-06-14\n",
      "CUSTOMER NAME: Pong Sawadiwong ORDER DATE: 2024-06-15\n",
      "CUSTOMER NAME: Dejwit Tangjareonsakul ORDER DATE: 2024-06-16\n",
      "CUSTOMER NAME: Bancha Kittisompong ORDER DATE: 2024-06-17\n",
      "CUSTOMER NAME: Yanisa Nantapak ORDER DATE: 2024-06-17\n",
      "CUSTOMER NAME: Jakkapob Sopapak ORDER DATE: 2024-06-18\n",
      "CUSTOMER NAME: Jenjira Sukanansarn ORDER DATE: 2024-06-18\n",
      "CUSTOMER NAME: Sira Pititat ORDER DATE: 2024-06-19\n",
      "CUSTOMER NAME: Jack Maa ORDER DATE: 2024-06-19\n",
      "CUSTOMER NAME: Wanaporn Klabpetch ORDER DATE: 2024-06-20\n",
      "CUSTOMER NAME: Thitirat Sukkesorn ORDER DATE: 2024-06-21\n",
      "CUSTOMER NAME: Panita Hongsakulpan ORDER DATE: 2024-06-22\n",
      "CUSTOMER NAME: stave klolas ORDER DATE: 2024-06-22\n",
      "CUSTOMER NAME: Yanisa Thongchaiyapoom ORDER DATE: 2024-06-22\n",
      "CUSTOMER NAME: Phuwadech Siriwanich ORDER DATE: 2024-06-23\n",
      "CUSTOMER NAME: Pakin Janpen ORDER DATE: 2024-06-23\n",
      "CUSTOMER NAME: Trinnapon Yinggnam ORDER DATE: 2024-06-23\n"
     ]
    }
   ],
   "source": [
    "last_order = Order.objects.filter(\n",
    "    customer=OuterRef('pk')\n",
    ").order_by('-order_date')\n",
    "\n",
    "order = Customer.objects.annotate(newest_order=Subquery(last_order.values(\"order_date\")[:1])).order_by(\"newest_order\")\n",
    "for i in order:\n",
    "    print(\"CUSTOMER NAME:\", i.first_name, i.last_name,\"ORDER DATE:\", i.newest_order)"
   ]
  },
  {
   "cell_type": "code",
   "execution_count": 125,
   "id": "9a124c44",
   "metadata": {},
   "outputs": [],
   "source": [
    "customer1 = Customer.objects.get(first_name=\"Sek\")\n",
    "order1 = Order(\n",
    "    customer=customer1\n",
    "    ,\n",
    "    order_date='2025-02-01'\n",
    ")\n",
    "order1.save()\n",
    "order2 = Order(\n",
    "    customer=customer1,\n",
    "    order_date='2025-02-02'\n",
    ")\n",
    "order1.save()\n",
    "order2.save()\n",
    "\n",
    "pro1 = Product.objects.get(name=\"Bird Cage\")\n",
    "pro2 = Product.objects.get(name=\"Microwave Oven\")\n",
    "\n",
    "ori1 = OrderItem(\n",
    "    order=order1,\n",
    "    product=pro1,\n",
    ")\n",
    "ori2= OrderItem(\n",
    "    order=order2,\n",
    "    product=pro2,\n",
    ")\n",
    "ori1.save()\n",
    "ori2.save()\n",
    "\n",
    "paym1 = Payment(\n",
    "    order=order1,\n",
    "    payment_date='2025-01-01',\n",
    "    price=1699,\n",
    "    discount=112.27\n",
    ")\n",
    "paym2 = Payment(\n",
    "    order=order2,\n",
    "    payment_date='2025-01-01',\n",
    "    price=1740,\n",
    "    discount=140.81\n",
    ")\n",
    "paym1.save()\n",
    "paym2.save()\n",
    "pay1 = PaymentItem(\n",
    "    payment=paym1,\n",
    "    order_item=ori1,\n",
    "    price=1699,\n",
    "    discount=112.27\n",
    ")\n",
    "pay2 = PaymentItem(\n",
    "    payment=paym2,\n",
    "    order_item=ori2,\n",
    "    price=1740,\n",
    "    discount=140.81\n",
    ")\n",
    "o1 = Order.objects.get(pk=184)\n",
    "o2 = Order.objects.get(pk=185)\n",
    "o3 = Order.objects.get(pk=186)\n",
    "\n",
    "pay3 = Payment(\n",
    "    order=o1,\n",
    "    payment_date='2025-01-01',\n",
    "    price=1740,\n",
    "    discount=140.81\n",
    ")\n",
    "pay4 = Payment(\n",
    "    order=o2,\n",
    "    payment_date='2025-01-01',\n",
    "    price=1699,\n",
    "    discount=112.27\n",
    ")\n",
    "pay5 = Payment(\n",
    "    order=o3,\n",
    "    payment_date='2025-01-01',\n",
    "    price=1740,\n",
    "    discount=140.81\n",
    ")\n",
    "\n",
    "pay3.save()\n",
    "pay4.save()\n",
    "pay5.save()\n",
    "\n",
    "pay1.save()\n",
    "pay2.save()"
   ]
  },
  {
   "cell_type": "code",
   "execution_count": 130,
   "id": "272543af",
   "metadata": {},
   "outputs": [
    {
     "name": "stdout",
     "output_type": "stream",
     "text": [
      "CUSTOMER NAME:  Sek ORDER ID: 48 PRICE: 1699.00 DISCOUNT 112.27 PRODUCT: Bird Cage\n",
      "CUSTOMER NAME:  Sek ORDER ID: 48 PRICE: 1699.00 DISCOUNT 112.27 PRODUCT: Hot Wheels Track Builder System Race Crate\n",
      "CUSTOMER NAME:  Sek ORDER ID: 59 PRICE: 1740.00 DISCOUNT 140.81 PRODUCT: Microwave Oven\n",
      "CUSTOMER NAME:  Sek ORDER ID: 59 PRICE: 1740.00 DISCOUNT 140.81 PRODUCT: Men's Polo Shirt\n",
      "CUSTOMER NAME:  Sek ORDER ID: 186 PRICE: 1740.00 DISCOUNT 140.81 PRODUCT: Bird Cage\n",
      "CUSTOMER NAME:  Sek ORDER ID: 187 PRICE: 1740.00 DISCOUNT 140.81 PRODUCT: Microwave Oven\n",
      "CUSTOMER NAME:  Sek ORDER ID: 188 PRICE: 1699.00 DISCOUNT 112.27 PRODUCT: Bird Cage\n",
      "CUSTOMER NAME:  Sek ORDER ID: 189 PRICE: 1740.00 DISCOUNT 140.81 PRODUCT: Microwave Oven\n",
      "CUSTOMER NAME:  Sek ORDER ID: 190 PRICE: 1699.00 DISCOUNT 112.27 PRODUCT: Bird Cage\n",
      "CUSTOMER NAME:  Sek ORDER ID: 191 PRICE: 1740.00 DISCOUNT 140.81 PRODUCT: Microwave Oven\n",
      "CUSTOMER NAME:  Sek ORDER ID: 192 PRICE: 1699.00 DISCOUNT 112.27 PRODUCT: Bird Cage\n",
      "CUSTOMER NAME:  Sek ORDER ID: 193 PRICE: 1740.00 DISCOUNT 140.81 PRODUCT: Microwave Oven\n",
      "CUSTOMER NAME:  Sek ORDER ID: 196 PRICE: 1699.00 DISCOUNT 112.27 PRODUCT: Bird Cage\n",
      "CUSTOMER NAME:  Sek ORDER ID: 197 PRICE: 1740.00 DISCOUNT 140.81 PRODUCT: Microwave Oven\n",
      "CUSTOMER NAME:  Sek ORDER ID: 198 PRICE: 1699.00 DISCOUNT 112.27 PRODUCT: Bird Cage\n",
      "CUSTOMER NAME:  Sek ORDER ID: 199 PRICE: 1740.00 DISCOUNT 140.81 PRODUCT: Microwave Oven\n",
      "CUSTOMER NAME:  Sek ORDER ID: 200 PRICE: 1699.00 DISCOUNT 112.27 PRODUCT: Bird Cage\n",
      "CUSTOMER NAME:  Sek ORDER ID: 201 PRICE: 1740.00 DISCOUNT 140.81 PRODUCT: Microwave Oven\n"
     ]
    }
   ],
   "source": [
    "o1 = Order.objects.get(pk=184)\n",
    "o2 = Order.objects.get(pk=185)\n",
    "o3 = Order.objects.get(pk=186)\n",
    "\n",
    "\n",
    "\n",
    "sek = OrderItem.objects.filter(order__customer__first_name=\"Sek\")\n",
    "# print(sek)\n",
    "for i in sek:\n",
    "    print(\"CUSTOMER NAME: \",i.order.customer.first_name, \"ORDER ID:\", i.order.id, \"PRICE:\",i.order.payment.price, \"DISCOUNT\",i.order.payment.discount,\"PRODUCT:\",i.product.name)"
   ]
  },
  {
   "cell_type": "code",
   "execution_count": 137,
   "id": "2b7e65ed",
   "metadata": {},
   "outputs": [
    {
     "name": "stdout",
     "output_type": "stream",
     "text": [
      "PRODUCT ID 40 AFTER_DISCOUNT 493.06 ITEM COUNT 2\n",
      "PRODUCT ID 13 AFTER_DISCOUNT 448.54 ITEM COUNT 2\n"
     ]
    }
   ],
   "source": [
    "from django.db.models import F, ExpressionWrapper, DecimalField, Count\n",
    "import json\n",
    "\n",
    "\n",
    "payments = Payment.objects.filter(\n",
    "    paymentmethod__method='CREDIT'\n",
    ").annotate(\n",
    "    after_discount=(\n",
    "        F('price') - F('discount')\n",
    "    ),\n",
    "    item_count=Count('paymentitem')\n",
    ").filter(after_discount__lt=500)\n",
    "\n",
    "for p in payments:\n",
    "    print(\"PRODUCT ID\", p.id, \"AFTER_DISCOUNT\", p.after_discount, \"ITEM COUNT\", p.item_count)\n"
   ]
  },
  {
   "cell_type": "code",
   "execution_count": 154,
   "id": "79f3ce0c",
   "metadata": {},
   "outputs": [],
   "source": [
    "p=Product.objects.filter(Q(categories__name=\"Information Technology\"), Q(categories__name=\"Electronics and Toys\")).distinct().order_by(\"id\")[:10]\n",
    "\n",
    "for i in p:\n",
    "    ca = i.categories.all()\n",
    "    print(i.id, i.name ,[n.name for n in ca])"
   ]
  },
  {
   "cell_type": "code",
   "execution_count": 142,
   "id": "a6e38243",
   "metadata": {},
   "outputs": [],
   "source": [
    "cat = ProductCategory.objects.get(name=\"Electronics\")\n",
    "cat.name = \"Information Technology\"\n",
    "cat.save()"
   ]
  },
  {
   "cell_type": "code",
   "execution_count": 144,
   "id": "43f8b411",
   "metadata": {},
   "outputs": [
    {
     "data": {
      "text/plain": [
       "(11, {'shop.Product_categories': 10, 'shop.ProductCategory': 1})"
      ]
     },
     "execution_count": 144,
     "metadata": {},
     "output_type": "execute_result"
    }
   ],
   "source": [
    "toy1 = Product.objects.filter(categories__name=\"Information Technology\")\n",
    "toy2 = ProductCategory.objects.filter(name=\"Toys and Games\").first()\n",
    "\n",
    "for i in toy1:\n",
    "    i.categories.remove(toy2)\n",
    "    i.categories.add(cat)\n",
    "    \n",
    "toy2.delete()"
   ]
  },
  {
   "cell_type": "code",
   "execution_count": 145,
   "id": "8dd7fafb",
   "metadata": {},
   "outputs": [
    {
     "data": {
      "text/plain": [
       "<QuerySet []>"
      ]
     },
     "execution_count": 145,
     "metadata": {},
     "output_type": "execute_result"
    }
   ],
   "source": [
    "Product.objects.filter(categories__name=\"Electronics and Toys\")"
   ]
  },
  {
   "cell_type": "code",
   "execution_count": 146,
   "id": "8d855785",
   "metadata": {},
   "outputs": [
    {
     "data": {
      "text/plain": [
       "0"
      ]
     },
     "execution_count": 146,
     "metadata": {},
     "output_type": "execute_result"
    }
   ],
   "source": [
    "Product.objects.filter(categories__name=\"Electronics and Toys\").count()"
   ]
  },
  {
   "cell_type": "code",
   "execution_count": null,
   "id": "02cc8a18",
   "metadata": {},
   "outputs": [],
   "source": []
  }
 ],
 "metadata": {
  "kernelspec": {
   "display_name": "Django Shell-Plus",
   "language": "python",
   "name": "django_extensions"
  },
  "language_info": {
   "codemirror_mode": {
    "name": "ipython",
    "version": 3
   },
   "file_extension": ".py",
   "mimetype": "text/x-python",
   "name": "python",
   "nbconvert_exporter": "python",
   "pygments_lexer": "ipython3",
   "version": "3.13.0"
  }
 },
 "nbformat": 4,
 "nbformat_minor": 5
}
