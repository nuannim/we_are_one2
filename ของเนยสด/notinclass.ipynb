{
 "cells": [
  {
   "cell_type": "markdown",
   "id": "4e0d18a3",
   "metadata": {},
   "source": [
    "# ตัวอย่าง model"
   ]
  },
  {
   "cell_type": "code",
   "execution_count": null,
   "id": "34146963",
   "metadata": {},
   "outputs": [],
   "source": [
    "import os\n",
    "from django.db import models\n",
    "from django.contrib.auth.models import User\n",
    "from django.utils import timezone\n",
    "\n",
    "# โมเดลเสริม (1) สำหรับ OneToOneField\n",
    "class UserProfile(models.Model):\n",
    "    user = models.OneToOneField(User, on_delete=models.CASCADE, related_name=\"profile\")\n",
    "    bio = models.TextField(blank=True)\n",
    "    profile_pic = models.ImageField(upload_to='profile_pics/', blank=True, null=True)\n",
    "\n",
    "    def __str__(self):\n",
    "        return self.user.username\n",
    "\n",
    "# โมเดลเสริม (2) สำหรับ ManyToManyField\n",
    "class Tag(models.Model):\n",
    "    name = models.CharField(max_length=50, unique=True)\n",
    "\n",
    "    def __str__(self):\n",
    "        return self.name\n",
    "\n",
    "# โมเดลหลัก \"Kitchen Sink\" ของเรา\n",
    "class ComprehensiveRecord(models.Model):\n",
    "    # --- Text Fields ---\n",
    "    title = models.CharField(max_length=200, help_text=\"หัวข้อหลัก\")\n",
    "    description = models.TextField(blank=True, help_text=\"รายละเอียดแบบยาว\")\n",
    "\n",
    "    # --- Number Fields ---\n",
    "    item_count = models.IntegerField(default=0, help_text=\"จำนวนเต็ม\")\n",
    "    temperature = models.FloatField(null=True, blank=True, help_text=\"เลขทศนิยม (ไม่แม่นยำสูง)\")\n",
    "    price = models.DecimalField(max_digits=10, decimal_places=2, help_text=\"เลขทศนิยม (แม่นยำสูง)\")\n",
    "\n",
    "    # --- Boolean Field ---\n",
    "    is_published = models.BooleanField(default=False, help_text=\"สถานะเผยแพร่ (True/False)\")\n",
    "\n",
    "    # --- Date & Time Fields ---\n",
    "    publish_date = models.DateField(null=True, blank=True, help_text=\"วันที่เผยแพร่ (เฉพาะวัน)\")\n",
    "    publish_time = models.TimeField(null=True, blank=True, help_text=\"เวลาที่เผยแพร่ (เฉพาะเวลา)\")\n",
    "    last_modified = models.DateTimeField(auto_now=True, help_text=\"แก้ไขล่าสุด (อัตโนมัติ)\")\n",
    "    created_at = models.DateTimeField(auto_now_add=True, help_text=\"สร้างเมื่อ (อัตโนมัติครั้งเดียว)\")\n",
    "\n",
    "    # --- Specialized Text Fields ---\n",
    "    contact_email = models.EmailField(blank=True)\n",
    "    website = models.URLField(blank=True)\n",
    "    \n",
    "    # --- File Fields (ต้องตั้งค่า MEDIA_ROOT) ---\n",
    "    attachment = models.FileField(upload_to='attachments/', blank=True, null=True)\n",
    "\n",
    "    # --- Relationship Fields ---\n",
    "    # OneToOne ถูกลิงก์มาจาก UserProfile\n",
    "    owner = models.ForeignKey(UserProfile, on_delete=models.CASCADE, related_name=\"records\")\n",
    "    tags = models.ManyToManyField(Tag, blank=True, related_name=\"records\")\n",
    "\n",
    "    def __str__(self):\n",
    "        return self.title"
   ]
  },
  {
   "cell_type": "markdown",
   "id": "c1b91f30",
   "metadata": {},
   "source": [
    "# crud"
   ]
  },
  {
   "cell_type": "markdown",
   "id": "dc2e8140",
   "metadata": {},
   "source": [
    "## setup (คือไรไม่รู้)"
   ]
  },
  {
   "cell_type": "code",
   "execution_count": null,
   "id": "71bc98dc",
   "metadata": {},
   "outputs": [],
   "source": [
    "# --- SETUP ---\n",
    "from yourapp.models import UserProfile, Tag, ComprehensiveRecord\n",
    "from django.contrib.auth.models import User\n",
    "from datetime import date, time\n",
    "from decimal import Decimal\n",
    "from django.utils import timezone\n",
    "\n",
    "# 1. สร้าง User และ UserProfile (สำหรับ ForeignKey & OneToOneField)\n",
    "# (สมมติว่ามี user ที่ username='testuser' อยู่แล้ว ถ้าไม่มีให้สร้างก่อน)\n",
    "test_user, created = User.objects.get_or_create(username='testuser')\n",
    "profile, created = UserProfile.objects.get_or_create(user=test_user, defaults={'bio': 'This is a test profile.'})\n",
    "\n",
    "# 2. สร้าง Tags (สำหรับ ManyToManyField)\n",
    "# วิธียัดข้อมูลสำหรับ many to many\n",
    "tag1, created = Tag.objects.get_or_create(name='Python')\n",
    "tag2, created = Tag.objects.get_or_create(name='Django')\n",
    "tag3, created = Tag.objects.get_or_create(name='Tutorial')\n",
    "\n",
    "print(\"Setup Complete!\")"
   ]
  },
  {
   "cell_type": "markdown",
   "id": "f81141de",
   "metadata": {},
   "source": [
    "## create (c)"
   ]
  },
  {
   "cell_type": "code",
   "execution_count": null,
   "id": "b78d6245",
   "metadata": {},
   "outputs": [],
   "source": [
    "#### **C - CREATE (การสร้าง)**\n",
    "\n",
    "# --- CREATE ---\n",
    "\n",
    "# สร้างอ็อบเจกต์ด้วย .create()\n",
    "# **สังเกตชนิดข้อมูลที่ส่งเข้าไปในแต่ละ Field**\n",
    "rec1 = ComprehensiveRecord.objects.create(\n",
    "    # Text\n",
    "    title=\"My First Comprehensive Record\",\n",
    "    description=\"This record includes various field types.\",\n",
    "    \n",
    "    # Numbers\n",
    "    item_count=10,\n",
    "    temperature=36.6,\n",
    "    price=Decimal(\"199.99\"),  # **สำคัญมาก: DecimalField ต้องใช้ Decimal หรือ string**\n",
    "\n",
    "    # Boolean\n",
    "    is_published=True,\n",
    "\n",
    "    # Date & Time (แบบกำหนดเอง)\n",
    "    publish_date=date(2024, 1, 15),\n",
    "    publish_time=time(10, 30, 0),\n",
    "\n",
    "    # Specialized Text\n",
    "    contact_email=\"test@example.com\",\n",
    "    website=\"https://djangoproject.com\",\n",
    "\n",
    "    # File (ใน shell เราจะใส่แค่ path ที่สมมติขึ้น)\n",
    "    attachment=\"path/to/my/file.pdf\",\n",
    "\n",
    "    # Relationship (ForeignKey)\n",
    "    # **สำคัญ: ต้องส่ง \"อ็อบเจกต์\" เข้าไป ไม่ใช่ ID**\n",
    "    owner=profile \n",
    ")\n",
    "\n",
    "# **สำคัญ: ManyToManyField ไม่สามารถเพิ่มตอน .create() ได้ ต้องทำหลังสร้างเสร็จ**\n",
    "rec1.tags.add(tag1, tag2)\n",
    "# .tags คือ ตัวแปรที่อยู่ใน class นะ ถ้าเป็นชื่ออื่นก็เปลี่ยนตาม\n",
    "\n",
    "print(f\"Created Record: '{rec1.title}' with ID: {rec1.id}\")\n",
    "print(f\"Tags added: {[tag.name for tag in rec1.tags.all()]}\")"
   ]
  },
  {
   "cell_type": "markdown",
   "id": "2e844423",
   "metadata": {},
   "source": [
    "## read (r)"
   ]
  },
  {
   "cell_type": "code",
   "execution_count": null,
   "id": "d5a383f7",
   "metadata": {},
   "outputs": [],
   "source": [
    "# --- READ ---\n",
    "\n",
    "# 1. Get: อ่านแบบเจาะจง (ถ้าไม่เจอจะ error)\n",
    "record = ComprehensiveRecord.objects.get(id=1)\n",
    "print(f\"GET >> Title: {record.title}, Price: {record.price}\")\n",
    "\n",
    "# 2. All: อ่านทั้งหมด\n",
    "all_records = ComprehensiveRecord.objects.all()\n",
    "print(f\"ALL >> Found {all_records.count()} records.\")\n",
    "\n",
    "# 3. Filter: กรองด้วยเงื่อนไขต่างๆ\n",
    "#   - ค้นหาจาก BooleanField\n",
    "published_records = ComprehensiveRecord.objects.filter(is_published=True)\n",
    "\n",
    "#   - ค้นหาจาก NumberField (ใช้ __gt, __lt, __gte, __lte)\n",
    "expensive_records = ComprehensiveRecord.objects.filter(price__gte=Decimal(\"100.00\"))\n",
    "\n",
    "#   - ค้นหาจาก DateField (ใช้ __year, __month, __day)\n",
    "records_from_2024 = ComprehensiveRecord.objects.filter(publish_date__year=2024)\n",
    "\n",
    "#   - ค้นหาจาก CharField (ใช้ __icontains, __startswith)\n",
    "records_with_first = ComprehensiveRecord.objects.filter(title__icontains=\"first\")\n",
    "\n",
    "#   - ค้นหาข้ามความสัมพันธ์ (ใช้ __)\n",
    "#     หา Record ทั้งหมดที่เจ้าของ (owner) คือ 'testuser'\n",
    "records_by_user = ComprehensiveRecord.objects.filter(owner__user__username='testuser')\n",
    "\n",
    "#     หา Record ทั้งหมดที่มี Tag ชื่อ 'Python'\n",
    "python_records = ComprehensiveRecord.objects.filter(tags__name='Python')\n",
    "\n",
    "print(f\"FILTER >> Found {python_records.count()} records with 'Python' tag.\")"
   ]
  },
  {
   "cell_type": "markdown",
   "id": "211fe4de",
   "metadata": {},
   "source": [
    "## update (u)"
   ]
  },
  {
   "cell_type": "code",
   "execution_count": null,
   "id": "9dab1fd4",
   "metadata": {},
   "outputs": [],
   "source": [
    "# --- UPDATE ---\n",
    "\n",
    "# 1. อ่านอ็อบเจกต์ที่ต้องการแก้ไขออกมาก่อน\n",
    "rec_to_update = ComprehensiveRecord.objects.get(id=1)\n",
    "print(f\"BEFORE UPDATE >> Title: '{rec_to_update.title}', Stock: {rec_to_update.item_count}\")\n",
    "\n",
    "# 2. แก้ไขค่าในแต่ละ Field\n",
    "rec_to_update.title = \"My Updated Record Title\" # CharField\n",
    "rec_to_update.is_published = False             # BooleanField\n",
    "rec_to_update.item_count += 5                  # IntegerField\n",
    "rec_to_update.publish_date = None              # DateField (ทำให้เป็นค่าว่าง)\n",
    "\n",
    "# 3. สั่งบันทึกการเปลี่ยนแปลง\n",
    "rec_to_update.save()\n",
    "\n",
    "print(f\"AFTER UPDATE >> Title: '{rec_to_update.title}', Stock: {rec_to_update.item_count}\")\n",
    "\n",
    "# --- การแก้ไข ManyToManyField ---\n",
    "#   - การลบ Tag\n",
    "rec_to_update.tags.remove(tag1)\n",
    "print(f\"TAGS AFTER REMOVE >> {[tag.name for tag in rec_to_update.tags.all()]}\")\n",
    "\n",
    "#   - การเพิ่ม Tag ใหม่\n",
    "rec_to_update.tags.add(tag3)\n",
    "print(f\"TAGS AFTER ADD >> {[tag.name for tag in rec_to_update.tags.all()]}\")\n",
    "\n",
    "#   - การเคลียร์ทั้งหมดแล้วตั้งค่าใหม่ (set)\n",
    "rec_to_update.tags.set([tag1, tag3])\n",
    "print(f\"TAGS AFTER SET >> {[tag.name for tag in rec_to_update.tags.all()]}\")"
   ]
  },
  {
   "cell_type": "markdown",
   "id": "690e9efd",
   "metadata": {},
   "source": [
    "## delete (d)"
   ]
  },
  {
   "cell_type": "code",
   "execution_count": null,
   "id": "95b1c00f",
   "metadata": {},
   "outputs": [],
   "source": [
    "# --- DELETE ---\n",
    "\n",
    "# 1. อ่านอ็อบเจกต์ที่ต้องการลบ\n",
    "rec_to_delete = ComprehensiveRecord.objects.get(id=1)\n",
    "print(f\"Preparing to delete record with ID: {rec_to_delete.id}\")\n",
    "\n",
    "# 2. สั่งลบ\n",
    "result = rec_to_delete.delete()\n",
    "print(f\"Deletion result: {result}\")\n",
    "\n",
    "# 3. ตรวจสอบว่ามันหายไปจริง\n",
    "try:\n",
    "    ComprehensiveRecord.objects.get(id=1)\n",
    "except ComprehensiveRecord.DoesNotExist:\n",
    "    print(\"Record with ID 1 no longer exists. Deletion successful.\")"
   ]
  },
  {
   "cell_type": "markdown",
   "id": "778c1238",
   "metadata": {},
   "source": [
    "---\n",
    "\n",
    "# models.py ตัวอย่าง ใช้กับ annotate() + aggregate()"
   ]
  },
  {
   "cell_type": "code",
   "execution_count": null,
   "id": "125b3978",
   "metadata": {},
   "outputs": [],
   "source": [
    "# models.py\n",
    "from django.db import models\n",
    "\n",
    "class Publisher(models.Model):\n",
    "    name = models.CharField(max_length=200)\n",
    "\n",
    "class Author(models.Model):\n",
    "    name = models.CharField(max_length=100)\n",
    "\n",
    "class Book(models.Model):\n",
    "    title = models.CharField(max_length=200)\n",
    "    publication_date = models.DateField()\n",
    "    price = models.DecimalField(max_digits=8, decimal_places=2)\n",
    "    rating = models.FloatField(null=True, blank=True)\n",
    "    author = models.ForeignKey(Author, on_delete=models.CASCADE, related_name='books')\n",
    "    publisher = models.ForeignKey(Publisher, on_delete=models.CASCADE, related_name='books')"
   ]
  },
  {
   "cell_type": "code",
   "execution_count": null,
   "id": "02fedebf",
   "metadata": {},
   "outputs": [],
   "source": [
    "from django.db.models import F, Sum, Avg, Count, Max, Min, Case, When, Value, Q\n",
    "from django.db.models import F, DecimalField\n",
    "from django.db.models.functions import ExtractYear, Concat"
   ]
  },
  {
   "cell_type": "markdown",
   "id": "cb0f1d49",
   "metadata": {},
   "source": [
    "\n",
    "# annotate()\n",
    "พวก sum ก็คือ ทำแค่ตัวที่ row ซ้ำกัน ไม่เหมือน aggregate ที่ sum ทั้งหมดในตาราง  \n",
    "ข้างล่างนี้คือใช้ format แล้วแก้เป็น sum count min max อะไรก็ได้ตามใจ"
   ]
  },
  {
   "cell_type": "markdown",
   "id": "09fa80e5",
   "metadata": {},
   "source": [
    "## count"
   ]
  },
  {
   "cell_type": "code",
   "execution_count": null,
   "id": "01c7d958",
   "metadata": {},
   "outputs": [],
   "source": [
    "# views.py\n",
    "authors = Author.objects.annotate(\n",
    "    num_books=Count('books') # 'books' คือ related_name จาก Book model\n",
    ")\n",
    "\n",
    "for author in authors:\n",
    "    print(f\"นักเขียน: {author.name}, จำนวนหนังสือ: {author.num_books}\")\n",
    "# ผลลัพธ์:\n",
    "# นักเขียน: J.K. Rowling, จำนวนหนังสือ: 7\n",
    "# นักเขียน: George R.R. Martin, จำนวนหนังสือ: 5"
   ]
  },
  {
   "cell_type": "markdown",
   "id": "d9c1b3db",
   "metadata": {},
   "source": [
    "## max"
   ]
  },
  {
   "cell_type": "code",
   "execution_count": null,
   "id": "fb044ba1",
   "metadata": {},
   "outputs": [],
   "source": [
    "publishers = Publisher.objects.annotate(\n",
    "    max_book_price=Max('books__price') # ใช้ '__' เพื่อข้าม relationship\n",
    ")\n",
    "\n",
    "for publisher in publishers:\n",
    "    print(f\"สำนักพิมพ์: {publisher.name}, ราคาสูงสุด: {publisher.max_book_price}\")"
   ]
  },
  {
   "cell_type": "markdown",
   "id": "34f7c9af",
   "metadata": {},
   "source": [
    "## avg"
   ]
  },
  {
   "cell_type": "code",
   "execution_count": null,
   "id": "ff5323ce",
   "metadata": {},
   "outputs": [],
   "source": [
    "authors = Author.objects.annotate(\n",
    "    average_rating=Avg('books__rating')\n",
    ")\n",
    "\n",
    "for author in authors:\n",
    "    print(f\"นักเขียน: {author.name}, เรตติ้งเฉลี่ย: {author.average_rating:.2f}\")"
   ]
  },
  {
   "cell_type": "markdown",
   "id": "986f77d9",
   "metadata": {},
   "source": [
    "## F คูณอะไรสักอย่าง"
   ]
  },
  {
   "cell_type": "code",
   "execution_count": null,
   "id": "557d593c",
   "metadata": {},
   "outputs": [],
   "source": [
    "from django.db.models import F, DecimalField\n",
    "\n",
    "books = Book.objects.annotate(\n",
    "    discounted_price=F('price') * 0.9\n",
    ")\n",
    "\n",
    "for book in books:\n",
    "    print(f\"หนังสือ: {book.title}, ราคาปกติ: {book.price}, ราคาหลังหักส่วนลด: {book.discounted_price}\")"
   ]
  },
  {
   "cell_type": "markdown",
   "id": "298cea6b",
   "metadata": {},
   "source": [
    "## F +- ต่าง ๆ"
   ]
  },
  {
   "cell_type": "code",
   "execution_count": null,
   "id": "c02dae4a",
   "metadata": {},
   "outputs": [],
   "source": [
    "books = Book.objects.annotate(\n",
    "    profit_margin=F('price') - (F('price') * 0.3)\n",
    ")\n",
    "\n",
    "for book in books:\n",
    "    print(f\"หนังสือ: {book.title}, ราคา: {book.price}, กำไร: {book.profit_margin}\")"
   ]
  },
  {
   "cell_type": "markdown",
   "id": "1db8eb86",
   "metadata": {},
   "source": [
    "## case (จารย์ไม่ได้สอน)"
   ]
  },
  {
   "cell_type": "code",
   "execution_count": null,
   "id": "6770acd4",
   "metadata": {},
   "outputs": [],
   "source": [
    "from django.db.models import Case, When, Value\n",
    "\n",
    "books = Book.objects.annotate(\n",
    "    price_category=Case(\n",
    "        When(price__lte=300, then=Value('ราคาถูก')),\n",
    "        When(price__gt=700, then=Value('ราคาแพง')),\n",
    "        default=Value('ราคากลาง'),\n",
    "        # output_field=CharField() # สามารถระบุประเภทของฟิลด์ได้\n",
    "    )\n",
    ")\n",
    "\n",
    "for book in books:\n",
    "    print(f\"หนังสือ: {book.title}, ประเภทราคา: {book.price_category}\")"
   ]
  },
  {
   "cell_type": "markdown",
   "id": "ddb97583",
   "metadata": {},
   "source": [
    "## Q (filter ไรงี้)"
   ]
  },
  {
   "cell_type": "code",
   "execution_count": null,
   "id": "8838c2a2",
   "metadata": {},
   "outputs": [],
   "source": [
    "from django.db.models import Q\n",
    "\n",
    "authors = Author.objects.annotate(\n",
    "    num_highly_rated_books=Count('books', filter=Q(books__rating__gte=4.5))\n",
    ")\n",
    "\n",
    "for author in authors:\n",
    "    print(f\"นักเขียน: {author.name}, จำนวนหนังสือเรตติ้งดี: {author.num_highly_rated_books}\")"
   ]
  },
  {
   "cell_type": "markdown",
   "id": "e76e0641",
   "metadata": {},
   "source": [
    "## extract year"
   ]
  },
  {
   "cell_type": "code",
   "execution_count": null,
   "id": "d14458dd",
   "metadata": {},
   "outputs": [],
   "source": [
    "from django.db.models.functions import ExtractYear\n",
    "\n",
    "books = Book.objects.annotate(\n",
    "    publication_year=ExtractYear('publication_date')\n",
    ")\n",
    "\n",
    "for book in books:\n",
    "    print(f\"หนังสือ: {book.title}, ปีที่ตีพิมพ์: {book.publication_year}\")"
   ]
  },
  {
   "cell_type": "markdown",
   "id": "924101d8",
   "metadata": {},
   "source": [
    "## concat"
   ]
  },
  {
   "cell_type": "code",
   "execution_count": null,
   "id": "c3eaa84f",
   "metadata": {},
   "outputs": [],
   "source": [
    "from django.db.models.functions import Concat\n",
    "from django.db.models import Value\n",
    "\n",
    "books = Book.objects.annotate(\n",
    "    full_description=Concat(\n",
    "        'title', Value(' (เขียนโดย '), 'author__name', Value(')'),\n",
    "        # output_field=CharField()\n",
    "    )\n",
    ")\n",
    "\n",
    "for book in books:\n",
    "    print(book.full_description)\n",
    "# ผลลัพธ์:\n",
    "# Harry Potter and the Sorcerer's Stone (เขียนโดย J.K. Rowling)"
   ]
  },
  {
   "cell_type": "markdown",
   "id": "479095a1",
   "metadata": {},
   "source": [
    "## annotate().filter().order_by()"
   ]
  },
  {
   "cell_type": "code",
   "execution_count": null,
   "id": "baeeb28c",
   "metadata": {},
   "outputs": [],
   "source": [
    "prolific_authors = Author.objects.annotate(\n",
    "    num_books=Count('books')\n",
    ").filter(\n",
    "    num_books__gt=5  # กรองด้วยฟิลด์ 'num_books' ที่เราเพิ่งสร้าง\n",
    ").order_by(\n",
    "    '-num_books'     # เรียงจากมากไปน้อย\n",
    ")\n",
    "\n",
    "for author in prolific_authors:\n",
    "    print(f\"นักเขียน: {author.name}, จำนวนหนังสือ: {author.num_books}\")"
   ]
  },
  {
   "cell_type": "markdown",
   "id": "55371d24",
   "metadata": {},
   "source": [
    "## annotate() ซ้อน ๆ กัน .annotate().annotate()"
   ]
  },
  {
   "cell_type": "code",
   "execution_count": null,
   "id": "9e558408",
   "metadata": {},
   "outputs": [],
   "source": [
    "authors = Author.objects.annotate(\n",
    "    num_books=Count('books')\n",
    ").annotate(\n",
    "    author_status=Case(\n",
    "        When(num_books__gt=10, then=Value('นักเขียนมืออาชีพ')),\n",
    "        When(num_books__gt=5, then=Value('นักเขียนผลงานเยอะ')),\n",
    "        default=Value('นักเขียนทั่วไป')\n",
    "    )\n",
    ")\n",
    "\n",
    "for author in authors:\n",
    "    print(f\"นักเขียน: {author.name}, สถานะ: {author.author_status}\")"
   ]
  },
  {
   "cell_type": "markdown",
   "id": "7355b318",
   "metadata": {},
   "source": [
    "---\n",
    "# aggregate()"
   ]
  },
  {
   "cell_type": "code",
   "execution_count": null,
   "id": "168bbe40",
   "metadata": {},
   "outputs": [],
   "source": [
    "from django.db.models import Count, Avg, Max, Min, Sum\n",
    "\n",
    "# คำนวณค่าสรุปจาก Model Book ทั้งหมด\n",
    "book_summary = Book.objects.aggregate(\n",
    "    total_books=Count('id'),          # นับจำนวนหนังสือทั้งหมด\n",
    "    average_price=Avg('price'),       # หาราคาเฉลี่ย\n",
    "    cheapest_book=Min('price'),       # หาราคาที่ถูกที่สุด\n",
    "    most_expensive_book=Max('price'), # หาราคาที่แพงที่สุด\n",
    "    total_value=Sum('price')          # หาราคาทั้งหมดรวมกัน\n",
    ")\n",
    "\n",
    "# ผลลัพธ์ที่ได้คือ Dictionary\n",
    "print(book_summary)\n",
    "# ผลลัพธ์ที่อาจจะได้:\n",
    "# {\n",
    "#   'total_books': 58,\n",
    "#   'average_price': Decimal('499.50'),\n",
    "#   'cheapest_book': Decimal('120.00'),\n",
    "#   'most_expensive_book': Decimal('1500.00'),\n",
    "#   'total_value': Decimal('28971.00')\n",
    "# }\n",
    "\n",
    "print(f\"มีหนังสือในระบบทั้งหมด: {book_summary['total_books']} เล่ม\")\n",
    "print(f\"ราคาเฉลี่ยอยู่ที่: {book_summary['average_price']:.2f} บาท\")"
   ]
  },
  {
   "cell_type": "code",
   "execution_count": null,
   "id": "7ce73ddc",
   "metadata": {},
   "outputs": [],
   "source": [
    "# นับ ID ของ author ที่ไม่ซ้ำกันในตาราง Book\n",
    "distinct_authors_count = Book.objects.aggregate(\n",
    "    num_authors=Count('author', distinct=True)\n",
    ")\n",
    "\n",
    "print(distinct_authors_count)\n",
    "# ผลลัพธ์ที่อาจจะได้: {'num_authors': 15}\n",
    "print(f\"มีนักเขียนที่มีผลงานตีพิมพ์ทั้งหมด (ไม่ซ้ำ): {distinct_authors_count['num_authors']} คน\")"
   ]
  },
  {
   "cell_type": "code",
   "execution_count": null,
   "id": "433a8f6e",
   "metadata": {},
   "outputs": [],
   "source": [
    "from django.db.models import Q\n",
    "\n",
    "highly_rated_books_value = Book.objects.aggregate(\n",
    "    total_value=Sum('price', filter=Q(rating__gte=4.5))\n",
    ")\n",
    "\n",
    "print(highly_rated_books_value)\n",
    "# ผลลัพธ์ที่อาจจะได้: {'total_value': Decimal('12500.75')}\n",
    "print(f\"มูลค่ารวมของหนังสือเรตติ้งดี: {highly_rated_books_value['total_value']}\")"
   ]
  },
  {
   "cell_type": "code",
   "execution_count": null,
   "id": "b059c998",
   "metadata": {},
   "outputs": [],
   "source": [
    "modern_books_count = Book.objects.aggregate(\n",
    "    count=Count('id', filter=Q(publication_date__year__gt=2010))\n",
    ")\n",
    "\n",
    "print(modern_books_count)\n",
    "# ผลลัพธ์ที่อาจจะได้: {'count': 35}\n",
    "print(f\"จำนวนหนังสือที่ตีพิมพ์หลังปี 2010: {modern_books_count['count']}\")"
   ]
  },
  {
   "cell_type": "code",
   "execution_count": null,
   "id": "459b4d0c",
   "metadata": {},
   "outputs": [],
   "source": [
    "from django.db.models import F\n",
    "\n",
    "total_profit = Book.objects.aggregate(\n",
    "    total_profit=Sum(F('price') * 0.7)\n",
    ")\n",
    "\n",
    "print(total_profit)\n",
    "# ผลลัพธ์ที่อาจจะได้: {'total_profit': 20279.7}\n",
    "print(f\"กำไรรวมโดยประมาณ: {total_profit['total_profit']:.2f} บาท\")"
   ]
  },
  {
   "cell_type": "markdown",
   "id": "56cdd7ac",
   "metadata": {},
   "source": [
    "## การใช้ values().annotate() (วิธีที่แนะนำ)"
   ]
  },
  {
   "cell_type": "code",
   "execution_count": null,
   "id": "7799a472",
   "metadata": {},
   "outputs": [],
   "source": [
    "# คำนวณจำนวนหนังสือของแต่ละสำนักพิมพ์\n",
    "publisher_counts = Publisher.objects.annotate(num_books=Count('books')).values('name', 'num_books')\n",
    "# ผลลัพธ์จะเป็น QuerySet ของ dictionaries:\n",
    "# <QuerySet [{'name': 'Penguin', 'num_books': 10}, {'name': 'Bloomsbury', 'num_books': 7}, ...]>\n",
    "\n",
    "# การใช้ values().aggregate() (ไม่ค่อยใช้ และอาจทำให้สับสน)\n",
    "data = Book.objects.values('publisher__name').aggregate(total_books=Count('id'))\n",
    "# ผลลัพธ์ที่ได้อาจจะเป็น: {'total_books': 58} ซึ่งคือการนับรวมทั้งหมดอยู่ดี ไม่ได้แยกกลุ่ม\n",
    "# พฤติกรรมอาจไม่เป็นไปตามที่คาดหวังเสมอไปในกรณีนี้"
   ]
  }
 ],
 "metadata": {
  "language_info": {
   "name": "python"
  }
 },
 "nbformat": 4,
 "nbformat_minor": 5
}
