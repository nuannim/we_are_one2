{
 "cells": [
  {
   "cell_type": "markdown",
   "id": "fb329487",
   "metadata": {},
   "source": [
    "# Week 6 - Introducing the Django Admin\n",
    "\n",
    "[Django tutorial part 2](https://docs.djangoproject.com/en/5.2/intro/tutorial02/)\n",
    "\n",
    "โดยปกติ website ที่มีการบันทึกข้อมูลลงฐานข้อมูลมักจะมีส่วนที่เป็นระบบหลังบ้านสำหรับให้ `admin` ของ website ใช้ในการแก้ไขข้อมูลในฐานข้อมูล หรือ แก้ไขการตั้งค่าระบบต่างๆ\n",
    "\n",
    "สำหรับ Django นั้นมี tool ที่ช่วยให้การสร้างหน้า admin site นั้นมีความง่ายและรวดเร็วมากๆ โดยแทบจะไม่ต้องเขียน code เลย\n",
    "\n",
    "เรามาเริ่มต้นโดยการสร้าง project `week6_tutorial` กันก่อนตามขั้นตอนที่คุ้นเคย\n",
    "\n",
    "1. สร้าง project ใหม่ชื่อ `week6_tutorial` (สร้าง virtual environment ใหม่ด้วย)\n",
    "2. สร้าง app ชื่อ `polls` และทำการตั้งค่าใน `settings.py`\n",
    "3. แก้ไขไฟล์ `/polls/models.py` และเพิ่ม code ด้่านล่างลงไป โดย models เหล่านี้เราจะใช้ในการทำ tutorial วันนี้กัน"
   ]
  },
  {
   "cell_type": "code",
   "execution_count": null,
   "id": "8e18503b",
   "metadata": {},
   "outputs": [],
   "source": [
    "from django.db import models\n",
    "\n",
    "\n",
    "class Question(models.Model):\n",
    "    question_text = models.CharField(max_length=200)\n",
    "    pub_date = models.DateTimeField(\"date published\")\n",
    "\n",
    "\n",
    "class Choice(models.Model):\n",
    "    question = models.ForeignKey(Question, on_delete=models.CASCADE)\n",
    "    choice_text = models.CharField(max_length=200)\n",
    "    votes = models.IntegerField(default=0)"
   ]
  },
  {
   "cell_type": "markdown",
   "id": "b8a8b2e9",
   "metadata": {},
   "source": [
    "### Creating an admin user\n",
    "\n",
    "ก่อนอื่นเรามาสร้าง admin user กันก่อน"
   ]
  },
  {
   "cell_type": "code",
   "execution_count": null,
   "id": "3325639e",
   "metadata": {},
   "outputs": [],
   "source": [
    "%%sh\n",
    ">>> python manage.py createsuperuser\n",
    "Username: admin\n",
    "Email address: admin@example.com\n",
    "Password: **********\n",
    "Password (again): *********\n",
    "Superuser created successfully."
   ]
  },
  {
   "cell_type": "markdown",
   "id": "4168db59",
   "metadata": {},
   "source": [
    "### Enter the admin site\n",
    "\n",
    "จากนั้นทำการ start server ขึ้นมา"
   ]
  },
  {
   "cell_type": "code",
   "execution_count": null,
   "id": "098244d6",
   "metadata": {},
   "outputs": [],
   "source": [
    "%%sh\n",
    "python manage.py runserver"
   ]
  },
  {
   "cell_type": "markdown",
   "id": "d7aa5427",
   "metadata": {},
   "source": [
    "และเข้าไปที่ URL: http://127.0.0.1:8000/admin/\n",
    "\n",
    "![admin1](https://docs.djangoproject.com/en/5.0/_images/admin01.png)\n",
    "\n",
    "เมื่อทำการ login ด้วย username และ password ที่ตั้งแล้วจะได้หน้าจอดังภาพ\n",
    "\n",
    "![admin2](https://docs.djangoproject.com/en/5.0/_images/admin02.png)\n",
    "\n",
    "### Make the poll app modifiable in the admin\n",
    "\n",
    "เบื้องต้นจะยังไม่มี model `Question` และ `Choice` ให้เราเข้าไปแก้ไขข้อมูล เราจะเพิ่มเข้ามาก่อน\n",
    "\n",
    "เรามาเพิ่ม `Question` กันก่อนโดยเพิ่ม code นี้ในไฟล์ `polls/admin.py`"
   ]
  },
  {
   "cell_type": "code",
   "execution_count": null,
   "id": "e7bcc3ad",
   "metadata": {},
   "outputs": [],
   "source": [
    "from django.contrib import admin\n",
    "\n",
    "from .models import Question\n",
    "\n",
    "admin.site.register(Question)"
   ]
  },
  {
   "cell_type": "markdown",
   "id": "6f766f60",
   "metadata": {},
   "source": [
    "จากนั้นเข้าไปที่ admin site ใหม่จะพบว่ามี model `Question` มาให้เราแก้ไขแล้ว\n",
    "\n",
    "![admin3](https://docs.djangoproject.com/en/5.0/_images/admin03t.png)\n",
    "\n",
    "ลองกด `ADD QUESTION +` เพื่อเพิ่ม Question ใหม่เข้าสู่ database จะเห็นว่ามีฟอร์มมาให้กรอก `Question text` และ `Date published` ซึ่งจะเห็นได้ว่าในช่องสำหรับกำหนด `Date published` นั้นเป็น date picker และ time picker ซึ่ง Django นั้นดูจากที่เรากำหนดใน model `Question` ให้ field `pub_date` เป็น `DateTimeField`\n",
    "\n",
    "![admin4](./images/admin4.png)\n",
    "\n",
    "## Customize the admin form\n",
    "\n",
    "[Django tutorial part 7](https://docs.djangoproject.com/en/5.0/intro/tutorial07/)\n",
    "\n",
    "เรามาลองแก้ไขฟอร์มสร้าง `Question` ในไฟล์ `polls/admin.py`"
   ]
  },
  {
   "cell_type": "code",
   "execution_count": null,
   "id": "87b63ff0",
   "metadata": {},
   "outputs": [],
   "source": [
    "from django.contrib import admin\n",
    "\n",
    "from .models import Question\n",
    "\n",
    "\n",
    "class QuestionAdmin(admin.ModelAdmin):\n",
    "    fields = [\"pub_date\", \"question_text\"]\n",
    "\n",
    "\n",
    "admin.site.register(Question, QuestionAdmin)"
   ]
  },
  {
   "cell_type": "markdown",
   "id": "ef4a55a5",
   "metadata": {},
   "source": [
    "จะเห็นได้ว่า field `Date published` สลับมาอยู่ก่อน `Question text` ซึ่งเกิดจากที่เรากำหนดค่า fields ใน class `QuestionAdmin(admin.ModelAdmin)`\n",
    "\n",
    "![admin5](./images/admin5.png)\n",
    "\n",
    "### Adding related objects\n",
    "\n",
    "ทีนี้เรามาลองเพิ่ม `Choice` กันบ้างในไฟล์ `polls/admin.py`"
   ]
  },
  {
   "cell_type": "code",
   "execution_count": null,
   "id": "b4a3f041",
   "metadata": {},
   "outputs": [],
   "source": [
    "from django.contrib import admin\n",
    "\n",
    "from .models import Choice, Question\n",
    "\n",
    "# ...\n",
    "admin.site.register(Choice)"
   ]
  },
  {
   "cell_type": "markdown",
   "id": "fd2a2c76",
   "metadata": {},
   "source": [
    "จะมีหน้า Add Choice ขึ้นมาดังรูป\n",
    "\n",
    "![admin6](./images/admin6.png)\n",
    "\n",
    "จะเห็นได้ว่่าเมื่อเรากดเพิ่ม `Choice` ในหน้า Add Choice จะมี drop down select ให้เลือก `Question` ขึ้นมาเลย เนื่องจาก Django รู้จากที่เรากำหนดไปว่า `Choice` นั้นมี FK ชี้ไปหา `Question`\n",
    "\n",
    "อย่างไรก็ตามการเพิ่ม Choice แบบนี้ผมว่ามันใช้งานยาก เรามาทำให้ทั้งการเพิ่ม Choice และ Question อยู่ในหน้าเดียวกันเลยดีกว่า\n",
    "\n",
    "ปรับเปลี่ยน code ใน `polls/admin.py` เป็นดังนี้"
   ]
  },
  {
   "cell_type": "code",
   "execution_count": null,
   "id": "797fb3a1",
   "metadata": {},
   "outputs": [],
   "source": [
    "from django.contrib import admin\n",
    "\n",
    "from .models import Choice, Question\n",
    "\n",
    "\n",
    "class ChoiceInline(admin.StackedInline):\n",
    "    model = Choice\n",
    "    extra = 3\n",
    "\n",
    "\n",
    "class QuestionAdmin(admin.ModelAdmin):\n",
    "    fieldsets = [\n",
    "        (None, {\"fields\": [\"question_text\"]}),\n",
    "        (\"Date information\", {\"fields\": [\"pub_date\"], \"classes\": [\"collapse\"]}),\n",
    "    ]\n",
    "    inlines = [ChoiceInline]\n",
    "\n",
    "\n",
    "admin.site.register(Question, QuestionAdmin)"
   ]
  },
  {
   "cell_type": "markdown",
   "id": "0d73f51c",
   "metadata": {},
   "source": [
    "หน้า Add Question จะมีรายการ Choice ขึ้นมาให้เพิ่ม 3 รายการโดย default (สามารถกดลบ / เพิ่มได้)\n",
    "\n",
    "![admin7](./images/admin7.png)\n",
    "\n",
    "ในส่วน section **CHOICES** ค่อนข้างเปลืองพื้นที่เพราะว่า `Choice text` และ `Votes` อยู่คนละบรรทัดกัน ตรงส่วนนี้ทำให้เป็นรูปแบบตารางน่าจะสวยกว่า ปรับแก้ไข code ใน `polls/admin.py` แก้ไขจากที่ `ChoiceInline` extend `admin.StackedInline` เป็น `admin.TabularInline` แล้วลองดูสิว่าเป็นอย่างไร"
   ]
  },
  {
   "cell_type": "code",
   "execution_count": null,
   "id": "1740cee4",
   "metadata": {},
   "outputs": [],
   "source": [
    "class ChoiceInline(admin.TabularInline):\n",
    "    ..."
   ]
  },
  {
   "cell_type": "markdown",
   "id": "f94ebe91",
   "metadata": {},
   "source": [
    "### Customize the admin change list\n",
    "\n",
    "เรามาลองปรับแก้ไขหน้าตาของหน้า **Change list** กันบ้าง ตอนนี้มีหน้าตาแบบนี้\n",
    "\n",
    "![admin8](./images/admin8.png)\n",
    "\n",
    "โดย default Django จะแสดงชื่อของ object โดยดูจาก `__str__()` ซึ่งตอนนี้จะเป็น `question_text` สมมติเราอยากให้แสดงทั้ง `question_text` และ `pub_date` สามารถตั้งค่า list_display ดัง code ด้านล่าง"
   ]
  },
  {
   "cell_type": "code",
   "execution_count": null,
   "id": "494627dd",
   "metadata": {},
   "outputs": [],
   "source": [
    "class QuestionAdmin(admin.ModelAdmin):\n",
    "    ...\n",
    "    list_display = [\"question_text\", \"pub_date\"]"
   ]
  },
  {
   "cell_type": "markdown",
   "id": "636736cb",
   "metadata": {},
   "source": [
    "![admin9](./images/admin9.png)\n",
    "\n",
    "ลองนึกภาพถ้าเรามีข้อมูลเยอะๆ เป็นร้อยหรือพันรายการ หน้า **Change list** นี้น่าจะหา Question ที่เราต้องการแก้ไขได้ยากมาก ดังนั้นเราสามารถเพิ่ม filter และ search box ได้ในหน้านี้โดย"
   ]
  },
  {
   "cell_type": "code",
   "execution_count": null,
   "id": "609f75ae",
   "metadata": {},
   "outputs": [],
   "source": [
    "class QuestionAdmin(admin.ModelAdmin):\n",
    "    ...\n",
    "    list_filter = [\"pub_date\"]\n",
    "    search_fields = [\"question_text\"]"
   ]
  },
  {
   "cell_type": "markdown",
   "id": "864c959f",
   "metadata": {},
   "source": [
    "จะได้ผลลัพธ์ดังภาพ\n",
    "\n",
    "![admin10](./images/admin10.png)\n",
    "\n",
    "ซึ่งจริงๆ แล้ว **Django Admin Site** นั้นสามารถ config ได้ยืดหยุ่น มีความสามารถหลากหลาย และ สามารถ custom ได้ค่อนข้างเยอะ ถ้าใครสนใจเพิ่มเติมสามารถไปอ่าน document เพิ่มเติมได้ที่ [The Django admin site](https://docs.djangoproject.com/en/5.2/ref/contrib/admin/#module-django.contrib.admin)"
   ]
  }
 ],
 "metadata": {
  "jupytext": {
   "cell_metadata_filter": "-all",
   "main_language": "python",
   "notebook_metadata_filter": "-all"
  }
 },
 "nbformat": 4,
 "nbformat_minor": 5
}
