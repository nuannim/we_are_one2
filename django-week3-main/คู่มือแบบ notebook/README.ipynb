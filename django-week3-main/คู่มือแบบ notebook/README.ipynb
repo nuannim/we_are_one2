{
 "cells": [
  {
   "cell_type": "markdown",
   "id": "fc00ff86",
   "metadata": {
    "lines_to_next_cell": 0
   },
   "source": [
    "# Django Models\n",
    "\n",
    "## เรามาออกแบบ models สำหรับ web application blog posts กัน\n",
    "\n",
    "ด้านล่างนี้คือ ER diagram ของ web application blog posts\n",
    "\n",
    "![ERD](./images/ERD-week3.png)\n",
    "\n",
    "เรามาเริ่มจากการสร้าง project Django ใหม่กันก่อนนะครับ\n",
    "\n",
    "ยังจำขั้นตอนที่ได้เรียนไปในสัปดาห์ก่อนได้ไหม ด้านล่างคือ command ที่จำเป็น \n",
    "\n",
    "### Create virtual environment"
   ]
  },
  {
   "cell_type": "code",
   "execution_count": null,
   "id": "0ee2b885",
   "metadata": {},
   "outputs": [],
   "source": [
    "%%sh\n",
    "# Create project folder\n",
    "> mkdir my_projects\n",
    "\n",
    "# Create a virtual environment (Windows)\n",
    "> py -m venv myvenv\n",
    "\n",
    "# Activate virtual environment (Windows)\n",
    "> myvenv\\Scripts\\activate.bat\n",
    "\n",
    "# Create a virtual environment (MacOS)\n",
    "> python -m venv myvenv\n",
    "\n",
    "# Activate virtual environment (MacOS)\n",
    "> source myvenv/bin/activate"
   ]
  },
  {
   "cell_type": "markdown",
   "id": "235ef88d",
   "metadata": {},
   "source": [
    "### Install Django & start a new project **\"myblogs\"**"
   ]
  },
  {
   "cell_type": "code",
   "execution_count": null,
   "id": "c8d8a1fb",
   "metadata": {},
   "outputs": [],
   "source": [
    "%%sh\n",
    "# Install Django\n",
    "> pip install django\n",
    "\n",
    "# Create project \"myblogs\"\n",
    "> django-admin startproject myblogs\n",
    "\n",
    "# Create the \"blogs\" app\n",
    "> python manage.py startapp blogs\n",
    "\n",
    "# Start server\n",
    "> python manage.py runserver"
   ]
  },
  {
   "cell_type": "markdown",
   "id": "a9f00a27",
   "metadata": {},
   "source": [
    "จากนั้นทำการติดตั้ง Postgres Client `psycopg2`"
   ]
  },
  {
   "cell_type": "code",
   "execution_count": null,
   "id": "889922ff",
   "metadata": {},
   "outputs": [],
   "source": [
    "> pip install psycopg2\n",
    "OR\n",
    "> pip install psycopg2-binary\n",
    "OR\n",
    "> brew install postgresql # for MacOS"
   ]
  },
  {
   "cell_type": "markdown",
   "id": "cf1f14c1",
   "metadata": {},
   "source": [
    "จากนั้นไปทำการตั้งค่าใน `myblogs/settings.py`\n",
    "\n",
    "**HINT: ไปสร้าง DB ใน postgres ก่อนนะครับ สร้าง DB ชื่อ \"blogs\"**"
   ]
  },
  {
   "cell_type": "code",
   "execution_count": null,
   "id": "8b883512",
   "metadata": {},
   "outputs": [],
   "source": [
    "# Database setting\n",
    "DATABASES = {\n",
    "    \"default\": {\n",
    "        \"ENGINE\": \"django.db.backends.postgresql\",\n",
    "        \"NAME\": \"blogs\",\n",
    "        \"USER\": \"db_username\",\n",
    "        \"PASSWORD\": \"password\",\n",
    "        \"HOST\": \"localhost\",\n",
    "        \"PORT\": \"5432\",\n",
    "    }\n",
    "}\n",
    "\n",
    "# Add app blogs to INSTALLED_APPS\n",
    "INSTALLED_APPS = [\n",
    "    \"django.contrib.admin\",\n",
    "    \"django.contrib.auth\",\n",
    "    \"django.contrib.contenttypes\",\n",
    "    \"django.contrib.sessions\",\n",
    "    \"django.contrib.messages\",\n",
    "    \"django.contrib.staticfiles\",\n",
    "    # Add your apps here\n",
    "    \"blogs\",\n",
    "]"
   ]
  },
  {
   "cell_type": "markdown",
   "id": "d40d292c",
   "metadata": {},
   "source": [
    "จากนั้นไปทำการสร้าง models ต่างๆ ให้เหมือนตามใน ER diagram ด้านบนกันเลย\n",
    "\n",
    "เริ่มจาก `Author` และ `Category`\n",
    "\n",
    "เพิ่ม code นี้ใน `blogs/models.py`"
   ]
  },
  {
   "cell_type": "code",
   "execution_count": null,
   "id": "be6c11ec",
   "metadata": {},
   "outputs": [],
   "source": [
    "from django.db import models\n",
    "\n",
    "\n",
    "class Author(models.Model):\n",
    "    first_name = models.CharField(max_length=150)\n",
    "    last_name = models.CharField(max_length=200)\n",
    "    email = models.CharField(max_length=150)\n",
    "\n",
    "    def __str__(self):\n",
    "        return f\"{self.first_name} {self.last_name}\"\n",
    "\n",
    "\n",
    "class Category(models.Model):\n",
    "    name = models.CharField(max_length=100)\n",
    "\n",
    "    def __str__(self):\n",
    "        return self.name"
   ]
  },
  {
   "cell_type": "markdown",
   "id": "b2246383",
   "metadata": {},
   "source": [
    "ลองสั่ง command: makemigrations เพื่อให้ Django ทำการสร้างไฟล์ migration ขึ้นมา"
   ]
  },
  {
   "cell_type": "code",
   "execution_count": null,
   "id": "751c996c",
   "metadata": {},
   "outputs": [],
   "source": [
    "%%sh\n",
    "> python manage.py makemigrations\n",
    "Migrations for 'blogs':\n",
    "  blogs/migrations/0001_initial.py\n",
    "    - Create model Author\n",
    "    - Create model Category"
   ]
  },
  {
   "cell_type": "markdown",
   "id": "435e99db",
   "metadata": {},
   "source": [
    "จะเห็นว่ามีไฟล์ `blogs/migrations/0001_initial.py` ถูกสร้างขึ้นใน folder `/blogs/migrations/` เรามาลองดูในไฟล์กัน"
   ]
  },
  {
   "cell_type": "code",
   "execution_count": null,
   "id": "7519b32a",
   "metadata": {},
   "outputs": [],
   "source": [
    "from django.db import migrations, models\n",
    "\n",
    "\n",
    "class Migration(migrations.Migration):\n",
    "    initial = True\n",
    "\n",
    "    dependencies = []\n",
    "\n",
    "    operations = [\n",
    "        migrations.CreateModel(\n",
    "            name=\"Author\",\n",
    "            fields=[\n",
    "                (\n",
    "                    \"id\", # Django จะทำการสร้าง field id ให้อัตโนมัติเป็น primary key + auto increment\n",
    "                    models.BigAutoField(\n",
    "                        auto_created=True,\n",
    "                        primary_key=True,\n",
    "                        serialize=False,\n",
    "                        verbose_name=\"ID\",\n",
    "                    ),\n",
    "                ),\n",
    "                (\"first_name\", models.CharField(max_length=150)),\n",
    "                (\"last_name\", models.CharField(max_length=200)),\n",
    "                (\"email\", models.CharField(max_length=150)),\n",
    "            ],\n",
    "        ),\n",
    "        migrations.CreateModel(\n",
    "            name=\"Category\",\n",
    "            fields=[\n",
    "                (\n",
    "                    \"id\", # Django จะทำการสร้าง field id ให้อัตโนมัติเป็น primary key + auto increment\n",
    "                    models.BigAutoField(\n",
    "                        auto_created=True,\n",
    "                        primary_key=True,\n",
    "                        serialize=False,\n",
    "                        verbose_name=\"ID\",\n",
    "                    ),\n",
    "                ),\n",
    "                (\"name\", models.CharField(max_length=100)),\n",
    "            ],\n",
    "        ),\n",
    "    ]"
   ]
  },
  {
   "cell_type": "markdown",
   "id": "e14a7d72",
   "metadata": {},
   "source": [
    "ทีนี้เรามาลองเพิ่ม model `Blog` และ `Comment` กัน เพิ่ม code นี้ในไฟล์ `/blogs/models.py`"
   ]
  },
  {
   "cell_type": "code",
   "execution_count": null,
   "id": "50170643",
   "metadata": {},
   "outputs": [],
   "source": [
    "class Blog(models.Model):\n",
    "    title = models.CharField(max_length=100)\n",
    "    content = models.TextField()\n",
    "    like = models.IntegerField(default=0)\n",
    "    created_by = models.ForeignKey(\"blogs.Author\", on_delete=models.PROTECT)\n",
    "    created_date = models.DateTimeField(auto_now_add=True)\n",
    "    categories = models.ManyToManyField(\"blogs.Category\")\n",
    "    # https://docs.djangoproject.com/en/5.0/topics/db/examples/many_to_many/\n",
    "\n",
    "    def __str__(self):\n",
    "        return f\"{self.title} ({self.like})\"\n",
    "\n",
    "class Comment(models.Model):\n",
    "    comment = models.CharField(max_length=200)\n",
    "    comment = models.ForeignKey(\"blogs.Blog\", on_delete=models.CASCADE)\n",
    "    created_date = models.DateTimeField(auto_now_add=True)"
   ]
  },
  {
   "cell_type": "markdown",
   "id": "8a9eb126",
   "metadata": {},
   "source": [
    "ทำการ makemigrations อีกครั้ง\n",
    "\n",
    "ลองเช็คใน `/blogs/migrations/` จะเห็นว่ามีไฟล์ `0002_blog_comment.py` ถูกสร้างขึ้น เรามาลองดูในไฟล์กัน"
   ]
  },
  {
   "cell_type": "code",
   "execution_count": null,
   "id": "9a3a1ade",
   "metadata": {},
   "outputs": [],
   "source": [
    "from django.db import migrations, models\n",
    "import django.db.models.deletion\n",
    "\n",
    "\n",
    "class Migration(migrations.Migration):\n",
    "    dependencies = [\n",
    "        (\"blogs\", \"0001_initial\"),\n",
    "    ]\n",
    "\n",
    "    operations = [\n",
    "        migrations.CreateModel(\n",
    "            name=\"Blog\",\n",
    "            fields=[\n",
    "                (\n",
    "                    \"id\",\n",
    "                    models.BigAutoField(\n",
    "                        auto_created=True,\n",
    "                        primary_key=True,\n",
    "                        serialize=False,\n",
    "                        verbose_name=\"ID\",\n",
    "                    ),\n",
    "                ),\n",
    "                (\"title\", models.CharField(max_length=100)),\n",
    "                (\"content\", models.TextField()),\n",
    "                (\"like\", models.IntegerField(default=0)),\n",
    "                (\"created_date\", models.DateTimeField(auto_now_add=True)),\n",
    "                (\"categories\", models.ManyToManyField(to=\"blogs.category\")), # M2M relationship ไปที่ตาราง category\n",
    "                (\n",
    "                    \"created_by\", # FK ไปที่ตาราง author\n",
    "                    models.ForeignKey(\n",
    "                        on_delete=django.db.models.deletion.PROTECT, to=\"blogs.author\"\n",
    "                    ),\n",
    "                ),\n",
    "            ],\n",
    "        ),\n",
    "        migrations.CreateModel(\n",
    "            name=\"Comment\",\n",
    "            fields=[\n",
    "                (\n",
    "                    \"id\",\n",
    "                    models.BigAutoField(\n",
    "                        auto_created=True,\n",
    "                        primary_key=True,\n",
    "                        serialize=False,\n",
    "                        verbose_name=\"ID\",\n",
    "                    ),\n",
    "                ),\n",
    "                (\"comment\", models.CharField(max_length=200)),\n",
    "                (\"created_date\", models.DateTimeField(auto_now_add=True)),\n",
    "                (\n",
    "                    \"blog\", # FK ไปที่ตาราง blog\n",
    "                    models.ForeignKey(\n",
    "                        on_delete=django.db.models.deletion.CASCADE, to=\"blogs.blog\"\n",
    "                    ),\n",
    "                ),\n",
    "            ],\n",
    "        ),\n",
    "    ]"
   ]
  },
  {
   "cell_type": "markdown",
   "id": "fac050b9",
   "metadata": {},
   "source": [
    "เพื่อทำการสั่งใน Django สร้าง table ใน database จากไฟล์ migrations ใช้ command"
   ]
  },
  {
   "cell_type": "code",
   "execution_count": null,
   "id": "8b16b7b5",
   "metadata": {},
   "outputs": [],
   "source": [
    "%%sh\n",
    "> python manage.py migrate\n",
    "Operations to perform:\n",
    "  Apply all migrations: admin, auth, blogs, contenttypes, sessions\n",
    "Running migrations:\n",
    "  Applying contenttypes.0001_initial... OK\n",
    "  Applying auth.0001_initial... OK\n",
    "  Applying admin.0001_initial... OK\n",
    "  Applying admin.0002_logentry_remove_auto_add... OK\n",
    "  Applying admin.0003_logentry_add_action_flag_choices... OK\n",
    "  Applying contenttypes.0002_remove_content_type_name... OK\n",
    "  Applying auth.0002_alter_permission_name_max_length... OK\n",
    "  Applying auth.0003_alter_user_email_max_length... OK\n",
    "  Applying auth.0004_alter_user_username_opts... OK\n",
    "  Applying auth.0005_alter_user_last_login_null... OK\n",
    "  Applying auth.0006_require_contenttypes_0002... OK\n",
    "  Applying auth.0007_alter_validators_add_error_messages... OK\n",
    "  Applying auth.0008_alter_user_username_max_length... OK\n",
    "  Applying auth.0009_alter_user_last_name_max_length... OK\n",
    "  Applying auth.0010_alter_group_name_max_length... OK\n",
    "  Applying auth.0011_update_proxy_permissions... OK\n",
    "  Applying auth.0012_alter_user_first_name_max_length... OK\n",
    "  Applying blogs.0001_initial... OK\n",
    "  Applying blogs.0002_blog_comment... OK\n",
    "  Applying sessions.0001_initial... OK"
   ]
  },
  {
   "cell_type": "markdown",
   "id": "36f54776",
   "metadata": {
    "lines_to_next_cell": 0
   },
   "source": [
    "เรามาลองเปิดดูตารางจริงๆ ใน database กัน จะเห็นว่ามีตารางถูกสร้างขึ้นตามที่เรากำหนดใน `models.py`"
   ]
  },
  {
   "cell_type": "code",
   "execution_count": null,
   "id": "09a837df",
   "metadata": {},
   "outputs": [],
   "source": [
    "- blogs_author\n",
    "- blogs_blog\n",
    "- blogs_blog_categories # เป็นตารางกลางที่ถูกสร้างขึ้นจาก M2M relationship ที่เรากำหนดไว้ระหว่างตาราง blog และ category\n",
    "- blogs_category\n",
    "- blog_comment"
   ]
  },
  {
   "cell_type": "markdown",
   "id": "d3c433e1",
   "metadata": {
    "lines_to_next_cell": 0
   },
   "source": [
    "**TIPS: ประวัติการ apply migrations จะถูกบันทึกในตาราง `django_migrations`**\n",
    "\n",
    "ลองเปิดเข้าไปดูสิว่ามี record การ apply `blogs/migrations/0001_initial.py` และ `blogs/migrations/0002_blog_comment.py` ไหม\n",
    "\n",
    "## Model fields ที่ใช้บ่อยๆ\n",
    "\n",
    "[Doc](https://docs.djangoproject.com/en/5.0/ref/models/fields/)\n",
    "\n",
    "### Fields types\n",
    "\n",
    "- BooleanField(**options)\n",
    "- CharField(max_length=None, **options)\n",
    "- EmailField(max_length=254, **options)\n",
    "- URLField(max_length=200, **options)\n",
    "- UUIDField(**options)\n",
    "- TextField(**options)\n",
    "- DateField(auto_now=False, auto_now_add=False, **options)\n",
    "\n",
    "    - auto_now = True คือจะบันทึกค่า datetime.now() ทุกครั้งที่มีการแก้ไขค่า (INSERT + UPDATE)\n",
    "    - auto_now_add = True คือจะบันทึกค่า datetime.now() ตอนที่สร้างใหม่ (INSERT)\n",
    "\n",
    "- DateTimeField(auto_now=False, auto_now_add=False, **options)\n",
    "- TimeField(auto_now=False, auto_now_add=False, **options)\n",
    "- FileField(upload_to='', storage=None, max_length=100, **options)\n",
    "\n",
    "    - upload_to คือกำหนด path ที่จะ save file\n"
   ]
  },
  {
   "cell_type": "code",
   "execution_count": null,
   "id": "57542111",
   "metadata": {},
   "outputs": [],
   "source": [
    "class MyModel(models.Model):\n",
    "    # file will be uploaded to MEDIA_ROOT/uploads\n",
    "    upload = models.FileField(upload_to=\"uploads/\")\n",
    "    # or...\n",
    "    # file will be saved to MEDIA_ROOT/uploads/2015/01/30\n",
    "    upload = models.FileField(upload_to=\"uploads/%Y/%m/%d/\")"
   ]
  },
  {
   "cell_type": "markdown",
   "id": "a92cbee4",
   "metadata": {},
   "source": [
    "- ImageField(upload_to=None, height_field=None, width_field=None, max_length=100, **options)\n",
    "\n",
    "    - สืบทอด attributes และ methods ทั้งหมดจาก `FileField`\n",
    "    - ทำการ validate ให้ว่าเป็น object ของ image ที่เหมาะสม และ สามารถกำหนด `height_field` และ `width_field`\n",
    "\n",
    "- DecimalField(max_digits=None, decimal_places=None, **options)"
   ]
  },
  {
   "cell_type": "code",
   "execution_count": null,
   "id": "ba612a7d",
   "metadata": {},
   "outputs": [],
   "source": [
    "models.DecimalField(max_digits=5, decimal_places=2)"
   ]
  },
  {
   "cell_type": "markdown",
   "id": "97918467",
   "metadata": {},
   "source": [
    "- IntegerField(**options)\n",
    "\n",
    "    - ค่าตั้งแต่ -2147483648 ถึง 2147483647 รองรับใน database ทุกตัวที่ supported โดย Django.\n",
    "\n",
    "- PositiveIntegerField(**options)\n",
    "- JSONField(encoder=None, decoder=None, **options)\n",
    "\n",
    "### Field options\n",
    "\n",
    "- primary_key: ถ้ามีค่าเป็น True คือ column นี้เป็น primary key ของ table (ถ้าไม่กำหนด Django จะสร้าง column ชื่อ `id` ให้อัตโนมัติเป็น primary key)\n",
    "- unique: ถ้ามีค่าเป็น True คือ ค่าใน column นี้ห้ามซ้ำ\n",
    "- null: ถ้ามีค่าเป็น True คือ column นี้มีค่าเป็น null ได้\n",
    "- blank: ถ้ามีค่าเป็น True คือ column นี้มีค่าเป็น \"\" หรือ empty string ได้"
   ]
  },
  {
   "cell_type": "code",
   "execution_count": null,
   "id": "d3e40d14",
   "metadata": {},
   "outputs": [],
   "source": [
    "from django.db import models\n",
    "\n",
    "class Student(models.Model):\n",
    "    code = models.CharField(max_length=20, primary_key=True)\n",
    "    full_name = models.CharField(max_length=200, null=False, blank=False, unique=True)"
   ]
  },
  {
   "cell_type": "markdown",
   "id": "adb452ba",
   "metadata": {},
   "source": [
    "- default: กำหนดค่า default\n",
    "- choices: กำหนด ENUM ให้เลือกเฉพาะค่าที่กำหนด"
   ]
  },
  {
   "cell_type": "code",
   "execution_count": null,
   "id": "c71eb1b6",
   "metadata": {},
   "outputs": [],
   "source": [
    "from django.db import models\n",
    "from django.utils.translation import gettext_lazy as _\n",
    "\n",
    "class Student(models.Model):\n",
    "    class YearInSchool(models.TextChoices):\n",
    "        FRESHMAN = \"FR\", _(\"Freshman\")\n",
    "        SOPHOMORE = \"SO\", _(\"Sophomore\")\n",
    "        JUNIOR = \"JR\", _(\"Junior\")\n",
    "        SENIOR = \"SR\", _(\"Senior\")\n",
    "        GRADUATE = \"GR\", _(\"Graduate\")\n",
    "\n",
    "    year_in_school = models.CharField(\n",
    "        max_length=2,\n",
    "        choices=YearInSchool,\n",
    "        default=YearInSchool.FRESHMAN,\n",
    "    )\n",
    "\n",
    "    def is_upperclass(self):\n",
    "        return self.year_in_school in {\n",
    "            self.YearInSchool.JUNIOR,\n",
    "            self.YearInSchool.SENIOR,\n",
    "        }"
   ]
  },
  {
   "cell_type": "markdown",
   "id": "d8f74e93",
   "metadata": {},
   "source": [
    "- db_index: ถ้ามีค่าเป็น True คือจะสร้าง index ใน database สำหรับ column นี้"
   ]
  }
 ],
 "metadata": {
  "jupytext": {
   "cell_metadata_filter": "-all",
   "main_language": "python",
   "notebook_metadata_filter": "-all"
  }
 },
 "nbformat": 4,
 "nbformat_minor": 5
}
