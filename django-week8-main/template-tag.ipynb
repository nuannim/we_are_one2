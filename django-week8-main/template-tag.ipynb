{
 "cells": [
  {
   "cell_type": "markdown",
   "id": "f2c4710e",
   "metadata": {},
   "source": [
    "# Built-in template tags and filters\n",
    "\n",
    "## Built-in tag reference\n",
    "\n",
    "[Ref](https://docs.djangoproject.com/en/5.2/ref/templates/builtins/#built-in-tag-reference)\n",
    "\n",
    "- **autoescape** สำหรับเอาไว้ เปิด - ปิด auto escape"
   ]
  },
  {
   "cell_type": "code",
   "execution_count": null,
   "id": "c6d19b50",
   "metadata": {},
   "outputs": [],
   "source": [
    "{% autoescape on %}\n",
    "    {{ body }}\n",
    "{% endautoescape %}"
   ]
  },
  {
   "cell_type": "markdown",
   "id": "79257b1a",
   "metadata": {},
   "source": [
    "- **block**\n",
    "\n",
    "- **comment**"
   ]
  },
  {
   "cell_type": "code",
   "execution_count": null,
   "id": "62f86274",
   "metadata": {},
   "outputs": [],
   "source": [
    "<p>Rendered text with {{ pub_date|date:\"c\" }}</p>\n",
    "{% comment \"Optional note\" %}\n",
    "    <p>Commented out text with {{ create_date|date:\"c\" }}</p>\n",
    "{% endcomment %}"
   ]
  },
  {
   "cell_type": "markdown",
   "id": "01ac85ee",
   "metadata": {},
   "source": [
    "- **csrf_token**\n",
    "\n",
    "- **cycle**"
   ]
  },
  {
   "cell_type": "code",
   "execution_count": null,
   "id": "61cefd80",
   "metadata": {},
   "outputs": [],
   "source": [
    "{% for o in some_list %}\n",
    "    <tr class=\"{% cycle 'row1' 'row2' %}\">\n",
    "        ...\n",
    "    </tr>\n",
    "{% endfor %}"
   ]
  },
  {
   "cell_type": "markdown",
   "id": "1c7ad89c",
   "metadata": {},
   "source": [
    "- **extends**\n",
    "\n",
    "- **for**"
   ]
  },
  {
   "cell_type": "code",
   "execution_count": null,
   "id": "a32064af",
   "metadata": {},
   "outputs": [],
   "source": [
    "<ul>\n",
    "{% for athlete in athlete_list %}\n",
    "    <li>{{ athlete.name }}</li>\n",
    "{% endfor %}\n",
    "</ul>\n",
    "\n",
    "<!-- if \"data\" is a dictionary -->\n",
    "{% for key, value in data.items %}\n",
    "    {{ key }}: {{ value }}\n",
    "{% endfor %}"
   ]
  },
  {
   "cell_type": "markdown",
   "id": "3b59997d",
   "metadata": {},
   "source": [
    "| Variable              | Description                                                    |\n",
    "| --------------------- | -------------------------------------------------------------- |\n",
    "| `forloop.counter`     | The current iteration of the loop (1-indexed)                  |\n",
    "| `forloop.counter0`    | The current iteration of the loop (0-indexed)                  |\n",
    "| `forloop.revcounter`  | The number of iterations from the end of the loop (1-indexed)  |\n",
    "| `forloop.revcounter0` | The number of iterations from the end of the loop (0-indexed)  |\n",
    "| `forloop.first`       | True if this is the first time through the loop                |\n",
    "| `forloop.last`        | True if this is the last time through the loop                 |\n",
    "| `forloop.parentloop`  | For nested loops, this is the loop surrounding the current one |\n",
    "\n",
    "ตัวอย่างการใช้งาน"
   ]
  },
  {
   "cell_type": "code",
   "execution_count": null,
   "id": "d68f5f3e",
   "metadata": {},
   "outputs": [],
   "source": [
    "<ul>\n",
    "{% for athlete in athlete_list %}\n",
    "    <li>{{forloop.counter}}. {{ athlete.name }}</li>\n",
    "{% endfor %}\n",
    "</ul>"
   ]
  },
  {
   "cell_type": "markdown",
   "id": "8836ba7f",
   "metadata": {},
   "source": [
    "- **for ... empty**"
   ]
  },
  {
   "cell_type": "code",
   "execution_count": null,
   "id": "41ce740f",
   "metadata": {},
   "outputs": [],
   "source": [
    "<ul>\n",
    "{% for athlete in athlete_list %}\n",
    "    <li>{{ athlete.name }}</li>\n",
    "{% empty %}\n",
    "    <li>Sorry, no athletes in this list.</li>\n",
    "{% endfor %}\n",
    "</ul>"
   ]
  },
  {
   "cell_type": "markdown",
   "id": "9696fa48",
   "metadata": {},
   "source": [
    "- **if**"
   ]
  },
  {
   "cell_type": "code",
   "execution_count": null,
   "id": "8f38a3fa",
   "metadata": {},
   "outputs": [],
   "source": [
    "{% if athlete_list %}\n",
    "    Number of athletes: {{ athlete_list|length }}\n",
    "{% elif athlete_in_locker_room_list %}\n",
    "    Athletes should be out of the locker room soon!\n",
    "{% else %}\n",
    "    No athletes.\n",
    "{% endif %}"
   ]
  },
  {
   "cell_type": "markdown",
   "id": "708a07a9",
   "metadata": {},
   "source": [
    "ใน condition ของ if เราสามารถใส่ and, or หรือ not ได้ เช่น"
   ]
  },
  {
   "cell_type": "code",
   "execution_count": null,
   "id": "ba813253",
   "metadata": {},
   "outputs": [],
   "source": [
    "{% if athlete_list and coach_list %}\n",
    "    Both athletes and coaches are available.\n",
    "{% endif %}\n",
    "\n",
    "{% if not athlete_list %}\n",
    "    There are no athletes.\n",
    "{% endif %}\n",
    "\n",
    "{% if athlete_list or coach_list %}\n",
    "    There are some athletes or some coaches.\n",
    "{% endif %}\n",
    "\n",
    "{% if not athlete_list or coach_list %}\n",
    "    There are no athletes or there are some coaches.\n",
    "{% endif %}"
   ]
  },
  {
   "cell_type": "markdown",
   "id": "75cf91f6",
   "metadata": {},
   "source": [
    "และสามารถใช้ logic operations ต่างๆได้ ได้แก่\n",
    "\n",
    "- `==`, `!=`"
   ]
  },
  {
   "cell_type": "code",
   "execution_count": null,
   "id": "ac9e3fd5",
   "metadata": {},
   "outputs": [],
   "source": [
    "{% if somevar != \"x\" %}\n",
    "  This appears if variable somevar does not equal the string \"x\",\n",
    "  or if somevar is not found in the context\n",
    "{% endif %}"
   ]
  },
  {
   "cell_type": "markdown",
   "id": "4bdb7830",
   "metadata": {},
   "source": [
    "- `>`, `>=`, `<`, `<=`"
   ]
  },
  {
   "cell_type": "code",
   "execution_count": null,
   "id": "c898048c",
   "metadata": {},
   "outputs": [],
   "source": [
    "{% if somevar <= 100 %}\n",
    "  This appears if variable somevar is less than 100 or equal to 100.\n",
    "{% endif %}"
   ]
  },
  {
   "cell_type": "markdown",
   "id": "fa7e68e6",
   "metadata": {},
   "source": [
    "- `in`, `not in`"
   ]
  },
  {
   "cell_type": "code",
   "execution_count": null,
   "id": "40013b62",
   "metadata": {},
   "outputs": [],
   "source": [
    "{% if user in users %}\n",
    "  If users is a QuerySet, this will appear if user is an\n",
    "  instance that belongs to the QuerySet.\n",
    "{% endif %}"
   ]
  },
  {
   "cell_type": "markdown",
   "id": "82ded0b5",
   "metadata": {},
   "source": [
    "- `is`, `is not`"
   ]
  },
  {
   "cell_type": "code",
   "execution_count": null,
   "id": "e4fca13b",
   "metadata": {},
   "outputs": [],
   "source": [
    "{% if somevar is True %}\n",
    "  This appears if somevar is not True, or if somevar is not found in the\n",
    "  context.\n",
    "{% endif %}\n",
    "\n",
    "{% if somevar is not None %}\n",
    "  This appears if and only if somevar is not None.\n",
    "{% endif %}"
   ]
  },
  {
   "cell_type": "markdown",
   "id": "2a933457",
   "metadata": {},
   "source": [
    "- **now**"
   ]
  },
  {
   "cell_type": "code",
   "execution_count": null,
   "id": "34ccb106",
   "metadata": {},
   "outputs": [],
   "source": [
    "It is {% now \"jS F Y H:i\" %}"
   ]
  },
  {
   "cell_type": "markdown",
   "id": "dc52e6a0",
   "metadata": {},
   "source": [
    "- **url**"
   ]
  },
  {
   "cell_type": "code",
   "execution_count": null,
   "id": "102f42ac",
   "metadata": {},
   "outputs": [],
   "source": [
    "{% url 'some-url-name' v1 v2 %}"
   ]
  },
  {
   "cell_type": "markdown",
   "id": "15d9bc05",
   "metadata": {},
   "source": [
    "ตัวอย่างเช่น"
   ]
  },
  {
   "cell_type": "code",
   "execution_count": null,
   "id": "26ddd039",
   "metadata": {},
   "outputs": [],
   "source": [
    "%%python\n",
    "path(\"client/<int:id>/\", app_views.client, name=\"app-views-client\")"
   ]
  },
  {
   "cell_type": "markdown",
   "id": "ff874acc",
   "metadata": {},
   "source": [
    "ใน template จะใช้ tag **url** ดังนี้"
   ]
  },
  {
   "cell_type": "code",
   "execution_count": null,
   "id": "eba3a279",
   "metadata": {},
   "outputs": [],
   "source": [
    "{% url 'app-views-client' client.id %}"
   ]
  },
  {
   "cell_type": "markdown",
   "id": "7f5967e5",
   "metadata": {},
   "source": [
    "## Built-in filter reference\n",
    "\n",
    "[Ref](https://docs.djangoproject.com/en/5.2/ref/templates/builtins/#built-in-filter-reference)\n",
    "\n",
    "- **add**"
   ]
  },
  {
   "cell_type": "code",
   "execution_count": null,
   "id": "22a6a76c",
   "metadata": {},
   "outputs": [],
   "source": [
    "{{ value|add:\"2\" }}"
   ]
  },
  {
   "cell_type": "markdown",
   "id": "71a6dfc2",
   "metadata": {},
   "source": [
    "- **addslashes**"
   ]
  },
  {
   "cell_type": "code",
   "execution_count": null,
   "id": "475eea9e",
   "metadata": {},
   "outputs": [],
   "source": [
    "{{ value|addslashes }}"
   ]
  },
  {
   "cell_type": "markdown",
   "id": "c82926f8",
   "metadata": {},
   "source": [
    "- **capfirst**\n",
    "\n",
    "- **cut**"
   ]
  },
  {
   "cell_type": "code",
   "execution_count": null,
   "id": "075ed115",
   "metadata": {},
   "outputs": [],
   "source": [
    "{{ value|cut:\" \" }}"
   ]
  },
  {
   "cell_type": "markdown",
   "id": "0aa526de",
   "metadata": {},
   "source": [
    "ถ้าค่าของ `value` คือ \"String with spaces\" จะได้ output เป็น \"Stringwithspaces\"\n",
    "\n",
    "**date** - ใช้ในการ format ข้อมูล datetime [Ref](https://docs.djangoproject.com/en/5.1/ref/templates/builtins/#date)"
   ]
  },
  {
   "cell_type": "code",
   "execution_count": null,
   "id": "d5174cc6",
   "metadata": {},
   "outputs": [],
   "source": [
    "{{ value|date:\"D d M Y\" }} {{ value|time:\"H:i\" }}"
   ]
  },
  {
   "cell_type": "markdown",
   "id": "2bccb0e0",
   "metadata": {},
   "source": [
    "- **default**"
   ]
  },
  {
   "cell_type": "code",
   "execution_count": null,
   "id": "ec03ac63",
   "metadata": {},
   "outputs": [],
   "source": [
    "{{ value|default:\"nothing\" }}"
   ]
  },
  {
   "cell_type": "markdown",
   "id": "02e5e9a7",
   "metadata": {},
   "source": [
    "ถ้าค่าของ `value` แปลงเป็น boolean ได้เป็น False จะแสดงค่า \"nothing\"\n",
    "\n",
    "- **default_if_none**"
   ]
  },
  {
   "cell_type": "code",
   "execution_count": null,
   "id": "b2f20f3b",
   "metadata": {},
   "outputs": [],
   "source": [
    "{{ value|default_if_none:\"nothing\" }}"
   ]
  },
  {
   "cell_type": "markdown",
   "id": "4bf0013b",
   "metadata": {},
   "source": [
    "ถ้าค่าของ `value` เป็น None จะแสดงค่า \"nothing\"\n",
    "\n",
    "- **dictsort**"
   ]
  },
  {
   "cell_type": "code",
   "execution_count": null,
   "id": "2d095e6c",
   "metadata": {},
   "outputs": [],
   "source": [
    "{{ value|dictsort:\"name\" }}\n",
    "\n",
    "<!-- ถ้าค่าของ value เป็น -->\n",
    "[\n",
    "    {\"name\": \"zed\", \"age\": 19},\n",
    "    {\"name\": \"amy\", \"age\": 22},\n",
    "    {\"name\": \"joe\", \"age\": 31},\n",
    "]\n",
    "\n",
    "<!-- จะได้ output -->\n",
    "[\n",
    "    {\"name\": \"amy\", \"age\": 22},\n",
    "    {\"name\": \"joe\", \"age\": 31},\n",
    "    {\"name\": \"zed\", \"age\": 19},\n",
    "]"
   ]
  },
  {
   "cell_type": "markdown",
   "id": "dcf544f0",
   "metadata": {},
   "source": [
    "- **divisibleby**"
   ]
  },
  {
   "cell_type": "code",
   "execution_count": null,
   "id": "19e3c591",
   "metadata": {},
   "outputs": [],
   "source": [
    "{{ value|divisibleby:\"3\" }}"
   ]
  },
  {
   "cell_type": "markdown",
   "id": "a85c14b3",
   "metadata": {},
   "source": [
    "- **join**"
   ]
  },
  {
   "cell_type": "code",
   "execution_count": null,
   "id": "8e8c3714",
   "metadata": {},
   "outputs": [],
   "source": [
    "{{ value|join:\" // \" }}"
   ]
  },
  {
   "cell_type": "markdown",
   "id": "bc557a18",
   "metadata": {},
   "source": [
    "- **length**"
   ]
  },
  {
   "cell_type": "code",
   "execution_count": null,
   "id": "f8c31b60",
   "metadata": {},
   "outputs": [],
   "source": [
    "{{ value|length }}"
   ]
  },
  {
   "cell_type": "markdown",
   "id": "5ebe1320",
   "metadata": {},
   "source": [
    "- **time**"
   ]
  },
  {
   "cell_type": "code",
   "execution_count": null,
   "id": "a9c11fca",
   "metadata": {},
   "outputs": [],
   "source": [
    "{{ value|time:\"TIME_FORMAT\" }}"
   ]
  },
  {
   "cell_type": "markdown",
   "id": "756e8c1f",
   "metadata": {},
   "source": [
    "- **timesince**"
   ]
  },
  {
   "cell_type": "code",
   "execution_count": null,
   "id": "7d08cd80",
   "metadata": {},
   "outputs": [],
   "source": [
    "{{ blog_date|timesince:comment_date }}"
   ]
  },
  {
   "cell_type": "markdown",
   "id": "9edf6b30",
   "metadata": {},
   "source": [
    "แสดงเวลาจากค่าตัวแปร (`blog_date`) จนถึงเวลา `now` (เช่น “4 days, 6 hours”)\n",
    "\n",
    "รับ optional argument เป็นเวลาที่ต้องการเปรียบเทียบแทนค่า `now`\n",
    "\n",
    "- **timeuntil**"
   ]
  },
  {
   "cell_type": "code",
   "execution_count": null,
   "id": "407a2267",
   "metadata": {},
   "outputs": [],
   "source": [
    "{{ conference_date|timeuntil:from_date }}"
   ]
  },
  {
   "cell_type": "markdown",
   "id": "227dcbd7",
   "metadata": {},
   "source": [
    "คล้ายกับ \"timesince\" แต่จะวัดเวลาจาก `now` ไปจนถึงค่าตัวแปรซึ่งเป็นวันในอนาคต (`conference_date`)\n",
    "\n",
    "รับ optional argument เป็นเวลาที่ต้องการเปรียบเทียบแทนค่า `now`\n",
    "\n",
    "- **truncatechars**"
   ]
  },
  {
   "cell_type": "code",
   "execution_count": null,
   "id": "9d676fd7",
   "metadata": {},
   "outputs": [],
   "source": [
    "{{ value|truncatechars:7 }}"
   ]
  },
  {
   "cell_type": "markdown",
   "id": "151365db",
   "metadata": {},
   "source": [
    "ถ้ายาวเกินค่าที่กำหนดจะถูกแทนด้วย \"...\"\n",
    "\n",
    "- **urlencode**"
   ]
  },
  {
   "cell_type": "code",
   "execution_count": null,
   "id": "bd1c1516",
   "metadata": {},
   "outputs": [],
   "source": [
    "{{ value|urlencode }}"
   ]
  },
  {
   "cell_type": "markdown",
   "id": "c81c0e7f",
   "metadata": {},
   "source": [
    "If value is \"https://www.example.org/foo?a=b&c=d\", the output will be \"https%3A//www.example.org/foo%3Fa%3Db%26c%3Dd\"."
   ]
  }
 ],
 "metadata": {
  "jupytext": {
   "cell_metadata_filter": "-all",
   "main_language": "html",
   "notebook_metadata_filter": "-all"
  }
 },
 "nbformat": 4,
 "nbformat_minor": 5
}
