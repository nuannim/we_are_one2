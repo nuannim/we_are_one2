{
 "cells": [
  {
   "cell_type": "markdown",
   "id": "3602de72",
   "metadata": {},
   "source": [
    "# Model Relationships\n",
    "\n",
    "## Many-to-one relationships\n",
    "\n",
    "สำหรับการนิยาม Many-to-one Relationships จะใช้การประกาศ ForeignKey เป็น field ใน models\n",
    "\n",
    "ต่อเนื่องจากตัวอย่าง `books/models.py` ใน model `Book` จะเห็นว่ามีการประกาศ ForeignKey เก็บ `publisher_id` ซึ่งชี้ไปยัง instance ใน model `Publisher`"
   ]
  },
  {
   "cell_type": "code",
   "execution_count": null,
   "id": "51f8e56b",
   "metadata": {},
   "outputs": [],
   "source": [
    "# /books/models.py\n",
    "...\n",
    "class Publisher(models.Model):\n",
    "    name = models.CharField(max_length=300)\n",
    "\n",
    "class Book(models.Model):\n",
    "    name = models.CharField(max_length=300)\n",
    "    pages = models.IntegerField()\n",
    "    price = models.DecimalField(max_digits=10, decimal_places=2)\n",
    "    rating = models.FloatField()\n",
    "    authors = models.ManyToManyField(Author)\n",
    "    publisher = models.ForeignKey(Publisher, on_delete=models.CASCADE)\n",
    "    pubdate = models.DateField()\n",
    "..."
   ]
  },
  {
   "cell_type": "markdown",
   "id": "e0314fd1",
   "metadata": {},
   "source": [
    "สมมติเราจะสร้าง book เล่มใหม่ที่มีการ FK ไปหา publisher \"Penguin Books\""
   ]
  },
  {
   "cell_type": "code",
   "execution_count": null,
   "id": "f0af1f01",
   "metadata": {},
   "outputs": [],
   "source": [
    ">>> from books.models import Publisher, Book\n",
    ">>> from datetime import datetime\n",
    "# Get the publisher instance\n",
    ">>> penguin_pub = Publisher.objects.get(name=\"Penguin Books\")\n",
    "\n",
    "# Create a new book\n",
    ">>> book = Book.objects.create(\n",
    "    name=\"Web Programming is HARD\",\n",
    "    pages=200,\n",
    "    price=10.00,\n",
    "    rating=4.5,\n",
    "    publisher=penguin_pub,\n",
    "    pubdate=datetime.now().date()\n",
    ")\n",
    ">>> book\n",
    "<Book: Book object (61)>\n",
    ">>> book.publisher.name\n",
    "'Penguin Books'\n",
    ">>> book.publisher.id\n",
    "1"
   ]
  },
  {
   "cell_type": "markdown",
   "id": "f195bd82",
   "metadata": {},
   "source": [
    "ในกรณีที่เราต้องการรายการ book ทั้งหมดที่เกี่ยวข้องกับ publisher \"Penguin Books\" สามารถทำได้ดังนี้"
   ]
  },
  {
   "cell_type": "code",
   "execution_count": null,
   "id": "d9858e77",
   "metadata": {},
   "outputs": [],
   "source": [
    ">>> from books.models import Publisher, Book\n",
    "# Get the publisher instance\n",
    ">>> penguin_pub = Publisher.objects.get(name=\"Penguin Books\")\n",
    "\n",
    "# Get all books published by \"Penguin Books\"\n",
    ">>> books = penguin_pub.book_set.all()\n",
    "<QuerySet [<Book: Book object (2)>, <Book: Book object (3)>, <Book: Book object (4)>, <Book: Book object (5)>, <Book: Book object (6)>, <Book: Book object (7)>, <Book: Book object (8)>, <Book: Book object (9)>, <Book: Book object (10)>, <Book: Book object (11)>, <Book: Book object (12)>, <Book: Book object (13)>, <Book: Book object (14)>, <Book: Book object (15)>, <Book: Book object (16)>, <Book: Book object (17)>, <Book: Book object (18)>, <Book: Book object (19)>, <Book: Book object (20)>, <Book: Book object (21)>, '...(remaining elements truncated)...']>\n",
    "\n",
    "# How may books?\n",
    ">>> penguin_pub.book_set.count()\n",
    "21\n",
    "\n",
    "# Get top 10 best rating books\n",
    ">>> penguin_pub.book_set.order_by(\"-rating\")[:10]\n",
    "<QuerySet [<Book: Book object (14)>, <Book: Book object (4)>, <Book: Book object (15)>, <Book: Book object (9)>, <Book: Book object (12)>, <Book: Book object (3)>, <Book: Book object (8)>, <Book: Book object (18)>, <Book: Book object (61)>, <Book: Book object (10)>]>\n",
    "\n",
    "# Get books with name starting with \"The\"\n",
    ">>> penguin_pub.book_set.filter(name__startswith=\"The\")\n",
    "<QuerySet [<Book: Book object (2)>, <Book: Book object (6)>, <Book: Book object (9)>, <Book: Book object (15)>, <Book: Book object (18)>]>\n",
    "\n",
    "# Get only ids\n",
    ">>> penguin_pub.book_set.filter(name__startswith=\"The\").values_list(\"id\", flat=True)\n",
    "<QuerySet [2, 6, 9, 15, 18]>\n",
    "\n",
    "# Get id and name\n",
    ">>> penguin_pub.book_set.filter(name__startswith=\"The\").values(\"id\", \"name\")\n",
    "<QuerySet [{'id': 2, 'name': 'The Great Gatsby'}, {'id': 6, 'name': 'The Catcher in the Rye'}, {'id': 9, 'name': 'The Odyssey'}, {'id': 15, 'name': 'The Hobbit'}, {'id': 18, 'name': 'The Hitchhiker Guide to the Galaxy'}]>"
   ]
  },
  {
   "cell_type": "markdown",
   "id": "78286759",
   "metadata": {},
   "source": [
    "สมมติว่าเราต้องการต้นหาจากทางฝั่ง book บ้าง ถ้าเราต้องหนังสือที่ rating >= 4.5 และ published โดยสำนักพิมพ์ \"Oxford University Press\""
   ]
  },
  {
   "cell_type": "code",
   "execution_count": null,
   "id": "f39aaa17",
   "metadata": {},
   "outputs": [],
   "source": [
    ">>> from books.models import Book\n",
    "\n",
    ">>> results = Book.objects.filter(publisher__name=\"Oxford University Press\", rating__gte=4.5)\n",
    ">>> results\n",
    "<QuerySet [<Book: Book object (24)>, <Book: Book object (27)>, <Book: Book object (30)>, <Book: Book object (33)>, <Book: Book object (44)>, <Book: Book object (56)>]>"
   ]
  },
  {
   "cell_type": "markdown",
   "id": "e82d110c",
   "metadata": {},
   "source": [
    "หรือจะ filter จากทางฝั่ง publisher ก็ได้"
   ]
  },
  {
   "cell_type": "code",
   "execution_count": null,
   "id": "77a60316",
   "metadata": {},
   "outputs": [],
   "source": [
    ">>> from books.models import Publisher\n",
    ">>> Publisher.objects.filter(book__id=20)\n",
    "<QuerySet [<Publisher: Publisher object (1)>]>\n",
    "\n",
    ">>> Publisher.objects.filter(book__pubdate='1967-05-30')\n",
    "<QuerySet [<Publisher: Publisher object (1)>]>\n",
    "# SELECT \"books_publisher\".\"id\", \"books_publisher\".\"name\" FROM \"books_publisher\" INNER JOIN \"books_book\" ON (\"books_publisher\".\"id\" = \"books_book\".\"publisher_id\") WHERE \"books_book\".\"pubdate\" = 1967-05-30"
   ]
  },
  {
   "cell_type": "markdown",
   "id": "249491ba",
   "metadata": {},
   "source": [
    "## One-to-one Relationships\n",
    "\n",
    "เรามาเพิ่มความสัมพันธ์แบบ one-to-one ให้กับตารางใน database ของเรากัน\n",
    "\n",
    "แก้ไขเพิ่ม code ด้านล่างนี้ในไฟล์ `/books/models.py`"
   ]
  },
  {
   "cell_type": "code",
   "execution_count": null,
   "id": "dd4b850f",
   "metadata": {},
   "outputs": [],
   "source": [
    "...\n",
    "# เพิ่มไว้ล่างสุดเลยนะครับ\n",
    "class StoreContact(models.Model):\n",
    "    mobile = models.CharField(max_length=20)\n",
    "    email = models.EmailField(max_length=50, blank=True, null=True)\n",
    "    address = models.TextField()\n",
    "    store = models.OneToOneField(Store, on_delete=models.CASCADE)"
   ]
  },
  {
   "cell_type": "markdown",
   "id": "ce504aa7",
   "metadata": {},
   "source": [
    "เรามาสร้างเพิ่ม store contact กันสำหรับ \"KMITL Book Store\""
   ]
  },
  {
   "cell_type": "code",
   "execution_count": null,
   "id": "c7151d13",
   "metadata": {},
   "outputs": [],
   "source": [
    ">>> from books.models import Store, StoreContact\n",
    "# Get KMITL Book Store\n",
    ">>> store = Store.objects.get(name=\"KMITL Book Store\")\n",
    "# Create contact information\n",
    ">>> contact = StoreContact(\n",
    "    mobile=\"021113333\",\n",
    "    email=\"book_shop@it.kmitl.ac.th\",\n",
    "    address=\"KMITL\",\n",
    "    store=store\n",
    ")\n",
    ">>> contact.save()"
   ]
  },
  {
   "cell_type": "markdown",
   "id": "8407d747",
   "metadata": {},
   "source": [
    "การเข้าถึงข้อมูล สามารถทำได้จากทั้ง 2 ฝั่ง"
   ]
  },
  {
   "cell_type": "code",
   "execution_count": null,
   "id": "9616c9dc",
   "metadata": {},
   "outputs": [],
   "source": [
    ">>> contact.store\n",
    "<Store: Store object (2)>\n",
    "\n",
    ">>> store.storecontact\n",
    "<StoreContact: StoreContact object (1)>\n",
    "\n",
    "# สามารถ filter ได้คล้ายกับ one-to-many\n",
    ">>> Store.objects.filter(storecontact__mobile=\"021113333\")\n",
    "<QuerySet [<Store: Store object (2)>]>"
   ]
  },
  {
   "cell_type": "markdown",
   "id": "4683e3b7",
   "metadata": {},
   "source": [
    "## Many-to-many Relationships\n",
    "\n",
    "จะเห็นได้ว่า model Book และ Author มีความสัมพันธ์กันแบบ many-to-many"
   ]
  },
  {
   "cell_type": "code",
   "execution_count": null,
   "id": "c249ca33",
   "metadata": {},
   "outputs": [],
   "source": [
    "class Author(models.Model):\n",
    "    name = models.CharField(max_length=100)\n",
    "    age = models.IntegerField()\n",
    "\n",
    "...\n",
    "\n",
    "class Book(models.Model):\n",
    "    name = models.CharField(max_length=300)\n",
    "    pages = models.IntegerField()\n",
    "    price = models.DecimalField(max_digits=10, decimal_places=2)\n",
    "    rating = models.FloatField()\n",
    "    authors = models.ManyToManyField(Author)\n",
    "    publisher = models.ForeignKey(Publisher, on_delete=models.CASCADE)\n",
    "    pubdate = models.DateField()"
   ]
  },
  {
   "cell_type": "markdown",
   "id": "5f7d75e8",
   "metadata": {},
   "source": [
    "เมื่อเราสั่ง `python manage.py migrate` Django จะทำการสร้างตารางกลางให้อัตโนมัตื อย่างในกรณีนี้จะมีตาราง `books_book_author` ถูกสร้างขึ้นมา\n",
    "\n",
    "สำหรับการเพิ่ม author ให้กับ book"
   ]
  },
  {
   "cell_type": "code",
   "execution_count": null,
   "id": "04972507",
   "metadata": {},
   "outputs": [],
   "source": [
    ">>> from books.models import Book, Author\n",
    ">>> a1 = Author.objects.get(pk=1)\n",
    ">>> a2 = Author.objects.get(pk=2)\n",
    "\n",
    ">>> book = Book.objects.get(pk=10)\n",
    ">>> book.authors.add(a1, a2)\n",
    "\n",
    ">>> book.authors.all()\n",
    "<QuerySet [<Author: Author object (5)>, <Author: Author object (1)>, <Author: Author object (2)>]>"
   ]
  },
  {
   "cell_type": "markdown",
   "id": "e9c43846",
   "metadata": {},
   "source": [
    "สำหรับการเพิ่ม book ใหม่ให้กับ author"
   ]
  },
  {
   "cell_type": "code",
   "execution_count": null,
   "id": "8c9a77e6",
   "metadata": {},
   "outputs": [],
   "source": [
    ">>> from books.models import Book, Author\n",
    ">>> b1 = Book.objects.get(pk=11)\n",
    ">>> b2 = Book.objects.get(pk=12)\n",
    "\n",
    ">>> author = Author.objects.get(pk=10)\n",
    ">>> author.book_set.add(b1, b2)\n",
    "\n",
    ">>> author.book_set.all()\n",
    "<QuerySet [<Book: Book object (11)>, <Book: Book object (12)>, <Book: Book object (19)>, <Book: Book object (20)>, <Book: Book object (30)>, <Book: Book object (50)>]>"
   ]
  },
  {
   "cell_type": "markdown",
   "id": "4ed5faa4",
   "metadata": {},
   "source": [
    "สามารถทำการ filter ได้จากทั้ง 2 ฝั่งเช่นเดียวกับ one-to-one และ one-to-many"
   ]
  },
  {
   "cell_type": "code",
   "execution_count": null,
   "id": "db5a87fc",
   "metadata": {},
   "outputs": [],
   "source": [
    ">>> Book.objects.filter(authors__name=\"F. Scott Fitzgerald\")\n",
    "<QuerySet [<Book: Book object (51)>, <Book: Book object (2)>, <Book: Book object (21)>, <Book: Book object (31)>, <Book: Book object (10)>]>\n",
    "\n",
    ">>> Author.objects.filter(book__name=\"Crime and Punishment\")\n",
    "<QuerySet [<Author: Author object (5)>, <Author: Author object (1)>, <Author: Author object (2)>]>"
   ]
  },
  {
   "cell_type": "markdown",
   "id": "d5b1e31d",
   "metadata": {},
   "source": [
    "สามารถทำการ ยกเลิก ความสัมพันธ์ ได้โดยใช้ `remove()` หรือ `clear()` ถ้าต้องการลบความสัมพันธ์ทั้งหมด"
   ]
  },
  {
   "cell_type": "code",
   "execution_count": null,
   "id": "b8e8918c",
   "metadata": {},
   "outputs": [],
   "source": [
    ">>> book = Book.objects.get(pk=10)\n",
    "\n",
    ">>> book.authors.remove(a1)\n",
    ">>> book.authors.all()\n",
    "<QuerySet [<Author: Author object (2)>, <Author: Author object (5)>]>\n",
    "\n",
    ">>> book.authors.clear()\n",
    ">>> book.authors.all()\n",
    "<QuerySet []>"
   ]
  }
 ],
 "metadata": {
  "jupytext": {
   "cell_metadata_filter": "-all",
   "main_language": "python",
   "notebook_metadata_filter": "-all"
  }
 },
 "nbformat": 4,
 "nbformat_minor": 5
}
