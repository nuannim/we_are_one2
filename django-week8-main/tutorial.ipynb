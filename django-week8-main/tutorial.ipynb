{
 "cells": [
  {
   "cell_type": "markdown",
   "id": "a5b0e280",
   "metadata": {},
   "source": [
    "# WEEK 8: Django Templates\n",
    "\n",
    "**สำหรับการใช้งาน static files (images, css ,js เราจะต้องทำการตั้งค่ากันก่อน)**\n",
    "\n",
    "## Configuring static files\n",
    "\n",
    "1. ดูว่าใน \"INSTALLED_APPS\" นั้นมี \"django.contrib.staticfiles\" อยู่\n",
    "2. เพิ่มการกำหนดว่า static files ของโปรเจคจะอยู่ที่ folder ไหนใน `settings.py`"
   ]
  },
  {
   "cell_type": "code",
   "execution_count": null,
   "id": "c143cdf1",
   "metadata": {},
   "outputs": [],
   "source": [
    "%%python\n",
    "STATIC_URL = \"static/\"\n",
    "\n",
    "STATICFILES_DIRS = [\n",
    "    BASE_DIR / \"static\",\n",
    "]"
   ]
  },
  {
   "cell_type": "markdown",
   "id": "f9c26b19",
   "metadata": {},
   "source": [
    "3. สร้าง folder `static` ในระดับเดียวกับ folder `polls` และใส่ไฟล์ statics ที่ต้องใช้ใน folder `static`\n",
    "4. ในไฟล์ template ของคุณ ให้ load template tag \"static\" และเรียกใช้ดังนี้"
   ]
  },
  {
   "cell_type": "code",
   "execution_count": null,
   "id": "84593c1b",
   "metadata": {},
   "outputs": [],
   "source": [
    "%%python\n",
    "{% load static %}\n",
    "<img src=\"{% static 'my_app/example.jpg' %}\" alt=\"My image\">"
   ]
  },
  {
   "cell_type": "markdown",
   "id": "d3c1ac03",
   "metadata": {},
   "source": [
    "5. เก็บ static files ใน folder \"static\"\n",
    "\n",
    "## Let's start the tutorial\n",
    "\n",
    "เราจะมาปรับแก้ไข app \"polls\" ที่เราได้ทำกันไปใน WEEK 7 กันนะครับ\n",
    "\n",
    "### index.html\n",
    "\n",
    "ขั้นตอนแรกเราจะแก้ไขในไฟล์ `polls/views.py` เพื่อแสดงคำถามทั้งหมด"
   ]
  },
  {
   "cell_type": "code",
   "execution_count": null,
   "id": "8ef8721a",
   "metadata": {},
   "outputs": [],
   "source": [
    "%%python\n",
    "...\n",
    "class IndexView(View):\n",
    "    def get(self, request):\n",
    "        question_list = Question.objects.order_by(\"-pub_date\")\n",
    "        context = {\"question_list\": question_list}\n",
    "        return render(request, \"index.html\", context)\n",
    "..."
   ]
  },
  {
   "cell_type": "markdown",
   "id": "3aaa8c7d",
   "metadata": {},
   "source": [
    "จากนั้นเราจะมาปรับไฟล์ `/polls/templates/index.html`"
   ]
  },
  {
   "cell_type": "code",
   "execution_count": null,
   "id": "945f03ae",
   "metadata": {},
   "outputs": [],
   "source": [
    "<html>\n",
    "    <head>\n",
    "    </head>\n",
    "    <body>\n",
    "        <h1>Lastest questions</h1>\n",
    "        {% if question_list %}\n",
    "            <ul>\n",
    "            {% for question in question_list %}\n",
    "                <li><a href=\"/polls/{{ question.id }}/\">{{ question.question_text }}</a></li>\n",
    "            {% endfor %}\n",
    "            </ul>\n",
    "        {% else %}\n",
    "            <p>No polls are available.</p>\n",
    "        {% endif %}\n",
    "    </body>\n",
    "</html>"
   ]
  },
  {
   "cell_type": "markdown",
   "id": "8c371cbe",
   "metadata": {},
   "source": [
    "โดยเพิ่มให้แสดงคำถาม `question_text` ไม่เกิน 40 ตัวอักษร [truncatechars](https://docs.djangoproject.com/en/5.2/ref/templates/builtins/#truncatechars) และ แสดง pub_date \"Fri 31, Jan 24\" [date](https://docs.djangoproject.com/en/5.2/ref/templates/builtins/#date)"
   ]
  },
  {
   "cell_type": "code",
   "execution_count": null,
   "id": "5a30e19e",
   "metadata": {},
   "outputs": [],
   "source": [
    "...\n",
    "<li><a href=\"/polls/{{ question.id }}/\">{{ question.question_text|truncatechars:40 }}</a> - Published date: {{question.pub_date|date:\"D d, M y\"}}</li>\n",
    "..."
   ]
  },
  {
   "cell_type": "markdown",
   "id": "6f615961",
   "metadata": {},
   "source": [
    "ผมคิดว่าเราน่าจะทำให้เวบไซต์ของเราสวยขึ้นสักหน่อยโดยใช้ css framework \"Bulma\"\n",
    "\n",
    "ก่อนอื่นไป [download](https://github.com/jgthms/bulma/releases/download/1.0.2/bulma-1.0.2.zip) ไฟล์ bulma.css มาจาก website \"https://bulma.io/\"\n",
    "\n",
    "จากนั้นวางไฟล์ bulma.css ไว้ใน folder `static/css/bulma.css`\n",
    "\n",
    "และเพิ่ม `{% load static %}` และ import css ไฟล์ใน <head></head>"
   ]
  },
  {
   "cell_type": "code",
   "execution_count": null,
   "id": "5e8e0fc5",
   "metadata": {},
   "outputs": [],
   "source": [
    "{% load static %}\n",
    "<!DOCTYPE html>\n",
    "<html>\n",
    "    <head>\n",
    "        <meta charset=\"utf-8\">\n",
    "    <meta name=\"viewport\" content=\"width=device-width, initial-scale=1\">\n",
    "    <title>Index</title>\n",
    "    <link rel=\"stylesheet\" href=\"{% static 'css/bulma.css' %}\">\n",
    "    </head>\n",
    "    <body>\n",
    "        <section class=\"section\">\n",
    "            <h1 class=\"title\">All questions</h1>\n",
    "            <div class=\"content\">\n",
    "            {% if question_list %}\n",
    "                <ul>\n",
    "                {% for question in question_list %}\n",
    "                <li><a href=\"{% url 'detail' question.id %}\">{{ question.question_text|truncatechars:40 }}</a>\n",
    "                    - Published date: {{question.pub_date|date:\"D d, M y\"}}</li>\n",
    "                {% endfor %}\n",
    "                </ul>\n",
    "            {% else %}\n",
    "                <p>No polls are available.</p>\n",
    "            {% endif %}\n",
    "            </div>\n",
    "        </section>\n",
    "        <section class=\"section\">\n",
    "            <p class=\"subtitle\">\n",
    "                Total: {{question_list|length}} questions <!-- ใช้ filter length เพื่อแสดงขนาดของ list question_list -->\n",
    "            </p>\n",
    "        </section>\n",
    "    </body>\n",
    "</html>"
   ]
  },
  {
   "cell_type": "markdown",
   "id": "38fae579",
   "metadata": {},
   "source": [
    "### detail.html\n",
    "\n",
    "จากนั้่นเราไปแก้ไขหน้า `detail.html` ให้สวยงามกันบ้าง"
   ]
  },
  {
   "cell_type": "code",
   "execution_count": null,
   "id": "d366cc20",
   "metadata": {},
   "outputs": [],
   "source": [
    "{% load static %}\n",
    "<!DOCTYPE html>\n",
    "<html>\n",
    "    <head>\n",
    "        <meta charset=\"utf-8\">\n",
    "    <meta name=\"viewport\" content=\"width=device-width, initial-scale=1\">\n",
    "    <title>Detail</title>\n",
    "    <link rel=\"stylesheet\" href=\"{% static 'css/bulma.css' %}\">\n",
    "    </head>\n",
    "    <body>\n",
    "        <section class=\"section\">\n",
    "            <h1 class=\"title\">Question: {{ question.question_text }}</h1>\n",
    "            <p class=\"subtitle\">Published date: {{ question.pub_date|date:\"D d, M Y\" }} ({{ question.pub_date|timesince }})</p>\n",
    "            <div class=\"content\">\n",
    "            <ul>\n",
    "                {% for choice in choices %}\n",
    "                    <li>Choice {{forloop.counter}} => {{ choice.choice_text }} (Votes: {{choice.votes}})</li>\n",
    "                {% endfor %}\n",
    "            </ul>\n",
    "            <a href=\"{% url 'vote' question.id %}\" class=\"button ml-3\">Let's Vote</a>\n",
    "            <p class=\"subtitle is-6\">Current time: {% now \"D d, M Y\" %}</p>\n",
    "            </div>\n",
    "        </section>\n",
    "    </body>\n",
    "</html>"
   ]
  },
  {
   "cell_type": "markdown",
   "id": "450b06f3",
   "metadata": {},
   "source": [
    "จะเห็นได้ว่าเรามีการใช้งาน filter `timesince` และ ใช้งาน `forloop.counter` เพื่อแสดงหมายเลขรอบของ for loop\n",
    "\n",
    "และมีการใช้งาน template tag `now` เพื่อแสดง วัน-เวลา ปัจจุบัน\n",
    "\n",
    "### vote.html\n",
    "\n",
    "สุดท้ายเราไปแก้ไขหน้า `vote.html` ให้สวยงามกัน"
   ]
  },
  {
   "cell_type": "code",
   "execution_count": null,
   "id": "bd7eeb9a",
   "metadata": {},
   "outputs": [],
   "source": [
    "{% load static %}\n",
    "<!DOCTYPE html>\n",
    "<html>\n",
    "    <head>\n",
    "        <meta charset=\"utf-8\">\n",
    "    <meta name=\"viewport\" content=\"width=device-width, initial-scale=1\">\n",
    "    <title>Detail</title>\n",
    "    <link rel=\"stylesheet\" href=\"{% static 'css/bulma.css' %}\">\n",
    "    </head>\n",
    "    <body>\n",
    "        <section class=\"section\">\n",
    "            <h1 class=\"title\">Question: {{ question.question_text }}</h1>\n",
    "            <p class=\"subtitle\">Published date: {{ question.pub_date|date:\"D d, M Y\" }} ({{ question.pub_date|timesince }})</p>\n",
    "        </section>\n",
    "        <div class=\"container pl-6 pt-1\">\n",
    "            <form action=\"{% url 'vote' question.id %}\" method=\"POST\">\n",
    "            {% csrf_token %}\n",
    "            <div class=\"field\">\n",
    "                {% for choice in choices %}\n",
    "                <div class=\"control\">\n",
    "                    <label class=\"radio\">\n",
    "                        <input type=\"radio\" id=\"choice{{ forloop.counter }}\" name=\"choice\" value=\"{{ choice.id }}\">\n",
    "                        {{ choice.choice_text }}\n",
    "                    </label>\n",
    "                </div>\n",
    "                {% endfor %}\n",
    "            </div>\n",
    "              \n",
    "            <div class=\"field\">\n",
    "                <div class=\"control\">\n",
    "                  <input type=\"submit\" class=\"button is-link\" value=\"Submit\">\n",
    "                </div>\n",
    "            </div>\n",
    "            </form>\n",
    "        </div>\n",
    "    </body>\n",
    "</html>"
   ]
  },
  {
   "cell_type": "markdown",
   "id": "235ec8c0",
   "metadata": {},
   "source": [
    "จะเห็นได้ว่ามีการใช้งาน template tag `csrf_token` ในฟอร์ม ซึ่งเป็นกลไลของ Django ในการป้องกันปัญหา CSRF หรือ Cross-Site Request Forgery\n",
    "\n",
    "CSRF เป็นช่องโหว่ที่ Attakcer ส่ง HTML หรือ JavaScript ให้ Web browser ของเหยื่อส่ง HTTP request เพื่อไปกระทำการบางอย่างที่เป็นอันตรายต่อผู้ใช้งาน หลักการของ CSRF เป็นตัวอย่างดังรูป\n",
    "\n",
    "![csrf](image.png)\n",
    "\n",
    "1. Attacker เตรียม request หรือ ปลอมแปลง web application นั้นๆ\n",
    "2. Attacker ส่ง html / javascript ให้ web browser หลังจากนั้น user Login เข้า web browser นั้น ด้วย Account ของ User เอง\n",
    "3. เมื่อ login เสร็จ และ Attacker จะได้ค่า session มาเก็บใน cookie บน web browser แล้ว user เข้าเว็บไซต์ของ Attacker โดยไม่ได้ตั้งใจ จากนั้น Website ของ Attacker บังคับให้ Browser ของ user ส่ง HTTP request ไปที่ web browser มันจะส่งค่า session ที่อยู่ใน Cookie ไปด้วย\n",
    "4. เมื่อ Server ได้รับ HTTP request จากข้อ 3 แล้ว check ค่า session ที่อยู่ใน cookie ถ้า Attacker ทำสำเร็จ ค่า session ถูกต้อง Attacker สามารถนำไปใช้งานต่อได้ จึงอนุญาตให้ process HTTP request นั้นต่อ"
   ]
  }
 ],
 "metadata": {
  "jupytext": {
   "cell_metadata_filter": "-all",
   "main_language": "html",
   "notebook_metadata_filter": "-all"
  }
 },
 "nbformat": 4,
 "nbformat_minor": 5
}
