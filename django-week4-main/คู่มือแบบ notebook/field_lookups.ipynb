{
 "cells": [
  {
   "cell_type": "markdown",
   "id": "8241ccc9",
   "metadata": {},
   "source": [
    "# Field Lookups\n",
    "\n",
    "[Django Doc](https://docs.djangoproject.com/en/5.0/topics/db/queries/#field-lookups)\n",
    "\n",
    "ความสุดยอดของ Django คือการที่เราสามารถเขียน WHERE condition ในการ query ข้อมูลจาก database ได้อย่างง่ายดายโดยการกำหนด lookup type ใน methods `filter()`, `exclude()` และ `get()`\n",
    "\n",
    "โดย format การกำหนด lookup type เป็นดังนี้ `field__lookuptype=value` (underscore 2 ตัว ระหว่าง ชื่อ field และ lookup type)\n",
    "\n",
    "ในกรณีที่ต้องการ filter ด้วย foreign key จะต้องเติม `_id` ต่อท้ายชื่อ field ด้วย เช่น"
   ]
  },
  {
   "cell_type": "code",
   "execution_count": null,
   "id": "3ef7b4f3",
   "metadata": {},
   "outputs": [],
   "source": [
    "%%python\n",
    ">>> Entry.objects.filter(blog_id=4)"
   ]
  },
  {
   "cell_type": "markdown",
   "id": "f11aa33a",
   "metadata": {
    "lines_to_next_cell": 0
   },
   "source": [
    "[Field lookup reference](https://docs.djangoproject.com/en/5.0/ref/models/querysets/#field-lookups)\n",
    "\n",
    "- exact\n",
    "- iexact\n",
    "- contains"
   ]
  },
  {
   "cell_type": "code",
   "execution_count": null,
   "id": "5bc7aa63",
   "metadata": {
    "lines_to_next_cell": 0
   },
   "outputs": [],
   "source": [
    "-- Entry.objects.filter(headline__contains='Lennon')\n",
    "SELECT ... WHERE headline LIKE '%Lennon%';"
   ]
  },
  {
   "cell_type": "markdown",
   "id": "0fc2274e",
   "metadata": {
    "lines_to_next_cell": 0
   },
   "source": [
    "- icontains"
   ]
  },
  {
   "cell_type": "code",
   "execution_count": null,
   "id": "266b8d10",
   "metadata": {
    "lines_to_next_cell": 0
   },
   "outputs": [],
   "source": [
    "-- Entry.objects.filter(headline__icontains='Lennon')\n",
    "SELECT ... WHERE headline ILIKE '%Lennon%';"
   ]
  },
  {
   "cell_type": "markdown",
   "id": "afa359d2",
   "metadata": {
    "lines_to_next_cell": 0
   },
   "source": [
    "- startswith\n",
    "- endswith\n",
    "- in"
   ]
  },
  {
   "cell_type": "code",
   "execution_count": null,
   "id": "e3c77055",
   "metadata": {
    "lines_to_next_cell": 0
   },
   "outputs": [],
   "source": [
    "-- Entry.objects.filter(headline__in=('a', 'b', 'c'))\n",
    "SELECT ... WHERE headline IN ('a', 'b', 'c');"
   ]
  },
  {
   "cell_type": "markdown",
   "id": "64df4d74",
   "metadata": {
    "lines_to_next_cell": 0
   },
   "source": [
    "- gt, gte, lt, lte"
   ]
  },
  {
   "cell_type": "code",
   "execution_count": null,
   "id": "2ce328e0",
   "metadata": {
    "lines_to_next_cell": 0
   },
   "outputs": [],
   "source": [
    "SELECT ... WHERE id > 4;"
   ]
  },
  {
   "cell_type": "markdown",
   "id": "ab667cbb",
   "metadata": {
    "lines_to_next_cell": 0
   },
   "source": [
    "- range"
   ]
  },
  {
   "cell_type": "code",
   "execution_count": null,
   "id": "fd2ad688",
   "metadata": {
    "lines_to_next_cell": 0
   },
   "outputs": [],
   "source": [
    "-- Entry.objects.filter(pub_date__range=(start_date, end_date))\n",
    "SELECT ... WHERE pub_date BETWEEN '2005-01-01' AND '2005-03-31';"
   ]
  },
  {
   "cell_type": "markdown",
   "id": "48865a94",
   "metadata": {
    "lines_to_next_cell": 0
   },
   "source": [
    "- date, year, month, day, week, week_day"
   ]
  },
  {
   "cell_type": "code",
   "execution_count": null,
   "id": "b50d1ca7",
   "metadata": {
    "lines_to_next_cell": 0
   },
   "outputs": [],
   "source": [
    "-- Entry.objects.filter(pub_date__year=2005)\n",
    "-- Entry.objects.filter(pub_date__year__gte=2005)\n",
    "SELECT ... WHERE pub_date BETWEEN '2005-01-01' AND '2005-12-31';\n",
    "SELECT ... WHERE pub_date >= '2005-01-01';"
   ]
  },
  {
   "cell_type": "markdown",
   "id": "fb30bdf2",
   "metadata": {
    "lines_to_next_cell": 0
   },
   "source": [
    "- isnull"
   ]
  },
  {
   "cell_type": "code",
   "execution_count": null,
   "id": "44d6de53",
   "metadata": {
    "lines_to_next_cell": 0
   },
   "outputs": [],
   "source": [
    "-- Entry.objects.filter(pub_date__isnull=True)\n",
    "SELECT ... WHERE pub_date IS NULL;"
   ]
  },
  {
   "cell_type": "markdown",
   "id": "7f44e375",
   "metadata": {
    "lines_to_next_cell": 0
   },
   "source": [
    "- regex"
   ]
  },
  {
   "cell_type": "code",
   "execution_count": null,
   "id": "6949aaf2",
   "metadata": {},
   "outputs": [],
   "source": [
    "-- Entry.objects.get(title__regex=r\"^(An?|The) +\")\n",
    "SELECT ... WHERE title ~ '^(An?|The) +'; -- PostgreSQL"
   ]
  },
  {
   "cell_type": "markdown",
   "id": "a43d0ced",
   "metadata": {},
   "source": [
    "**HINT:** ถ้าอยากลองพิมพ์ SQL query ออกมาดูสามารถทำได้โดยใช้ `.query`"
   ]
  },
  {
   "cell_type": "code",
   "execution_count": null,
   "id": "00ba76c6",
   "metadata": {},
   "outputs": [],
   "source": [
    "%%python\n",
    "q = Entry.objects.filter(headline__in=('a', 'b', 'c'))\n",
    "\n",
    "print(q.query)"
   ]
  },
  {
   "cell_type": "markdown",
   "id": "3ddb4c7d",
   "metadata": {},
   "source": [
    "## Lookups that span relationships\n",
    "\n",
    "QuerySet API ของ Django ช่วยให้เราสามารถ query ข้อมูลที่เกี่ยวข้องกับตารางอื่นที่มี relationship กันได้อย่างสะดวก โดย Django จะไปจัดการเรื่องการ generate SQL JOINs ให้หลังบ้าน\n",
    "\n",
    "ยกตัวอย่างเช่น ถ้าเราต้องการดึงข้อมูล Entry ทั้งหมดของ Blog ที่มี name = \"Beatles Blog\""
   ]
  },
  {
   "cell_type": "code",
   "execution_count": null,
   "id": "d3205c5f",
   "metadata": {},
   "outputs": [],
   "source": [
    "%%python\n",
    ">>> Entry.objects.filter(blog__name=\"Beatles Blog\")\n",
    ">>> Entry.objects.filter(blog__name__contains=\"Beatles Blog\")"
   ]
  },
  {
   "cell_type": "markdown",
   "id": "76fbec98",
   "metadata": {},
   "source": [
    "สังเกตว่าเราเพียงเอาชื่อ field foreign key มาต่อด้วยชื่อ field ของตารางที่อ้างอิงไปถึง โดยคั่นด้วย underscore 2 ตัว - `blog__name` - และยังสามารถต่อด้วย lookup type ได้อีก\n",
    "\n",
    "นอกจากนั้นเรายังสามารถ query ข้อมูลไปกี่ต่อก็ได้ ดังตัวอย่าง"
   ]
  },
  {
   "cell_type": "code",
   "execution_count": null,
   "id": "b8373943",
   "metadata": {},
   "outputs": [],
   "source": [
    "%%python\n",
    "Blog.objects.filter(entry__authors__name=\"Lennon\")\n",
    "Blog.objects.filter(entry__authors__name__isnull=True)"
   ]
  },
  {
   "cell_type": "markdown",
   "id": "f7aa94aa",
   "metadata": {},
   "source": [
    "## Filters can reference fields on the model\n",
    "\n",
    "ในกรณีที่เราต้องการเปรียบเทียบค่าของ field ใน model กับ field อื่นใน model เดียวกัน เราสามารถใช้ **F expressions** ได้ `F()`"
   ]
  },
  {
   "cell_type": "code",
   "execution_count": null,
   "id": "14995949",
   "metadata": {},
   "outputs": [],
   "source": [
    "%%python\n",
    ">>> from django.db.models import F\n",
    ">>> Entry.objects.filter(number_of_comments__gt=F(\"number_of_pingbacks\"))\n",
    ">>> Entry.objects.filter(authors__name=F(\"blog__name\")) # span relationships"
   ]
  },
  {
   "cell_type": "markdown",
   "id": "c67b30ad",
   "metadata": {},
   "source": [
    "โดย Django นั้น support การใช้ +, -, *, / ร่วมกับ `F()` ด้วย เช่น"
   ]
  },
  {
   "cell_type": "code",
   "execution_count": null,
   "id": "b156fb27",
   "metadata": {},
   "outputs": [],
   "source": [
    "%%python\n",
    ">>> Entry.objects.filter(number_of_comments__gt=F(\"number_of_pingbacks\") * 2)\n",
    ">>> Entry.objects.filter(rating__lt=F(\"number_of_comments\") + F(\"number_of_pingbacks\"))"
   ]
  },
  {
   "cell_type": "markdown",
   "id": "8abaf4e3",
   "metadata": {},
   "source": [
    "## Complex lookups with Q objects\n",
    "\n",
    "Keyword argument ที่ส่งเข้าไปใน method `filter()` ทุกตัวจะถูกเอามา generate เป็น `SELECT ... WHERE ... AND ...` เสมอ เช่น \n",
    "\n",
    "โดยปกติถ้าเราใช้ `,` ขั้นระหว่าง filter condition จะเป็นการ AND กัน"
   ]
  },
  {
   "cell_type": "code",
   "execution_count": null,
   "id": "9e216843",
   "metadata": {},
   "outputs": [],
   "source": [
    "-- Entry.objects.filter(headline__contains='Lennon', pub_date__year=2005)\n",
    "SELECT * FROM entry WHERE headline LIKE '%Lennon%' AND pub_date BETWEEN '2005-01-01' AND '2005-12-31';"
   ]
  },
  {
   "cell_type": "markdown",
   "id": "2e4a3779",
   "metadata": {},
   "source": [
    "ในกรณีที่เราต้องการทำการ query ที่ซับซ้อน อาจจะต้องการใช้ `OR` หรือ `NOT` ร่วมด้วย เราจะต้องใช้ `Q objects`\n",
    "\n",
    "กรณี OR"
   ]
  },
  {
   "cell_type": "code",
   "execution_count": null,
   "id": "a1fd8631",
   "metadata": {},
   "outputs": [],
   "source": [
    "%%python\n",
    "from django.db.models import Q\n",
    "\n",
    "Entry.objects.filter(Q(headline__startswith=\"Who\") | Q(headline__startswith=\"What\"))\n",
    "# SELECT ... WHERE headline LIKE 'Who%' OR headline LIKE 'What%'"
   ]
  },
  {
   "cell_type": "markdown",
   "id": "ebee1ecf",
   "metadata": {},
   "source": [
    "กรณี NOT"
   ]
  },
  {
   "cell_type": "code",
   "execution_count": null,
   "id": "f63cb4fe",
   "metadata": {},
   "outputs": [],
   "source": [
    "%%python\n",
    "Entry.objects.filter(Q(headline__startswith=\"Who\") | ~Q(pub_date__year=2005))\n",
    "# SELECT ... WHERE headline LIKE 'Who%' OR pub_date NOT BETWEEN '2005-01-01' AND '2005-12-31'; "
   ]
  },
  {
   "cell_type": "markdown",
   "id": "00525a6c",
   "metadata": {},
   "source": [
    "กรณี nested conditions"
   ]
  },
  {
   "cell_type": "code",
   "execution_count": null,
   "id": "47768c14",
   "metadata": {},
   "outputs": [],
   "source": [
    "%%python\n",
    "Poll.objects.get(\n",
    "    Q(question__startswith=\"Who\"),\n",
    "    (Q(pub_date=date(2005, 5, 2)) | Q(pub_date=date(2005, 5, 6))),\n",
    ")"
   ]
  },
  {
   "cell_type": "markdown",
   "id": "4f4b2328",
   "metadata": {},
   "source": [
    "แปลงเป็น SQL"
   ]
  },
  {
   "cell_type": "code",
   "execution_count": null,
   "id": "98a0bd2d",
   "metadata": {},
   "outputs": [],
   "source": [
    "SELECT * from polls WHERE question LIKE 'Who%' \n",
    "    AND (pub_date = '2005-05-02' OR pub_date = '2005-05-06')"
   ]
  }
 ],
 "metadata": {
  "jupytext": {
   "cell_metadata_filter": "-all",
   "main_language": "sql",
   "notebook_metadata_filter": "-all"
  }
 },
 "nbformat": 4,
 "nbformat_minor": 5
}
