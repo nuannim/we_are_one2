{
 "cells": [
  {
   "cell_type": "markdown",
   "id": "58951803",
   "metadata": {},
   "source": [
    "# The Django template language\n",
    "\n",
    "## Templates\n",
    "\n",
    "> A template is a text file. It can generate any text-based format (HTML, XML, CSV, etc.).\n",
    "\n",
    "ด้านล่างเป็นตัวอย่าง template ที่มีการใช้งานทุกๆ concept ที่เราจะพูดถึงในวันนี้"
   ]
  },
  {
   "cell_type": "code",
   "execution_count": null,
   "id": "a564b541",
   "metadata": {},
   "outputs": [],
   "source": [
    "{% extends \"base_generic.html\" %}\n",
    "\n",
    "{% block title %}{{ section.title }}{% endblock %}\n",
    "\n",
    "{% block content %}\n",
    "<h1>{{ section.title }}</h1>\n",
    "\n",
    "{% for story in story_list %}\n",
    "<h2>\n",
    "  <a href=\"{{ story.get_absolute_url }}\">\n",
    "    {{ story.headline|upper }}\n",
    "  </a>\n",
    "</h2>\n",
    "<p>{{ story.tease|truncatewords:\"100\" }}</p>\n",
    "{% endfor %}\n",
    "{% endblock %}"
   ]
  },
  {
   "cell_type": "markdown",
   "id": "9e58d9a1",
   "metadata": {},
   "source": [
    "## Variables\n",
    "\n",
    "การแสดงค่าตัวแปรใน tamplate จะใช้ {{ variable }}\n",
    "\n",
    "โดยถ้าเราพยายามแสดงค่าตัวแปรที่ไม่มีการส่งมาใน template ค่า '' จะถูกแสดงแทน\n",
    "\n",
    "## Filters\n",
    "\n",
    "Filters ใช้ในการ modify ค่าของตัวแปร เช่น {{ name|lower }} โดย `|` จะเป็น syntax การ apply filter เข้าไปกับตัวแปร\n",
    "\n",
    "เราสามารถ chain filter หลายๆตัวได้ เช่น {{ text|escape|linebreaks }}\n",
    "\n",
    "นอกจากนั้น filter บางตัวก็มีการรับ argument เช่น {{ bio|truncatewords:30 }}\n",
    "\n",
    "[built-in filter reference](https://docs.djangoproject.com/en/5.2/ref/templates/builtins/#ref-templates-builtins-filters)\n",
    "\n",
    "Filter ที่ใช้บ่อยๆ:"
   ]
  },
  {
   "cell_type": "code",
   "execution_count": null,
   "id": "42e37755",
   "metadata": {},
   "outputs": [],
   "source": [
    "{{ value|default:\"nothing\" }}\n",
    "\n",
    "{{ value|length }}\n",
    "\n",
    "{{ value|filesizeformat }}\n",
    "<!--If value is 123456789, the output would be 117.7 MB.-->"
   ]
  },
  {
   "cell_type": "markdown",
   "id": "ba63fc00",
   "metadata": {},
   "source": [
    "## Tags\n",
    "\n",
    "Syntax ของ tag จะเป็น {% %} โดย tag จะเกี่ยวข้องกับ control flow และ logic\n",
    "\n",
    "และบาง tag จะต้องมีการเปิด และ ปิด tag\n",
    "\n",
    "[built-in tag reference](https://docs.djangoproject.com/en/5.2/ref/templates/builtins/#ref-templates-builtins-tags)\n",
    "\n",
    "เช่น\n",
    "\n",
    "**for**"
   ]
  },
  {
   "cell_type": "code",
   "execution_count": null,
   "id": "7ba7d96e",
   "metadata": {},
   "outputs": [],
   "source": [
    "<ul>\n",
    "{% for athlete in athlete_list %}\n",
    "    <li>{{ athlete.name }}</li>\n",
    "{% endfor %}\n",
    "</ul>"
   ]
  },
  {
   "cell_type": "markdown",
   "id": "15156a4a",
   "metadata": {},
   "source": [
    "**if elif else**"
   ]
  },
  {
   "cell_type": "code",
   "execution_count": null,
   "id": "124d77a1",
   "metadata": {},
   "outputs": [],
   "source": [
    "{% if athlete_list %}\n",
    "    Number of athletes: {{ athlete_list|length }}\n",
    "{% elif athlete_in_locker_room_list %}\n",
    "    Athletes should be out of the locker room soon!\n",
    "{% else %}\n",
    "    No athletes.\n",
    "{% endif %}"
   ]
  },
  {
   "cell_type": "markdown",
   "id": "bf2cc90b",
   "metadata": {},
   "source": [
    "## Comments"
   ]
  },
  {
   "cell_type": "code",
   "execution_count": null,
   "id": "1986a293",
   "metadata": {},
   "outputs": [],
   "source": [
    "{# greeting #}hello\n",
    "\n",
    "{# {% if foo %}bar{% else %} #}"
   ]
  },
  {
   "cell_type": "markdown",
   "id": "a038ed85",
   "metadata": {},
   "source": [
    "## Template inheritance\n",
    "\n",
    "Template inheritance นั้นช่วยให้เราสามารถวางโครงสร้างของหน้าเพจ โดยการสร้าง base \"skeleton\" เช่น\n",
    "\n",
    "![layout](./layout.png)\n",
    "\n",
    "ลองมาดูตัวอย่่างการทำ template inheritance กัน"
   ]
  },
  {
   "cell_type": "code",
   "execution_count": null,
   "id": "318e3324",
   "metadata": {},
   "outputs": [],
   "source": [
    "<!DOCTYPE html>\n",
    "<html lang=\"en\">\n",
    "<head>\n",
    "    <link rel=\"stylesheet\" href=\"style.css\">\n",
    "    <title>{% block title %}My amazing site{% endblock %}</title>\n",
    "</head>\n",
    "\n",
    "<body>\n",
    "    <div id=\"sidebar\">\n",
    "        {% block sidebar %}\n",
    "        <ul>\n",
    "            <li><a href=\"/\">Home</a></li>\n",
    "            <li><a href=\"/blog/\">Blog</a></li>\n",
    "        </ul>\n",
    "        {% endblock %}\n",
    "    </div>\n",
    "\n",
    "    <div id=\"content\">\n",
    "        {% block content %}{% endblock %}\n",
    "    </div>\n",
    "</body>\n",
    "</html>"
   ]
  },
  {
   "cell_type": "markdown",
   "id": "28b83a0e",
   "metadata": {},
   "source": [
    "ไฟล์ `base.html` นี้ทำการกำหนดโครงสร้างของหน้าเวบเพจเป็น 3 ส่วนคือ\n",
    "\n",
    "1. title\n",
    "2. sidebar\n",
    "3. content\n",
    "\n",
    "โดยการใช้ tag **block**\n",
    "\n",
    "หน้าเพจที่มา extend `base.html` นี้ไปอาจจะเป็นดังตัวอย่าง"
   ]
  },
  {
   "cell_type": "code",
   "execution_count": null,
   "id": "c00d6741",
   "metadata": {},
   "outputs": [],
   "source": [
    "{% extends \"base.html\" %}\n",
    "\n",
    "{% block title %}My amazing blog{% endblock %}\n",
    "\n",
    "{% block content %}\n",
    "{% for entry in blog_entries %}\n",
    "    <h2>{{ entry.title }}</h2>\n",
    "    <p>{{ entry.body }}</p>\n",
    "{% endfor %}\n",
    "{% endblock %}"
   ]
  },
  {
   "cell_type": "markdown",
   "id": "b43a2e65",
   "metadata": {},
   "source": [
    "จะเห็นได้ว่ามีการใช้ tag **extends** - `{% extends \"base.html\" %}`\n",
    "\n",
    "หน้า \"My amazing blog\" นี้จะถูก Django render เป็น HTML ออกมาดังนี้"
   ]
  },
  {
   "cell_type": "code",
   "execution_count": null,
   "id": "ecea9038",
   "metadata": {},
   "outputs": [],
   "source": [
    "<!DOCTYPE html>\n",
    "<html lang=\"en\">\n",
    "<head>\n",
    "    <link rel=\"stylesheet\" href=\"style.css\">\n",
    "    <title>My amazing blog</title>\n",
    "</head>\n",
    "\n",
    "<body>\n",
    "    <div id=\"sidebar\">\n",
    "        <ul>\n",
    "            <li><a href=\"/\">Home</a></li>\n",
    "            <li><a href=\"/blog/\">Blog</a></li>\n",
    "        </ul>\n",
    "    </div>\n",
    "\n",
    "    <div id=\"content\">\n",
    "        <h2>Entry one</h2>\n",
    "        <p>This is my first entry.</p>\n",
    "\n",
    "        <h2>Entry two</h2>\n",
    "        <p>This is my second entry.</p>\n",
    "    </div>\n",
    "</body>\n",
    "</html>"
   ]
  },
  {
   "cell_type": "markdown",
   "id": "469103d5",
   "metadata": {},
   "source": [
    "จะเห็นว่าตัวลูกที่ extend `base.html` ไม่ได้ทำการกำหนด block \"sidebar\" ดังนั้น code ใน block นั้นจะเป็นตามค่าที่กำหนดใน `base.html`\n",
    "\n",
    "## Automatic HTML escaping\n",
    "\n",
    "เมื่อเราทำการ render HTML จากข้อมูลที่ส่งมาจาก database มันมักจะมีความเสี่ยงที่ข้อมูลจะทำให้หน้าเพจ HTML เกิดปัญหา เช่น"
   ]
  },
  {
   "cell_type": "code",
   "execution_count": null,
   "id": "507a4fab",
   "metadata": {},
   "outputs": [],
   "source": [
    "Hello, {{ name }}\n",
    "\n",
    "--------------\n",
    "\n",
    "<!-- ถ้าค่าของตัวแปร name คือ -->\n",
    "<script>alert('hello')</script>\n",
    "\n",
    "-------------\n",
    "\n",
    "<!-- เราก็จะ render ได้ -->\n",
    "Hello, <script>alert('hello')</script>"
   ]
  },
  {
   "cell_type": "markdown",
   "id": "b1f632ca",
   "metadata": {},
   "source": [
    "หรือค่าของ name = <b>username ก็จะทำให้หน้า page ทั้งหมดต่อจากตรงนี้เป็น bold ทันที\n",
    "\n",
    "ดังนั้นโดย default Django จะทำการ escape ค่าของตัวแปรที่เอามา render ใน templage ให้อัตโนมัติ\n",
    "\n",
    "- `<` is converted to `&lt;`\n",
    "- `>` is converted to `&gt;`\n",
    "- `'` (single quote) is converted to `&#x27;`\n",
    "- `\"` (double quote) is converted to `&quot;`\n",
    "- `&` is converted to `&amp;`\n",
    "\n",
    "### How to turn it off\n",
    "\n",
    "เราสามารถปิด auto-escape ได้หลายระดับ ทั้ง per-site, per-template level หรือ per-variable level\n",
    "\n",
    "#### Variable level"
   ]
  },
  {
   "cell_type": "code",
   "execution_count": null,
   "id": "5af4a808",
   "metadata": {},
   "outputs": [],
   "source": [
    "This will be escaped: {{ data }}\n",
    "This will not be escaped: {{ data|safe }}\n",
    "\n",
    "-------\n",
    "\n",
    "This will be escaped: &lt;b&gt;\n",
    "This will not be escaped: <b>"
   ]
  },
  {
   "cell_type": "markdown",
   "id": "a7ad16ec",
   "metadata": {},
   "source": [
    "#### Template block level"
   ]
  },
  {
   "cell_type": "code",
   "execution_count": null,
   "id": "8e48f97e",
   "metadata": {},
   "outputs": [],
   "source": [
    "Auto-escaping is on by default. Hello {{ name }}\n",
    "\n",
    "{% autoescape off %}\n",
    "    This will not be auto-escaped: {{ data }}.\n",
    "\n",
    "    Nor this: {{ other_data }}\n",
    "    {% autoescape on %}\n",
    "        Auto-escaping applies again: {{ name }}\n",
    "    {% endautoescape %}\n",
    "{% endautoescape %}"
   ]
  },
  {
   "cell_type": "markdown",
   "id": "fd33a4db",
   "metadata": {},
   "source": [
    "## Accessing method calls\n",
    "\n",
    "เราสามารถเรียก function ของ instance ที่เราส่งไป render ที่ template ได้ เช่น"
   ]
  },
  {
   "cell_type": "code",
   "execution_count": null,
   "id": "05558e84",
   "metadata": {},
   "outputs": [],
   "source": [
    "{% for comment in task.comment_set.all %}\n",
    "    {{ comment }}\n",
    "{% endfor %}\n",
    "\n",
    "-------\n",
    "\n",
    "{{ task.comment_set.all.count }}"
   ]
  },
  {
   "cell_type": "markdown",
   "id": "d50226a7",
   "metadata": {},
   "source": [
    "หรือถ้าเรามีการ define method ของ class เอาไว้ เราก็สามารถเรียก method ของ instance ของ class นั้นได้ใน template"
   ]
  },
  {
   "cell_type": "code",
   "execution_count": null,
   "id": "3ee305cc",
   "metadata": {},
   "outputs": [],
   "source": [
    "<!-- in models.py -->\n",
    "class Task(models.Model):\n",
    "    def foo(self):\n",
    "        return \"bar\"\n",
    "\n",
    "-------\n",
    "\n",
    "<!-- in template.html -->\n",
    "{{ task.foo }}"
   ]
  },
  {
   "cell_type": "markdown",
   "id": "b70ce12d",
   "metadata": {},
   "source": [
    "**หมายเหตุ: แต่เราจะไม่สามารถส่ง argument เข้า function ได้นะครับใน template**\n",
    "\n",
    "## Custom tag and filter libraries\n",
    "\n",
    "เราสามารถสร้าง customer tag และ filter ได้เอง ละก็มีคนอื่นที่เขาทำ libraries ของ third-party custom tags and filters มาให้ใช้งานด้วยเช่น `humanize`\n",
    "\n",
    "วิธีติดตั้ง `humanize`:\n",
    "\n",
    "1. pip install humanize\n",
    "2. เพิ่ม 'django.contrib.humanize' ใน INSTALLED_APPS ในไฟล์ settings\n",
    "\n",
    "เช่น"
   ]
  },
  {
   "cell_type": "code",
   "execution_count": null,
   "id": "14fe6566",
   "metadata": {},
   "outputs": [],
   "source": [
    "{% load humanize %}\n",
    "\n",
    "{{ 45000|intcomma }}"
   ]
  },
  {
   "cell_type": "markdown",
   "id": "89b3b7d6",
   "metadata": {},
   "source": [
    "## How to create custom template tags and filters\n",
    "\n",
    "การสร้าง custom template tags และ filters เริ่มด้วยการสร้าง folder `templatetags` ใน app ที่เกี่ยวข้อง (สร้างไว้ระดับเดียวกับ views.py/models.py) \n",
    "\n",
    "สมมติเราจะสร้าง template tag ชื่อ poll_extras\n",
    "\n",
    "```\n",
    "polls/\n",
    "    __init__.py\n",
    "    models.py\n",
    "    templatetags/\n",
    "        __init__.py\n",
    "        poll_extras.py\n",
    "    views.py\n",
    "```\n",
    "\n",
    "การนำไปใช้งานใน template\n",
    "\n",
    "```\n",
    "{% load poll_extras %}\n",
    "```\n",
    "\n",
    "### Writing custom template filters\n",
    "\n",
    "Custom filters ก็คือ Python function ที่รับ 1 หรือ 2 arguments\n",
    "- ค่าตัวแปร input\n",
    "- ค่าตัวแปร argument ซึ่งอาจจะเป็นค่า default หรือไม่มีเลยก็ได้\n",
    "\n",
    "เช่น"
   ]
  },
  {
   "cell_type": "code",
   "execution_count": null,
   "id": "78b25894",
   "metadata": {},
   "outputs": [],
   "source": [
    "%%python\n",
    "def cut(value, arg):\n",
    "    \"\"\"Removes all values of arg from the given string\"\"\"\n",
    "    return value.replace(arg, \"\")"
   ]
  },
  {
   "cell_type": "markdown",
   "id": "724143cf",
   "metadata": {},
   "source": [
    "การเรียกใช้ใน template\n",
    "\n",
    "```\n",
    "{% load custom_filters %}\n",
    "\n",
    "{{ somevariable|cut:\"0\" }}\n",
    "```\n",
    "\n",
    "โดยถ้าจะไม่รับ argument ก็ได้ ตอนประกาศ function ก็ไม่ต้องใส่"
   ]
  },
  {
   "cell_type": "code",
   "execution_count": null,
   "id": "3a96bfb7",
   "metadata": {},
   "outputs": [],
   "source": [
    "%%python\n",
    "def lower(value):  # Only one argument.\n",
    "    \"\"\"Converts a string into all lowercase\"\"\"\n",
    "    return value.lower()"
   ]
  },
  {
   "cell_type": "markdown",
   "id": "e3c85e0f",
   "metadata": {},
   "source": [
    "#### Registering custom filters\n",
    "\n",
    "สำหรับการ register ให้ Django รู้จัก custom filter ที่เราสร้างขึ้นมาสามารถทำได้โดยใช้ `register.filter()`\n",
    "\n",
    "`register.filter()` รับ argument 2 ตัวได้แก่\n",
    "- ชื่อของ filter สำหรับใช้เรียกใน template - string\n",
    "- ตัว Python function ที่เราสร้างขึ้นมา"
   ]
  },
  {
   "cell_type": "code",
   "execution_count": null,
   "id": "0df03cb1",
   "metadata": {},
   "outputs": [],
   "source": [
    "%%python\n",
    "from django import template\n",
    "\n",
    "register = template.Library()\n",
    "\n",
    "def cut(value, arg):\n",
    "    \"\"\"Removes all values of arg from the given string\"\"\"\n",
    "    return value.replace(arg, \"\")\n",
    "\n",
    "def lower(value):  # Only one argument.\n",
    "    \"\"\"Converts a string into all lowercase\"\"\"\n",
    "    return value.lower()\n",
    "\n",
    "register.filter(\"cut\", cut)\n",
    "register.filter(\"lower\", lower)"
   ]
  },
  {
   "cell_type": "markdown",
   "id": "5bd688f6",
   "metadata": {},
   "source": [
    "หรือ register โดยใช้ decorator"
   ]
  },
  {
   "cell_type": "code",
   "execution_count": null,
   "id": "c5dff08f",
   "metadata": {},
   "outputs": [],
   "source": [
    "%%python\n",
    "@register.filter(name=\"cut\")\n",
    "def cut(value, arg):\n",
    "    return value.replace(arg, \"\")\n",
    "\n",
    "\n",
    "@register.filter\n",
    "def lower(value):\n",
    "    return value.lower()"
   ]
  },
  {
   "cell_type": "markdown",
   "id": "7364f8e8",
   "metadata": {},
   "source": [
    "### Writing custom template tags\n",
    "\n",
    "Tag จะมีความซับซ้อนมากกว่า filter เพราะเราจะทำอะไรก็ได้ โดยเราจะใช้ `library.simple_tag()` ในการ register ตัว function\n",
    "\n",
    "ยกตัวอย่างเช่นถ้าเราอยากจะเขียน template tag ที่แสดง วันที่-เวลา ปัจจุบัน"
   ]
  },
  {
   "cell_type": "code",
   "execution_count": null,
   "id": "9ae78060",
   "metadata": {},
   "outputs": [],
   "source": [
    "%%python\n",
    "import datetime\n",
    "from django import template\n",
    "\n",
    "register = template.Library()\n",
    "\n",
    "@register.simple_tag\n",
    "def current_time(format_string):\n",
    "    return datetime.datetime.now().strftime(format_string)\n",
    "\n",
    "# กำหนดชื่อ template tag\n",
    "@register.simple_tag(name=\"minustwo\")\n",
    "def some_function(value):\n",
    "    return value - 2\n",
    "\n",
    "# สามารถรับ arguments กี่ตัวก็ได้\n",
    "@register.simple_tag\n",
    "def my_tag(a, b, *args, **kwargs):\n",
    "    warning = kwargs[\"warning\"]\n",
    "    profile = kwargs[\"profile\"]\n",
    "    ...\n",
    "    return ..."
   ]
  },
  {
   "cell_type": "markdown",
   "id": "6b64ea39",
   "metadata": {},
   "source": [
    "การเรียกใช้ใน template\n",
    "\n",
    "```\n",
    "{% load custom_tags %}\n",
    "\n",
    "{% my_tag 123 \"abcd\" book.title warning=message|lower profile=user.profile %}\n",
    "```\n",
    "\n",
    "สามารถเก็บค่าที่ได้รับจาก template tag ในตัวแปรได้\n",
    "\n",
    "```\n",
    "{% current_time \"%Y-%m-%d %I:%M %p\" as the_time %}\n",
    "<p>The time is {{ the_time }}.</p>\n",
    "```\n"
   ]
  }
 ],
 "metadata": {
  "jupytext": {
   "cell_metadata_filter": "-all",
   "main_language": "html",
   "notebook_metadata_filter": "-all"
  }
 },
 "nbformat": 4,
 "nbformat_minor": 5
}
