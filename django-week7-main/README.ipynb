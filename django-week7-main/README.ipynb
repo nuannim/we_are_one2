{
 "cells": [
  {
   "cell_type": "markdown",
   "id": "57984152",
   "metadata": {},
   "source": [
    "# WEEK7 - The Views\n",
    "\n",
    "หลังจากที่เราได้เรียนเกี่ยวกับ Models ไปอย่างละเอียดแล้ว วันนี้เราจะมาเรียนเกี่ยวกับส่วนทำคัญอีกส่วนของ concept **MVT** ซึ่งก็คือส่วนของ Views กันนะครับ\n",
    "\n",
    "# URL dispatcher\n",
    "\n",
    "[Django document](https://docs.djangoproject.com/en/5.0/topics/http/urls/)\n",
    "\n",
    "เคยเจอ website ที่มี URL path ยาวๆ และอ่านไม่รู้เรื่องไหมครับ website ที่ดีควรมี URL path ที่อ่านรู้เรื่อง และ ไม่ยาวจนเกินไป ในหัวข้อนี้เราจะเรียนรู้เกี่ยวกับการออกแบบและกำหนด URL path ใน project Django กันนะครับ\n",
    "\n",
    "## How Django processes a request"
   ]
  },
  {
   "cell_type": "code",
   "execution_count": null,
   "id": "c13a8aa3",
   "metadata": {},
   "outputs": [],
   "source": [
    "from django.urls import path\n",
    "\n",
    "from . import views\n",
    "\n",
    "urlpatterns = [\n",
    "    path(\"articles/2003/\", views.special_case_2003),\n",
    "    path(\"articles/<int:year>/\", views.year_archive),\n",
    "    path(\"articles/<int:year>/<int:month>/\", views.month_archive),\n",
    "    path(\"articles/<int:year>/<int:month>/<slug:slug>/\", views.article_detail),\n",
    "]"
   ]
  },
  {
   "cell_type": "markdown",
   "id": "79910b6b",
   "metadata": {},
   "source": [
    "ตัวอย่างการทำงาน\n",
    "\n",
    "- ถ้ามี request มาที่ path `/articles/2005/03/` จะ match path ที่ 3 ซึ่งเรียก \"views.month_archive\"\n",
    "- ถ้ามี request มาที่ path `/articles/2003/` จะ match path ที่ 1 ซึ่งเรียก \"views.special_case_2003\"\n",
    "- แต่ว่า `/articles/2003` จะไม่ match เลยเพราะไม่มี '/'\n",
    "- ส่วน `/articles/2003/03/building-a-django-site/` จะ match path สุดท้าย ซึ่งเรียก \"views.article_detail\"\n",
    "\n",
    "**Note: ไม่จำเป็นจะต้องมี / ตอนต้นของ path และควรปิดท้ายด้วย / เสมอ**\n",
    "\n",
    "## Path converters\n",
    "\n",
    "Django มี path converter ให้ใช้งานดังนี้:\n",
    "\n",
    "- **str** - Matches any non-empty string, excluding the path separator, '/'. - ซึ่งจะเป็นค่า default ถ้าไม่มีการกำหนด\n",
    "- **int** - Matches zero or any positive integer. Returns an int.\n",
    "- **slug** - Matches any slug string consisting of ASCII letters or numbers (สามารถใช้ '-' และ '_') เช่น building-your-1st-django-site.\n",
    "- **uuid** - Matches a formatted UUID (จะต้่องมี '-' และตัวอักษรเป็นตัวเล็กทุกตัว) เช่น 075194d3-6885-417e-a8a8-6c931e272f00 โดยค่าที่ได้รับใน view จะเป็น instance ของ UUID\n",
    "- **path** - Matches any non-empty string, including the path separator, '/'.\n",
    "\n",
    "## Using regular expressions\n",
    "\n",
    "ถ้าต้องการใช้ regex ในการกำหนด URL สามารทำได้โดยใช้ `re_path()` แทน `path()`\n",
    "\n",
    "โดย format จะเป็น \"(?P<name>pattern)\" โดยที่ `name` คือเป็นชื่อตัวแปร และ `pattern` เป็น pattern ที่ต้องการ match"
   ]
  },
  {
   "cell_type": "code",
   "execution_count": null,
   "id": "b9c0d80a",
   "metadata": {},
   "outputs": [],
   "source": [
    "from django.urls import path, re_path\n",
    "\n",
    "from . import views\n",
    "\n",
    "urlpatterns = [\n",
    "    path(\"articles/2003/\", views.special_case_2003),\n",
    "    re_path(r\"^articles/(?P<year>[0-9]{4})/$\", views.year_archive),\n",
    "    re_path(r\"^articles/(?P<year>[0-9]{4})/(?P<month>[0-9]{2})/$\", views.month_archive),\n",
    "    re_path(\n",
    "        r\"^articles/(?P<year>[0-9]{4})/(?P<month>[0-9]{2})/(?P<slug>[\\w-]+)/$\",\n",
    "        views.article_detail,\n",
    "    ),\n",
    "]"
   ]
  },
  {
   "cell_type": "markdown",
   "id": "9a405e36",
   "metadata": {},
   "source": [
    "## Including other URLconfs\n",
    "\n",
    "โดยปกติเราจะแบ่งไฟล์ urls.py ไปอยู่แต่ละ app เพื่อความเป็นสัดส่วน ดังนั้นเราสามารถใช้่ `include()` ในการบอก Django ได้ว่าให้ไป match URL ที่ไฟล์ไหน"
   ]
  },
  {
   "cell_type": "code",
   "execution_count": null,
   "id": "28fccaae",
   "metadata": {
    "lines_to_next_cell": 2
   },
   "outputs": [],
   "source": [
    "from django.urls import include, path\n",
    "\n",
    "urlpatterns = [\n",
    "    # ... snip ...\n",
    "    path(\"shop/\", include(\"shop.urls\")),\n",
    "    path(\"contact/\", include(\"contact.urls\")),\n",
    "    # ... snip ...\n",
    "]"
   ]
  },
  {
   "cell_type": "markdown",
   "id": "2b8ce53d",
   "metadata": {},
   "source": [
    "*เรามาเริ่มทำ TUTORIAL กันเลย ไปที่ไฟล์ `tutorial.md`*"
   ]
  }
 ],
 "metadata": {
  "jupytext": {
   "cell_metadata_filter": "-all",
   "main_language": "python",
   "notebook_metadata_filter": "-all"
  }
 },
 "nbformat": 4,
 "nbformat_minor": 5
}
